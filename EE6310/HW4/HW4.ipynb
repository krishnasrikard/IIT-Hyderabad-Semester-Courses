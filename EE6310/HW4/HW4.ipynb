{
 "cells": [
  {
   "cell_type": "markdown",
   "metadata": {},
   "source": [
    "# EE6310 - Image and Video Processing\n",
    "Homework-4"
   ]
  },
  {
   "cell_type": "markdown",
   "metadata": {},
   "source": [
    "## Imports"
   ]
  },
  {
   "cell_type": "markdown",
   "metadata": {},
   "source": [
    "### Importing Libraries"
   ]
  },
  {
   "cell_type": "code",
   "execution_count": 1,
   "metadata": {},
   "outputs": [
    {
     "name": "stdout",
     "output_type": "stream",
     "text": [
      "Defaulting to user installation because normal site-packages is not writeable\n",
      "Requirement already satisfied: tqdm in /home/krishna/.local/lib/python3.6/site-packages (4.61.2)\n",
      "\u001b[33mWARNING: You are using pip version 21.2.4; however, version 21.3.1 is available.\n",
      "You should consider upgrading via the '/usr/bin/python3 -m pip install --upgrade pip' command.\u001b[0m\n"
     ]
    },
    {
     "data": {
      "text/html": [
       "<style>.container { width:100% !important; }</style>"
      ],
      "text/plain": [
       "<IPython.core.display.HTML object>"
      ]
     },
     "metadata": {},
     "output_type": "display_data"
    }
   ],
   "source": [
    "import numpy as np\n",
    "import matplotlib.pyplot as plt\n",
    "import random\n",
    "np.random.seed(3)\n",
    "import warnings\n",
    "warnings.filterwarnings('ignore')\n",
    "!pip3 install tqdm\n",
    "from tqdm import tqdm\n",
    "\n",
    "\n",
    "from IPython.core.display import display, HTML\n",
    "display(HTML(\"<style>.container { width:100% !important; }</style>\"))"
   ]
  },
  {
   "cell_type": "markdown",
   "metadata": {},
   "source": [
    "## Dataset\n",
    "\n",
    "**Assumptions:**\n",
    "- Variance of Gaussian Noise ($\\sigma^2$) = 0.0001\n",
    "- No.of samples in dataset ($N$) = 1000\n",
    "- No.of training samples = 0.8 $\\times $ N = 800\n",
    "- No.of validation smaples = 0.2 $\\times $ N = 200"
   ]
  },
  {
   "cell_type": "markdown",
   "metadata": {},
   "source": [
    "### Functions\n",
    "- Function that perturbs the inputs\n",
    "- Function that splits dataset to training and validation datasets\n",
    "- Function that generates inputs"
   ]
  },
  {
   "cell_type": "markdown",
   "metadata": {},
   "source": [
    "#### Function that perturbs the inputs"
   ]
  },
  {
   "cell_type": "code",
   "execution_count": 2,
   "metadata": {},
   "outputs": [],
   "source": [
    "def PerturbInput(X):\n",
    "\t# Parameters of Gaussian Noise\n",
    "\tmu = 0\n",
    "\tsigma = np.sqrt(0.0001)\n",
    "\n",
    "\tNoise = np.random.normal(loc=mu, scale=sigma, size=X.shape)\n",
    "\tX_Perturbed = X + Noise\n",
    "\n",
    "\treturn X_Perturbed"
   ]
  },
  {
   "cell_type": "markdown",
   "metadata": {},
   "source": [
    "#### Function that splits dataset to training and validation datasets"
   ]
  },
  {
   "cell_type": "code",
   "execution_count": 3,
   "metadata": {},
   "outputs": [],
   "source": [
    "def SplitData(X,y,SplitRatio):\n",
    "\t\"\"\"\n",
    "\tSplitRatio: Percentage of validation samples.\n",
    "\t\"\"\"\n",
    "\tassert(X.shape[0] == y.shape[0])\n",
    "\n",
    "\tN = X.shape[0]\n",
    "\tTrainIndices = np.random.choice(N, size=int(N*(1-SplitRatio)), replace=False)\n",
    "\tValidIndices = np.array(list(set(np.arange(N)) - set(TrainIndices)))\n",
    "\n",
    "\tX_Train, y_Train = X[TrainIndices], y[TrainIndices]\n",
    "\tX_Valid, y_Valid = X[ValidIndices], y[ValidIndices]\n",
    "\n",
    "\treturn X_Train, y_Train, X_Valid, y_Valid\t"
   ]
  },
  {
   "cell_type": "markdown",
   "metadata": {},
   "source": [
    "#### Function that generates inputs"
   ]
  },
  {
   "cell_type": "code",
   "execution_count": 4,
   "metadata": {},
   "outputs": [],
   "source": [
    "def GenerateDatasets(N,Operator,SplitRatio):\n",
    "\t\"\"\"\n",
    "\tN: No.of Samples\n",
    "    Operator: Boolean Operation\n",
    "    \"\"\"\n",
    "\tX = np.round(np.random.uniform(0,1,(N,2)))\n",
    "\n",
    "\tif Operator == 'AND':\n",
    "\t\ty = np.logical_and(np.round(X[:,0]),np.round(X[:,1])).astype(int)\n",
    "\n",
    "\tif Operator == 'OR':\n",
    "\t\ty = np.logical_or(np.round(X[:,0]),np.round(X[:,1])).astype(int)\n",
    "\n",
    "\tif Operator == 'XOR':\n",
    "\t\ty = np.logical_xor(np.round(X[:,0]),np.round(X[:,1])).astype(int)\n",
    "\n",
    "\treturn SplitData(PerturbInput(X), y,SplitRatio)"
   ]
  },
  {
   "cell_type": "markdown",
   "metadata": {},
   "source": [
    "## Multilayer Perceptron Model\n",
    "Building a Multilayer Perceptron Model. We consider only one hidden layer.\n",
    "\n",
    "### Specifications:\n",
    "1. **Input Nodes**: L (Changes dynamically with according to inputs).\n",
    "2. **Hidden Layers**: 1\n",
    "3. **Nodes in Hidden Layer**: M\n",
    "4. **Output Nodes**: K (Changes dynamically with according to targets).\n",
    "5. **Activation Function ($\\sigma$)**: Sigmoid\n",
    "6. **Loss Function**: SE(Squared Error)\n",
    "7. **Optimizer**: Batch Gradient Descent with batch_size = $k$ and learning_rate = $\\alpha$\n",
    "\n",
    "---\n",
    "\n",
    "### Forward Propagation:\n",
    "$\\begin{align*}\n",
    "\tA_1 = XW_1 + b_1 \\\\\n",
    "\tH_1 = \\sigma(A_1) \\\\\n",
    "\tA_2 = H_1W_2 + b_2 \\\\\n",
    "\t\\hat{Y} = H_2 = \\sigma(A_2)\n",
    "\\end{align*}$\n",
    "\n",
    "### Activation Function:\n",
    "$\\begin{align*}\n",
    "    \\sigma(x) = \\frac{1}{1 + e^{-x}}\n",
    "\\end{align*}$\n",
    "\n",
    "### Loss Function:\n",
    "$\\begin{align*}\n",
    "    L = \\frac{1}{k}\\|Y - \\hat{Y}\\|^2 \n",
    "\\end{align*}$\n",
    "\n",
    "### Back Propagation:\n",
    "$\\begin{align*}\n",
    "    \\frac{\\partial{L}}{\\partial{H_2}} = \\frac{2}{k}(H_2 - Y)\\\\\n",
    "    \\frac{\\partial{L}}{\\partial{A_2}} = \\frac{\\partial{L}}{\\partial{H_2}} \\odot \\sigma(A_2)(1-\\sigma(A_2)) = \\frac{\\partial{L}}{\\partial{H_2}} \\odot H_2(1-H_2) \\\\\n",
    "    \\frac{\\partial{L}}{\\partial{W_2}} = H_1^T \\frac{\\partial{L}}{\\partial{A_2}} \\\\\n",
    "    \\frac{\\partial{L}}{\\partial{b_2}} = \\sum \\frac{\\partial{L}}{\\partial{A_2}} \\\\\n",
    "    \\\\\n",
    "    \\frac{\\partial{L}}{\\partial{H_1}} = \\frac{\\partial{L}}{\\partial{A_2}}W_2^T\\\\\n",
    "    \\frac{\\partial{L}}{\\partial{A_1}} = \\frac{\\partial{L}}{\\partial{H_1}} \\odot \\sigma(A_1)(1-\\sigma(A_1)) = \\frac{\\partial{L}}{\\partial{H_1}} \\odot H_1(1-H_1) \\\\\n",
    "    \\frac{\\partial{L}}{\\partial{W_1}} = X^T \\frac{\\partial{L}}{\\partial{A_1}} \\\\\n",
    "    \\frac{\\partial{L}}{\\partial{b_1}} = \\sum \\frac{\\partial{L}}{\\partial{A_1}}\n",
    "\\end{align*}$\n",
    "\n",
    "### Update Parameters:\n",
    "\n",
    "$\\begin{align*}\n",
    "    W_2 = W_2 - \\alpha(\\frac{\\partial{L}}{\\partial{W_2}})\\\\\n",
    "    b_2 = b_2 - \\alpha(\\frac{\\partial{L}}{\\partial{b_2}})\\\\\n",
    "    W_1 = W_1 - \\alpha(\\frac{\\partial{L}}{\\partial{W_1}})\\\\\n",
    "    b_1 = b_1 - \\alpha(\\frac{\\partial{L}}{\\partial{b_1}})\n",
    "\\end{align*}$\n",
    "\n",
    "\n",
    "**Note**:\n",
    "- The terms dP in code indicate $\\frac{\\partial{L}}{\\partial{P}}$ i.e partial deravative of doss ($L$) wrt parameter ($P$)."
   ]
  },
  {
   "cell_type": "code",
   "execution_count": 5,
   "metadata": {},
   "outputs": [],
   "source": [
    "class MLP:\n",
    "\t\"\"\"\n",
    "\tConsidering no.of Hidden Layers = 1\n",
    "\t\"\"\"\n",
    "\tdef __init__(self,M):\n",
    "\t\t# Model Specifications\n",
    "\t\tself.L = None\n",
    "\t\tself.M = M\n",
    "\t\tself.K = None\n",
    "\t\tself.N = None\n",
    "\t\tself.TrainLossData = []\n",
    "\t\tself.ValidLossData = []\n",
    "\t\t\n",
    "\t\t\n",
    "\tdef PrintParameters(self):\n",
    "\t\t# Print all Parameters\n",
    "\t\tprint (\"self.W1\", self.W1)\n",
    "\t\tprint (\"self.b1\", self.b1)\n",
    "\t\tprint (\"self.A1\", self.A1)\n",
    "\t\tprint (\"self.H1\", self.H1)\n",
    "\n",
    "\t\tprint (\"self.W2\", self.W2)\n",
    "\t\tprint (\"self.b2\", self.b2)\n",
    "\t\tprint (\"self.A2\", self.A2)\n",
    "\t\tprint (\"self.H2\", self.H2)\n",
    "\n",
    "\t\tprint (\"self.dW1\", self.dW1)\n",
    "\t\tprint (\"self.db1\", self.db1)\n",
    "\t\tprint (\"self.dA1\", self.dA1)\n",
    "\t\tprint (\"self.dH1\", self.dH1)\n",
    "\n",
    "\t\tprint (\"self.dW2\", self.dW2)\n",
    "\t\tprint (\"self.db2\", self.db2)\n",
    "\t\tprint (\"self.dA2\", self.dA2)\n",
    "\t\tprint (\"self.dH2\", self.dH2)\n",
    "\n",
    "\n",
    "\tdef InitializeParameters(self):\n",
    "\t\t# Model Parameters\n",
    "\t\tself.W1 = np.random.randn(self.L,self.M)\n",
    "\t\tself.b1 = np.random.randn(1,self.M)\n",
    "\t\t\n",
    "\t\tself.W2 = np.random.randn(self.M,self.K)\n",
    "\t\tself.b2 = np.random.randn(1,self.K)\n",
    "\n",
    "\n",
    "\tdef ActivationFunction(self,I):\n",
    "\t\t# Sigmoid Activation Function\n",
    "\t\treturn np.divide(1.0,(1.0 + np.exp(-I)))\n",
    "\n",
    "\n",
    "\tdef GradientActivation(self,I):\n",
    "\t\t# Gradient of Sigmoid Activation Function where 'I' denotes output of sigmoid.\n",
    "\t\treturn I * (1.0 - I)\n",
    "\n",
    "\n",
    "\tdef Loss(self, y_true, y_pred):\n",
    "\t\treturn (np.sum(np.square(y_true - y_pred))/y_true.shape[0])\n",
    "\t\t\n",
    "\t\t\n",
    "\tdef ForwardPropagation(self,X):\n",
    "\t\t# Forward Propagation\n",
    "\t\tself.A1 = np.matmul(X,self.W1) + self.b1\n",
    "\t\tself.H1 = self.ActivationFunction(self.A1)\n",
    "\t\tself.A2 = np.matmul(self.H1,self.W2) + self.b2\n",
    "\t\tself.H2 = self.ActivationFunction(self.A2)\n",
    "\t\t\n",
    "\t\treturn self.H2\n",
    "\n",
    "\n",
    "\tdef BackPropagation(self, X, y_pred):\n",
    "\t\t# Back Propagation\n",
    "\t\tself.dH2 = 2*(self.H2 - y_pred)/y_pred.shape[0]\n",
    "\t\t\t\n",
    "\t\tself.dA2 = np.multiply(self.dH2, self.GradientActivation(self.H2))\n",
    "\t\tself.dW2 = np.matmul(self.H1.T, self.dA2)\n",
    "\t\tself.db2 = np.sum(self.dA2, axis=0).reshape(1,-1)\n",
    "\t\t\n",
    "\t\tself.dH1 = np.matmul(self.dA2,self.W2.T) \n",
    "\t\tself.dA1 = np.multiply(self.dH1, self.GradientActivation(self.H1))\n",
    "\t\tself.dW1 = np.matmul(X.T, self.dA1)\n",
    "\t\tself.db1 = np.sum(self.dA1, axis=0).reshape(1,-1)\n",
    "\t\t\t\n",
    "\t\t\n",
    "\tdef UpdateParameters(self):\n",
    "\t\t# Updating Parameters using Gradient Descent\n",
    "\t\tself.W1 -= (self.lr * self.dW1)\n",
    "\t\tself.b1 -= (self.lr * self.db1)\n",
    "\n",
    "\t\tself.W2 -= (self.lr * self.dW2)\n",
    "\t\tself.b2 -= (self.lr * self.db2)\n",
    "\n",
    "\n",
    "\tdef step(self, X, y, batch_size, training):\n",
    "\t\tif training == True:\n",
    "\t\t\tdescription = \"train_step\"\n",
    "\t\telse:\n",
    "\t\t\tdescription = \"valid_step\"\n",
    "\n",
    "\n",
    "\t\tSteps = X.shape[0]//batch_size\n",
    "\t\tl = []\n",
    "\t\tfor j in tqdm(range(Steps), desc=description, leave=True):\n",
    "\t\t\tif batch_size == 1:\n",
    "\t\t\t\tI = np.expand_dims(X[j],axis=0)\n",
    "\t\t\t\tO = np.expand_dims(y[j],axis=0)\n",
    "\t\t\telse:\n",
    "\t\t\t\tI = X[j*batch_size:(j+1)*batch_size]\n",
    "\t\t\t\tO = y[j*batch_size:(j+1)*batch_size]\n",
    "\n",
    "\t\t\tself.ForwardPropagation(I)\n",
    "\t\t\tl.append(self.Loss(O, self.H2))\n",
    "\n",
    "\t\t\tif training == True:\n",
    "\t\t\t\tself.BackPropagation(I,O)\n",
    "\t\t\t\tself.UpdateParameters()\n",
    "\n",
    "\t\treturn np.round(np.mean(l), decimals=5)\n",
    "\t\t\n",
    "\n",
    "\tdef fit(self, X_Train, y_Train, epochs, batch_size, lr, validation_data=None, shuffle=True, LoadWeights=False, LoadWeightsPath=None, SaveWeights=False, SaveWeightsPath=None):\n",
    "\t\t# Training the Model\n",
    "\n",
    "\t\t# Training Data\n",
    "\t\tself.X_Train = X_Train\n",
    "\t\tif len(y_Train.shape) == 1:\n",
    "\t\t\tself.y_Train = np.expand_dims(y_Train,axis=-1)\n",
    "\t\telse:\n",
    "\t\t\tself.y_Train = y_Train\n",
    "\n",
    "\t\t# Validation Data\n",
    "\t\tif validation_data != None:\n",
    "\t\t\tself.X_Valid = validation_data[0]\n",
    "\t\t\tif len(validation_data[1].shape) == 1:\n",
    "\t\t\t\tself.y_Valid = np.expand_dims(validation_data[1],axis=-1)\n",
    "\t\t\telse:\n",
    "\t\t\t\tself.y_Valid = validation_data[1]\n",
    "\n",
    "\t\t# Setting Model Architecture\n",
    "\t\tself.N = self.X_Train.shape[0]\n",
    "\t\tself.L = self.X_Train.shape[1]\n",
    "\t\tself.K = self.y_Train.shape[1]\n",
    "\t\t\n",
    "\t\t# Setting Learning Rate\n",
    "\t\tself.lr = lr\n",
    "\t\t\t\t\n",
    "\t\t# Initializing or Loading Weights\n",
    "\t\tif LoadWeights == False:\n",
    "\t\t\tself.InitializeParameters()\n",
    "\t\telif LoadWeights == True and LoadWeightsPath == None:\n",
    "\t\t\traise RuntimeError(\"No path provided to load weights\")\n",
    "\t\telse:\n",
    "\t\t\tself.W1 = np.load(LoadWeightsPath + \"/W1.npy\")\n",
    "\t\t\tself.b1 = np.load(LoadWeightsPath + \"/b1.npy\")\n",
    "\t\t\tself.W2 = np.load(LoadWeightsPath + \"/W2.npy\")\n",
    "\t\t\tself.b2 = np.load(LoadWeightsPath + \"/b2.npy\")\n",
    "\t\t\n",
    "\t\t# Starting training the Model\n",
    "\t\tfor i in range(epochs):\n",
    "\t\t\tif shuffle == True:\n",
    "\t\t\t\tind = np.random.choice(self.N, size=self.N, replace=False)\n",
    "\t\t\t\tself.X_Train = self.X_Train[ind]\n",
    "\t\t\t\tself.y_Train = self.y_Train[ind]\t\t\t\n",
    "\n",
    "\t\t\t# Training\n",
    "\t\t\ttl = self.step(self.X_Train, self.y_Train, batch_size, True)\n",
    "\t\t\tself.TrainLossData.append(tl)\n",
    "\n",
    "\t\t\t# Validation\n",
    "\t\t\tif validation_data != None:\n",
    "\t\t\t\tvl = self.step(self.X_Valid, self.y_Valid, batch_size, False)\n",
    "\t\t\t\tself.ValidLossData.append(vl)\n",
    "\t\t\t\n",
    "\t\t\t# Printing Results\n",
    "\t\t\tif validation_data != None:\n",
    "\t\t\t\tprint (\"Epoch: %-*s  loss: %-*s val_loss: %-*s\" % (6,i+1,12,tl,12,vl))\n",
    "\t\t\telse:\n",
    "\t\t\t\tprint (\"Epoch: %-*s  loss: %-*s\" % (6,i+1,18,tl))\n",
    "\t\t\tprint ()\n",
    "\n",
    "\t\t# Saving Weights\t\n",
    "\t\tif SaveWeightsPath != None and SaveWeights == True:\n",
    "\t\t\tnp.save(SaveWeightsPath + \"/W1.npy\", self.W1)\n",
    "\t\t\tnp.save(SaveWeightsPath + \"/b1.npy\", self.b1)\n",
    "\t\t\tnp.save(SaveWeightsPath + \"/W2.npy\", self.W2)\n",
    "\t\t\tnp.save(SaveWeightsPath + \"/b2.npy\", self.b2)\n",
    "\n",
    "\n",
    "\tdef PlotLoss(self):\n",
    "\t\t# Plotting Loss\n",
    "\t\tplt.figure(figsize=(6,6))\n",
    "\t\tplt.plot(self.TrainLossData,'blue',label=\"Training Loss\")\n",
    "\t\tif len(self.ValidLossData) > 0:\n",
    "\t\t\tplt.plot(self.ValidLossData,'orange',label=\"Validation Loss\")\n",
    "\t\tplt.xlabel(\"Epochs\")\n",
    "\t\tplt.ylabel(\"Loss\")\n",
    "\t\tplt.title(\"Loss Function\")\n",
    "\t\tplt.grid()\n",
    "\t\tplt.legend()\n",
    "\t\tplt.show()\n",
    "\n",
    "\n",
    "\tdef loadWeights(self,LoadWeightsPath):\n",
    "\t\t# Load Weights of Model\n",
    "\t\tself.W1 = np.load(LoadWeightsPath + \"/W1.npy\")\n",
    "\t\tself.b1 = np.load(LoadWeightsPath + \"/b1.npy\")\n",
    "\t\tself.W2 = np.load(LoadWeightsPath + \"/W2.npy\")\n",
    "\t\tself.b2 = np.load(LoadWeightsPath + \"/b2.npy\")\n",
    "\n",
    "\n",
    "\tdef predict(self,X):\n",
    "\t\t# Predicting from Data\n",
    "\t\treturn self.ForwardPropagation(X)"
   ]
  },
  {
   "cell_type": "markdown",
   "metadata": {},
   "source": [
    "## Q1"
   ]
  },
  {
   "cell_type": "markdown",
   "metadata": {},
   "source": [
    "### 1a: XOR"
   ]
  },
  {
   "cell_type": "markdown",
   "metadata": {},
   "source": [
    "- Generating Data\n",
    "- Setting Training Parameters\n",
    "- Creating Model"
   ]
  },
  {
   "cell_type": "code",
   "execution_count": 6,
   "metadata": {},
   "outputs": [],
   "source": [
    "# Generating Data\n",
    "X_Train, y_Train, X_Valid, y_Valid = GenerateDatasets(2500, \"XOR\", 0.2)\n",
    "\n",
    "# Training Data\n",
    "batch_size = 8\n",
    "epochs = 100\n",
    "lr = 0.05\n",
    "\n",
    "# Creating Model\n",
    "XOR_Model = MLP(2)"
   ]
  },
  {
   "cell_type": "markdown",
   "metadata": {},
   "source": [
    "Training Model"
   ]
  },
  {
   "cell_type": "code",
   "execution_count": 7,
   "metadata": {},
   "outputs": [
    {
     "name": "stderr",
     "output_type": "stream",
     "text": [
      "train_step: 100%|██████████| 250/250 [00:00<00:00, 9480.80it/s]\n",
      "valid_step: 100%|██████████| 62/62 [00:00<00:00, 27896.04it/s]\n"
     ]
    },
    {
     "name": "stdout",
     "output_type": "stream",
     "text": [
      "Epoch: 1       loss: 0.24383      val_loss: 0.24171     \n",
      "\n"
     ]
    },
    {
     "name": "stderr",
     "output_type": "stream",
     "text": [
      "train_step: 100%|██████████| 250/250 [00:00<00:00, 11084.66it/s]\n",
      "valid_step: 100%|██████████| 62/62 [00:00<00:00, 24210.67it/s]\n"
     ]
    },
    {
     "name": "stdout",
     "output_type": "stream",
     "text": [
      "Epoch: 2       loss: 0.24209      val_loss: 0.24021     \n",
      "\n"
     ]
    },
    {
     "name": "stderr",
     "output_type": "stream",
     "text": [
      "train_step: 100%|██████████| 250/250 [00:00<00:00, 10394.08it/s]\n",
      "valid_step: 100%|██████████| 62/62 [00:00<00:00, 25375.38it/s]\n"
     ]
    },
    {
     "name": "stdout",
     "output_type": "stream",
     "text": [
      "Epoch: 3       loss: 0.24073      val_loss: 0.2383      \n",
      "\n"
     ]
    },
    {
     "name": "stderr",
     "output_type": "stream",
     "text": [
      "train_step: 100%|██████████| 250/250 [00:00<00:00, 10995.74it/s]\n",
      "valid_step: 100%|██████████| 62/62 [00:00<00:00, 28842.82it/s]\n"
     ]
    },
    {
     "name": "stdout",
     "output_type": "stream",
     "text": [
      "Epoch: 4       loss: 0.23942      val_loss: 0.23786     \n",
      "\n"
     ]
    },
    {
     "name": "stderr",
     "output_type": "stream",
     "text": [
      "train_step: 100%|██████████| 250/250 [00:00<00:00, 11892.93it/s]\n",
      "valid_step: 100%|██████████| 62/62 [00:00<00:00, 27486.19it/s]\n"
     ]
    },
    {
     "name": "stdout",
     "output_type": "stream",
     "text": [
      "Epoch: 5       loss: 0.23767      val_loss: 0.23589     \n",
      "\n"
     ]
    },
    {
     "name": "stderr",
     "output_type": "stream",
     "text": [
      "train_step: 100%|██████████| 250/250 [00:00<00:00, 11880.27it/s]\n",
      "valid_step: 100%|██████████| 62/62 [00:00<00:00, 30957.96it/s]\n"
     ]
    },
    {
     "name": "stdout",
     "output_type": "stream",
     "text": [
      "Epoch: 6       loss: 0.23558      val_loss: 0.23433     \n",
      "\n"
     ]
    },
    {
     "name": "stderr",
     "output_type": "stream",
     "text": [
      "train_step: 100%|██████████| 250/250 [00:00<00:00, 14460.72it/s]\n",
      "valid_step: 100%|██████████| 62/62 [00:00<00:00, 30855.11it/s]\n"
     ]
    },
    {
     "name": "stdout",
     "output_type": "stream",
     "text": [
      "Epoch: 7       loss: 0.23358      val_loss: 0.231       \n",
      "\n"
     ]
    },
    {
     "name": "stderr",
     "output_type": "stream",
     "text": [
      "train_step: 100%|██████████| 250/250 [00:00<00:00, 15624.27it/s]\n",
      "valid_step: 100%|██████████| 62/62 [00:00<00:00, 39460.83it/s]\n"
     ]
    },
    {
     "name": "stdout",
     "output_type": "stream",
     "text": [
      "Epoch: 8       loss: 0.23084      val_loss: 0.22824     \n",
      "\n"
     ]
    },
    {
     "name": "stderr",
     "output_type": "stream",
     "text": [
      "train_step: 100%|██████████| 250/250 [00:00<00:00, 17692.41it/s]\n",
      "valid_step: 100%|██████████| 62/62 [00:00<00:00, 36057.52it/s]\n"
     ]
    },
    {
     "name": "stdout",
     "output_type": "stream",
     "text": [
      "Epoch: 9       loss: 0.22776      val_loss: 0.22423     \n",
      "\n"
     ]
    },
    {
     "name": "stderr",
     "output_type": "stream",
     "text": [
      "train_step: 100%|██████████| 250/250 [00:00<00:00, 13143.01it/s]\n",
      "valid_step: 100%|██████████| 62/62 [00:00<00:00, 29042.53it/s]\n"
     ]
    },
    {
     "name": "stdout",
     "output_type": "stream",
     "text": [
      "Epoch: 10      loss: 0.22435      val_loss: 0.2205      \n",
      "\n"
     ]
    },
    {
     "name": "stderr",
     "output_type": "stream",
     "text": [
      "train_step: 100%|██████████| 250/250 [00:00<00:00, 15671.21it/s]\n",
      "valid_step: 100%|██████████| 62/62 [00:00<00:00, 36304.18it/s]\n"
     ]
    },
    {
     "name": "stdout",
     "output_type": "stream",
     "text": [
      "Epoch: 11      loss: 0.22038      val_loss: 0.21742     \n",
      "\n"
     ]
    },
    {
     "name": "stderr",
     "output_type": "stream",
     "text": [
      "train_step: 100%|██████████| 250/250 [00:00<00:00, 15228.98it/s]\n",
      "valid_step: 100%|██████████| 62/62 [00:00<00:00, 36354.93it/s]\n"
     ]
    },
    {
     "name": "stdout",
     "output_type": "stream",
     "text": [
      "Epoch: 12      loss: 0.2161       val_loss: 0.21135     \n",
      "\n"
     ]
    },
    {
     "name": "stderr",
     "output_type": "stream",
     "text": [
      "train_step: 100%|██████████| 250/250 [00:00<00:00, 16666.55it/s]\n",
      "valid_step: 100%|██████████| 62/62 [00:00<00:00, 39884.49it/s]\n"
     ]
    },
    {
     "name": "stdout",
     "output_type": "stream",
     "text": [
      "Epoch: 13      loss: 0.21138      val_loss: 0.20615     \n",
      "\n"
     ]
    },
    {
     "name": "stderr",
     "output_type": "stream",
     "text": [
      "train_step: 100%|██████████| 250/250 [00:00<00:00, 16968.07it/s]\n",
      "valid_step: 100%|██████████| 62/62 [00:00<00:00, 36964.73it/s]\n"
     ]
    },
    {
     "name": "stdout",
     "output_type": "stream",
     "text": [
      "Epoch: 14      loss: 0.20625      val_loss: 0.20152     \n",
      "\n"
     ]
    },
    {
     "name": "stderr",
     "output_type": "stream",
     "text": [
      "train_step: 100%|██████████| 250/250 [00:00<00:00, 15949.86it/s]\n",
      "valid_step: 100%|██████████| 62/62 [00:00<00:00, 39574.93it/s]\n"
     ]
    },
    {
     "name": "stdout",
     "output_type": "stream",
     "text": [
      "Epoch: 15      loss: 0.20067      val_loss: 0.19484     \n",
      "\n"
     ]
    },
    {
     "name": "stderr",
     "output_type": "stream",
     "text": [
      "train_step: 100%|██████████| 250/250 [00:00<00:00, 16174.99it/s]\n",
      "valid_step: 100%|██████████| 62/62 [00:00<00:00, 38935.00it/s]\n"
     ]
    },
    {
     "name": "stdout",
     "output_type": "stream",
     "text": [
      "Epoch: 16      loss: 0.19455      val_loss: 0.18903     \n",
      "\n"
     ]
    },
    {
     "name": "stderr",
     "output_type": "stream",
     "text": [
      "train_step: 100%|██████████| 250/250 [00:00<00:00, 17390.76it/s]\n",
      "valid_step: 100%|██████████| 62/62 [00:00<00:00, 36319.39it/s]\n"
     ]
    },
    {
     "name": "stdout",
     "output_type": "stream",
     "text": [
      "Epoch: 17      loss: 0.1884       val_loss: 0.18352     \n",
      "\n"
     ]
    },
    {
     "name": "stderr",
     "output_type": "stream",
     "text": [
      "train_step: 100%|██████████| 250/250 [00:00<00:00, 13626.36it/s]\n",
      "valid_step: 100%|██████████| 62/62 [00:00<00:00, 33101.69it/s]\n"
     ]
    },
    {
     "name": "stdout",
     "output_type": "stream",
     "text": [
      "Epoch: 18      loss: 0.18178      val_loss: 0.17571     \n",
      "\n"
     ]
    },
    {
     "name": "stderr",
     "output_type": "stream",
     "text": [
      "train_step: 100%|██████████| 250/250 [00:00<00:00, 11776.46it/s]\n",
      "valid_step: 100%|██████████| 62/62 [00:00<00:00, 22209.14it/s]\n"
     ]
    },
    {
     "name": "stdout",
     "output_type": "stream",
     "text": [
      "Epoch: 19      loss: 0.17454      val_loss: 0.16808     \n",
      "\n"
     ]
    },
    {
     "name": "stderr",
     "output_type": "stream",
     "text": [
      "train_step: 100%|██████████| 250/250 [00:00<00:00, 9170.92it/s]\n",
      "valid_step: 100%|██████████| 62/62 [00:00<00:00, 22429.43it/s]\n"
     ]
    },
    {
     "name": "stdout",
     "output_type": "stream",
     "text": [
      "Epoch: 20      loss: 0.16706      val_loss: 0.16037     \n",
      "\n"
     ]
    },
    {
     "name": "stderr",
     "output_type": "stream",
     "text": [
      "train_step: 100%|██████████| 250/250 [00:00<00:00, 11528.39it/s]\n",
      "valid_step: 100%|██████████| 62/62 [00:00<00:00, 22699.62it/s]\n"
     ]
    },
    {
     "name": "stdout",
     "output_type": "stream",
     "text": [
      "Epoch: 21      loss: 0.15911      val_loss: 0.15234     \n",
      "\n"
     ]
    },
    {
     "name": "stderr",
     "output_type": "stream",
     "text": [
      "train_step: 100%|██████████| 250/250 [00:00<00:00, 10556.81it/s]\n",
      "valid_step: 100%|██████████| 62/62 [00:00<00:00, 20096.36it/s]\n"
     ]
    },
    {
     "name": "stdout",
     "output_type": "stream",
     "text": [
      "Epoch: 22      loss: 0.15076      val_loss: 0.1443      \n",
      "\n"
     ]
    },
    {
     "name": "stderr",
     "output_type": "stream",
     "text": [
      "train_step: 100%|██████████| 250/250 [00:00<00:00, 11184.81it/s]\n",
      "valid_step: 100%|██████████| 62/62 [00:00<00:00, 21085.45it/s]\n"
     ]
    },
    {
     "name": "stdout",
     "output_type": "stream",
     "text": [
      "Epoch: 23      loss: 0.14214      val_loss: 0.13578     \n",
      "\n"
     ]
    },
    {
     "name": "stderr",
     "output_type": "stream",
     "text": [
      "train_step: 100%|██████████| 250/250 [00:00<00:00, 11204.05it/s]\n",
      "valid_step: 100%|██████████| 62/62 [00:00<00:00, 28186.30it/s]\n"
     ]
    },
    {
     "name": "stdout",
     "output_type": "stream",
     "text": [
      "Epoch: 24      loss: 0.13313      val_loss: 0.12644     \n",
      "\n"
     ]
    },
    {
     "name": "stderr",
     "output_type": "stream",
     "text": [
      "train_step: 100%|██████████| 250/250 [00:00<00:00, 10502.88it/s]\n",
      "valid_step: 100%|██████████| 62/62 [00:00<00:00, 27227.19it/s]\n"
     ]
    },
    {
     "name": "stdout",
     "output_type": "stream",
     "text": [
      "Epoch: 25      loss: 0.12397      val_loss: 0.11741     \n",
      "\n"
     ]
    },
    {
     "name": "stderr",
     "output_type": "stream",
     "text": [
      "train_step: 100%|██████████| 250/250 [00:00<00:00, 10915.73it/s]\n",
      "valid_step: 100%|██████████| 62/62 [00:00<00:00, 23181.21it/s]\n"
     ]
    },
    {
     "name": "stdout",
     "output_type": "stream",
     "text": [
      "Epoch: 26      loss: 0.11473      val_loss: 0.10824     \n",
      "\n"
     ]
    },
    {
     "name": "stderr",
     "output_type": "stream",
     "text": [
      "train_step: 100%|██████████| 250/250 [00:00<00:00, 10673.18it/s]\n",
      "valid_step: 100%|██████████| 62/62 [00:00<00:00, 21325.80it/s]\n"
     ]
    },
    {
     "name": "stdout",
     "output_type": "stream",
     "text": [
      "Epoch: 27      loss: 0.10557      val_loss: 0.09919     \n",
      "\n"
     ]
    },
    {
     "name": "stderr",
     "output_type": "stream",
     "text": [
      "train_step: 100%|██████████| 250/250 [00:00<00:00, 10828.15it/s]\n",
      "valid_step: 100%|██████████| 62/62 [00:00<00:00, 27756.09it/s]\n"
     ]
    },
    {
     "name": "stdout",
     "output_type": "stream",
     "text": [
      "Epoch: 28      loss: 0.09684      val_loss: 0.09139     \n",
      "\n"
     ]
    },
    {
     "name": "stderr",
     "output_type": "stream",
     "text": [
      "train_step: 100%|██████████| 250/250 [00:00<00:00, 10220.94it/s]\n",
      "valid_step: 100%|██████████| 62/62 [00:00<00:00, 22761.21it/s]\n"
     ]
    },
    {
     "name": "stdout",
     "output_type": "stream",
     "text": [
      "Epoch: 29      loss: 0.08844      val_loss: 0.08309     \n",
      "\n"
     ]
    },
    {
     "name": "stderr",
     "output_type": "stream",
     "text": [
      "train_step: 100%|██████████| 250/250 [00:00<00:00, 11918.21it/s]\n",
      "valid_step: 100%|██████████| 62/62 [00:00<00:00, 25970.92it/s]\n"
     ]
    },
    {
     "name": "stdout",
     "output_type": "stream",
     "text": [
      "Epoch: 30      loss: 0.08057      val_loss: 0.07586     \n",
      "\n"
     ]
    },
    {
     "name": "stderr",
     "output_type": "stream",
     "text": [
      "train_step: 100%|██████████| 250/250 [00:00<00:00, 11010.29it/s]\n",
      "valid_step: 100%|██████████| 62/62 [00:00<00:00, 24813.63it/s]\n"
     ]
    },
    {
     "name": "stdout",
     "output_type": "stream",
     "text": [
      "Epoch: 31      loss: 0.07327      val_loss: 0.06873     \n",
      "\n"
     ]
    },
    {
     "name": "stderr",
     "output_type": "stream",
     "text": [
      "train_step: 100%|██████████| 250/250 [00:00<00:00, 11372.47it/s]\n",
      "valid_step: 100%|██████████| 62/62 [00:00<00:00, 26524.57it/s]\n"
     ]
    },
    {
     "name": "stdout",
     "output_type": "stream",
     "text": [
      "Epoch: 32      loss: 0.06671      val_loss: 0.06288     \n",
      "\n"
     ]
    },
    {
     "name": "stderr",
     "output_type": "stream",
     "text": [
      "train_step: 100%|██████████| 250/250 [00:00<00:00, 10897.58it/s]\n",
      "valid_step: 100%|██████████| 62/62 [00:00<00:00, 28492.04it/s]\n"
     ]
    },
    {
     "name": "stdout",
     "output_type": "stream",
     "text": [
      "Epoch: 33      loss: 0.06069      val_loss: 0.05695     \n",
      "\n"
     ]
    },
    {
     "name": "stderr",
     "output_type": "stream",
     "text": [
      "train_step: 100%|██████████| 250/250 [00:00<00:00, 9369.40it/s]\n",
      "valid_step: 100%|██████████| 62/62 [00:00<00:00, 20798.76it/s]\n"
     ]
    },
    {
     "name": "stdout",
     "output_type": "stream",
     "text": [
      "Epoch: 34      loss: 0.0554       val_loss: 0.05206     \n",
      "\n"
     ]
    },
    {
     "name": "stderr",
     "output_type": "stream",
     "text": [
      "train_step: 100%|██████████| 250/250 [00:00<00:00, 9858.84it/s]\n",
      "valid_step: 100%|██████████| 62/62 [00:00<00:00, 26341.86it/s]\n"
     ]
    },
    {
     "name": "stdout",
     "output_type": "stream",
     "text": [
      "Epoch: 35      loss: 0.05057      val_loss: 0.04782     \n",
      "\n"
     ]
    },
    {
     "name": "stderr",
     "output_type": "stream",
     "text": [
      "train_step: 100%|██████████| 250/250 [00:00<00:00, 9909.33it/s]\n",
      "valid_step: 100%|██████████| 62/62 [00:00<00:00, 23328.86it/s]\n"
     ]
    },
    {
     "name": "stdout",
     "output_type": "stream",
     "text": [
      "Epoch: 36      loss: 0.04626      val_loss: 0.04362     \n",
      "\n"
     ]
    },
    {
     "name": "stderr",
     "output_type": "stream",
     "text": [
      "train_step: 100%|██████████| 250/250 [00:00<00:00, 9353.60it/s]\n",
      "valid_step: 100%|██████████| 62/62 [00:00<00:00, 19810.07it/s]\n"
     ]
    },
    {
     "name": "stdout",
     "output_type": "stream",
     "text": [
      "Epoch: 37      loss: 0.04252      val_loss: 0.04021     \n",
      "\n"
     ]
    },
    {
     "name": "stderr",
     "output_type": "stream",
     "text": [
      "train_step: 100%|██████████| 250/250 [00:00<00:00, 10287.52it/s]\n",
      "valid_step: 100%|██████████| 62/62 [00:00<00:00, 24102.96it/s]\n"
     ]
    },
    {
     "name": "stdout",
     "output_type": "stream",
     "text": [
      "Epoch: 38      loss: 0.03914      val_loss: 0.03699     \n",
      "\n"
     ]
    },
    {
     "name": "stderr",
     "output_type": "stream",
     "text": [
      "train_step: 100%|██████████| 250/250 [00:00<00:00, 11092.99it/s]\n",
      "valid_step: 100%|██████████| 62/62 [00:00<00:00, 23253.76it/s]\n"
     ]
    },
    {
     "name": "stdout",
     "output_type": "stream",
     "text": [
      "Epoch: 39      loss: 0.03614      val_loss: 0.03428     \n",
      "\n"
     ]
    },
    {
     "name": "stderr",
     "output_type": "stream",
     "text": [
      "train_step: 100%|██████████| 250/250 [00:00<00:00, 10468.28it/s]\n",
      "valid_step: 100%|██████████| 62/62 [00:00<00:00, 24726.33it/s]\n"
     ]
    },
    {
     "name": "stdout",
     "output_type": "stream",
     "text": [
      "Epoch: 40      loss: 0.03345      val_loss: 0.03179     \n",
      "\n"
     ]
    },
    {
     "name": "stderr",
     "output_type": "stream",
     "text": [
      "train_step: 100%|██████████| 250/250 [00:00<00:00, 10773.96it/s]\n",
      "valid_step: 100%|██████████| 62/62 [00:00<00:00, 28358.43it/s]\n"
     ]
    },
    {
     "name": "stdout",
     "output_type": "stream",
     "text": [
      "Epoch: 41      loss: 0.03106      val_loss: 0.02953     \n",
      "\n"
     ]
    },
    {
     "name": "stderr",
     "output_type": "stream",
     "text": [
      "train_step: 100%|██████████| 250/250 [00:00<00:00, 10594.03it/s]\n",
      "valid_step: 100%|██████████| 62/62 [00:00<00:00, 30077.13it/s]\n"
     ]
    },
    {
     "name": "stdout",
     "output_type": "stream",
     "text": [
      "Epoch: 42      loss: 0.02893      val_loss: 0.0276      \n",
      "\n"
     ]
    },
    {
     "name": "stderr",
     "output_type": "stream",
     "text": [
      "train_step: 100%|██████████| 250/250 [00:00<00:00, 13678.62it/s]\n",
      "valid_step: 100%|██████████| 62/62 [00:00<00:00, 23368.70it/s]\n"
     ]
    },
    {
     "name": "stdout",
     "output_type": "stream",
     "text": [
      "Epoch: 43      loss: 0.027        val_loss: 0.02571     \n",
      "\n"
     ]
    },
    {
     "name": "stderr",
     "output_type": "stream",
     "text": [
      "train_step: 100%|██████████| 250/250 [00:00<00:00, 14290.06it/s]\n",
      "valid_step: 100%|██████████| 62/62 [00:00<00:00, 33055.40it/s]\n"
     ]
    },
    {
     "name": "stdout",
     "output_type": "stream",
     "text": [
      "Epoch: 44      loss: 0.0253       val_loss: 0.02416     \n",
      "\n"
     ]
    },
    {
     "name": "stderr",
     "output_type": "stream",
     "text": [
      "train_step: 100%|██████████| 250/250 [00:00<00:00, 14736.71it/s]\n",
      "valid_step: 100%|██████████| 62/62 [00:00<00:00, 40926.48it/s]\n"
     ]
    },
    {
     "name": "stdout",
     "output_type": "stream",
     "text": [
      "Epoch: 45      loss: 0.02374      val_loss: 0.0227      \n",
      "\n"
     ]
    },
    {
     "name": "stderr",
     "output_type": "stream",
     "text": [
      "train_step: 100%|██████████| 250/250 [00:00<00:00, 15391.49it/s]\n",
      "valid_step: 100%|██████████| 62/62 [00:00<00:00, 40486.82it/s]\n"
     ]
    },
    {
     "name": "stdout",
     "output_type": "stream",
     "text": [
      "Epoch: 46      loss: 0.02233      val_loss: 0.02139     \n",
      "\n"
     ]
    },
    {
     "name": "stderr",
     "output_type": "stream",
     "text": [
      "train_step: 100%|██████████| 250/250 [00:00<00:00, 14196.61it/s]\n",
      "valid_step: 100%|██████████| 62/62 [00:00<00:00, 34980.74it/s]\n"
     ]
    },
    {
     "name": "stdout",
     "output_type": "stream",
     "text": [
      "Epoch: 47      loss: 0.02106      val_loss: 0.02023     \n",
      "\n"
     ]
    },
    {
     "name": "stderr",
     "output_type": "stream",
     "text": [
      "train_step: 100%|██████████| 250/250 [00:00<00:00, 14694.38it/s]\n",
      "valid_step: 100%|██████████| 62/62 [00:00<00:00, 27658.67it/s]\n"
     ]
    },
    {
     "name": "stdout",
     "output_type": "stream",
     "text": [
      "Epoch: 48      loss: 0.0199       val_loss: 0.01909     \n",
      "\n"
     ]
    },
    {
     "name": "stderr",
     "output_type": "stream",
     "text": [
      "train_step: 100%|██████████| 250/250 [00:00<00:00, 15753.85it/s]\n",
      "valid_step: 100%|██████████| 62/62 [00:00<00:00, 41747.77it/s]\n"
     ]
    },
    {
     "name": "stdout",
     "output_type": "stream",
     "text": [
      "Epoch: 49      loss: 0.01885      val_loss: 0.01811     \n",
      "\n"
     ]
    },
    {
     "name": "stderr",
     "output_type": "stream",
     "text": [
      "train_step: 100%|██████████| 250/250 [00:00<00:00, 13747.31it/s]\n",
      "valid_step: 100%|██████████| 62/62 [00:00<00:00, 41640.81it/s]\n"
     ]
    },
    {
     "name": "stdout",
     "output_type": "stream",
     "text": [
      "Epoch: 50      loss: 0.01788      val_loss: 0.01718     \n",
      "\n"
     ]
    },
    {
     "name": "stderr",
     "output_type": "stream",
     "text": [
      "train_step: 100%|██████████| 250/250 [00:00<00:00, 14846.46it/s]\n",
      "valid_step: 100%|██████████| 62/62 [00:00<00:00, 41997.23it/s]\n"
     ]
    },
    {
     "name": "stdout",
     "output_type": "stream",
     "text": [
      "Epoch: 51      loss: 0.01699      val_loss: 0.01637     \n",
      "\n"
     ]
    },
    {
     "name": "stderr",
     "output_type": "stream",
     "text": [
      "train_step: 100%|██████████| 250/250 [00:00<00:00, 17570.56it/s]\n",
      "valid_step: 100%|██████████| 62/62 [00:00<00:00, 43874.95it/s]\n"
     ]
    },
    {
     "name": "stdout",
     "output_type": "stream",
     "text": [
      "Epoch: 52      loss: 0.01618      val_loss: 0.01561     \n",
      "\n"
     ]
    },
    {
     "name": "stderr",
     "output_type": "stream",
     "text": [
      "train_step: 100%|██████████| 250/250 [00:00<00:00, 18113.88it/s]\n",
      "valid_step: 100%|██████████| 62/62 [00:00<00:00, 44180.57it/s]\n"
     ]
    },
    {
     "name": "stdout",
     "output_type": "stream",
     "text": [
      "Epoch: 53      loss: 0.01543      val_loss: 0.01487     \n",
      "\n"
     ]
    },
    {
     "name": "stderr",
     "output_type": "stream",
     "text": [
      "train_step: 100%|██████████| 250/250 [00:00<00:00, 17128.28it/s]\n",
      "valid_step: 100%|██████████| 62/62 [00:00<00:00, 42526.06it/s]\n"
     ]
    },
    {
     "name": "stdout",
     "output_type": "stream",
     "text": [
      "Epoch: 54      loss: 0.01474      val_loss: 0.01424     \n",
      "\n"
     ]
    },
    {
     "name": "stderr",
     "output_type": "stream",
     "text": [
      "train_step: 100%|██████████| 250/250 [00:00<00:00, 16835.94it/s]\n",
      "valid_step: 100%|██████████| 62/62 [00:00<00:00, 42249.69it/s]\n"
     ]
    },
    {
     "name": "stdout",
     "output_type": "stream",
     "text": [
      "Epoch: 55      loss: 0.0141       val_loss: 0.01361     \n",
      "\n"
     ]
    },
    {
     "name": "stderr",
     "output_type": "stream",
     "text": [
      "train_step: 100%|██████████| 250/250 [00:00<00:00, 16819.20it/s]\n",
      "valid_step: 100%|██████████| 62/62 [00:00<00:00, 42574.80it/s]\n"
     ]
    },
    {
     "name": "stdout",
     "output_type": "stream",
     "text": [
      "Epoch: 56      loss: 0.01351      val_loss: 0.01306     \n",
      "\n"
     ]
    },
    {
     "name": "stderr",
     "output_type": "stream",
     "text": [
      "train_step: 100%|██████████| 250/250 [00:00<00:00, 16985.11it/s]\n",
      "valid_step: 100%|██████████| 62/62 [00:00<00:00, 41997.23it/s]\n"
     ]
    },
    {
     "name": "stdout",
     "output_type": "stream",
     "text": [
      "Epoch: 57      loss: 0.01296      val_loss: 0.01254     \n",
      "\n"
     ]
    },
    {
     "name": "stderr",
     "output_type": "stream",
     "text": [
      "train_step: 100%|██████████| 250/250 [00:00<00:00, 16642.74it/s]\n",
      "valid_step: 100%|██████████| 62/62 [00:00<00:00, 34488.97it/s]\n"
     ]
    },
    {
     "name": "stdout",
     "output_type": "stream",
     "text": [
      "Epoch: 58      loss: 0.01244      val_loss: 0.01205     \n",
      "\n"
     ]
    },
    {
     "name": "stderr",
     "output_type": "stream",
     "text": [
      "train_step: 100%|██████████| 250/250 [00:00<00:00, 15936.77it/s]\n",
      "valid_step: 100%|██████████| 62/62 [00:00<00:00, 38102.10it/s]\n"
     ]
    },
    {
     "name": "stdout",
     "output_type": "stream",
     "text": [
      "Epoch: 59      loss: 0.01197      val_loss: 0.01159     \n",
      "\n"
     ]
    },
    {
     "name": "stderr",
     "output_type": "stream",
     "text": [
      "train_step: 100%|██████████| 250/250 [00:00<00:00, 10076.55it/s]\n",
      "valid_step: 100%|██████████| 62/62 [00:00<00:00, 16804.32it/s]\n"
     ]
    },
    {
     "name": "stdout",
     "output_type": "stream",
     "text": [
      "Epoch: 60      loss: 0.01152      val_loss: 0.01115     \n",
      "\n"
     ]
    },
    {
     "name": "stderr",
     "output_type": "stream",
     "text": [
      "train_step: 100%|██████████| 250/250 [00:00<00:00, 11101.09it/s]\n",
      "valid_step: 100%|██████████| 62/62 [00:00<00:00, 26419.47it/s]\n"
     ]
    },
    {
     "name": "stdout",
     "output_type": "stream",
     "text": [
      "Epoch: 61      loss: 0.0111       val_loss: 0.01075     \n",
      "\n"
     ]
    },
    {
     "name": "stderr",
     "output_type": "stream",
     "text": [
      "train_step: 100%|██████████| 250/250 [00:00<00:00, 9977.98it/s]\n",
      "valid_step: 100%|██████████| 62/62 [00:00<00:00, 28389.39it/s]\n"
     ]
    },
    {
     "name": "stdout",
     "output_type": "stream",
     "text": [
      "Epoch: 62      loss: 0.01071      val_loss: 0.01038     \n",
      "\n"
     ]
    },
    {
     "name": "stderr",
     "output_type": "stream",
     "text": [
      "train_step: 100%|██████████| 250/250 [00:00<00:00, 8694.23it/s]\n",
      "valid_step: 100%|██████████| 62/62 [00:00<00:00, 24031.68it/s]\n"
     ]
    },
    {
     "name": "stdout",
     "output_type": "stream",
     "text": [
      "Epoch: 63      loss: 0.01034      val_loss: 0.01002     \n",
      "\n"
     ]
    },
    {
     "name": "stderr",
     "output_type": "stream",
     "text": [
      "train_step: 100%|██████████| 250/250 [00:00<00:00, 6842.12it/s]\n",
      "valid_step: 100%|██████████| 62/62 [00:00<00:00, 24440.49it/s]\n"
     ]
    },
    {
     "name": "stdout",
     "output_type": "stream",
     "text": [
      "Epoch: 64      loss: 0.00999      val_loss: 0.0097      \n",
      "\n"
     ]
    },
    {
     "name": "stderr",
     "output_type": "stream",
     "text": [
      "train_step: 100%|██████████| 250/250 [00:00<00:00, 8267.18it/s]\n",
      "valid_step: 100%|██████████| 62/62 [00:00<00:00, 15362.84it/s]\n"
     ]
    },
    {
     "name": "stdout",
     "output_type": "stream",
     "text": [
      "Epoch: 65      loss: 0.00967      val_loss: 0.00938     \n",
      "\n"
     ]
    },
    {
     "name": "stderr",
     "output_type": "stream",
     "text": [
      "train_step: 100%|██████████| 250/250 [00:00<00:00, 9221.98it/s]\n",
      "valid_step: 100%|██████████| 62/62 [00:00<00:00, 16840.23it/s]\n"
     ]
    },
    {
     "name": "stdout",
     "output_type": "stream",
     "text": [
      "Epoch: 66      loss: 0.00936      val_loss: 0.00908     \n",
      "\n"
     ]
    },
    {
     "name": "stderr",
     "output_type": "stream",
     "text": [
      "train_step: 100%|██████████| 250/250 [00:00<00:00, 8499.85it/s]\n",
      "valid_step: 100%|██████████| 62/62 [00:00<00:00, 15849.75it/s]\n"
     ]
    },
    {
     "name": "stdout",
     "output_type": "stream",
     "text": [
      "Epoch: 67      loss: 0.00907      val_loss: 0.0088      \n",
      "\n"
     ]
    },
    {
     "name": "stderr",
     "output_type": "stream",
     "text": [
      "train_step: 100%|██████████| 250/250 [00:00<00:00, 7384.34it/s]\n",
      "valid_step: 100%|██████████| 62/62 [00:00<00:00, 20767.20it/s]\n"
     ]
    },
    {
     "name": "stdout",
     "output_type": "stream",
     "text": [
      "Epoch: 68      loss: 0.00879      val_loss: 0.00854     \n",
      "\n"
     ]
    },
    {
     "name": "stderr",
     "output_type": "stream",
     "text": [
      "train_step: 100%|██████████| 250/250 [00:00<00:00, 7204.78it/s]\n",
      "valid_step: 100%|██████████| 62/62 [00:00<00:00, 18012.53it/s]\n"
     ]
    },
    {
     "name": "stdout",
     "output_type": "stream",
     "text": [
      "Epoch: 69      loss: 0.00853      val_loss: 0.00829     \n",
      "\n"
     ]
    },
    {
     "name": "stderr",
     "output_type": "stream",
     "text": [
      "train_step: 100%|██████████| 250/250 [00:00<00:00, 8480.61it/s]\n",
      "valid_step: 100%|██████████| 62/62 [00:00<00:00, 19760.40it/s]\n"
     ]
    },
    {
     "name": "stdout",
     "output_type": "stream",
     "text": [
      "Epoch: 70      loss: 0.00828      val_loss: 0.00806     \n",
      "\n"
     ]
    },
    {
     "name": "stderr",
     "output_type": "stream",
     "text": [
      "train_step: 100%|██████████| 250/250 [00:00<00:00, 8523.21it/s]\n",
      "valid_step: 100%|██████████| 62/62 [00:00<00:00, 23565.64it/s]\n"
     ]
    },
    {
     "name": "stdout",
     "output_type": "stream",
     "text": [
      "Epoch: 71      loss: 0.00805      val_loss: 0.00783     \n",
      "\n"
     ]
    },
    {
     "name": "stderr",
     "output_type": "stream",
     "text": [
      "train_step: 100%|██████████| 250/250 [00:00<00:00, 8731.22it/s]\n",
      "valid_step: 100%|██████████| 62/62 [00:00<00:00, 20961.38it/s]\n"
     ]
    },
    {
     "name": "stdout",
     "output_type": "stream",
     "text": [
      "Epoch: 72      loss: 0.00783      val_loss: 0.00762     \n",
      "\n"
     ]
    },
    {
     "name": "stderr",
     "output_type": "stream",
     "text": [
      "train_step: 100%|██████████| 250/250 [00:00<00:00, 8263.53it/s]\n",
      "valid_step: 100%|██████████| 62/62 [00:00<00:00, 22137.30it/s]\n"
     ]
    },
    {
     "name": "stdout",
     "output_type": "stream",
     "text": [
      "Epoch: 73      loss: 0.00762      val_loss: 0.00742     \n",
      "\n"
     ]
    },
    {
     "name": "stderr",
     "output_type": "stream",
     "text": [
      "train_step: 100%|██████████| 250/250 [00:00<00:00, 8183.18it/s]\n",
      "valid_step: 100%|██████████| 62/62 [00:00<00:00, 19633.59it/s]\n"
     ]
    },
    {
     "name": "stdout",
     "output_type": "stream",
     "text": [
      "Epoch: 74      loss: 0.00741      val_loss: 0.00722     \n",
      "\n"
     ]
    },
    {
     "name": "stderr",
     "output_type": "stream",
     "text": [
      "train_step: 100%|██████████| 250/250 [00:00<00:00, 7382.47it/s]\n",
      "valid_step: 100%|██████████| 62/62 [00:00<00:00, 24693.46it/s]\n"
     ]
    },
    {
     "name": "stdout",
     "output_type": "stream",
     "text": [
      "Epoch: 75      loss: 0.00722      val_loss: 0.00703     \n",
      "\n"
     ]
    },
    {
     "name": "stderr",
     "output_type": "stream",
     "text": [
      "train_step: 100%|██████████| 250/250 [00:00<00:00, 9250.29it/s]\n",
      "valid_step: 100%|██████████| 62/62 [00:00<00:00, 16874.11it/s]\n"
     ]
    },
    {
     "name": "stdout",
     "output_type": "stream",
     "text": [
      "Epoch: 76      loss: 0.00704      val_loss: 0.00686     \n",
      "\n"
     ]
    },
    {
     "name": "stderr",
     "output_type": "stream",
     "text": [
      "train_step: 100%|██████████| 250/250 [00:00<00:00, 6593.57it/s]\n",
      "valid_step: 100%|██████████| 62/62 [00:00<00:00, 18608.00it/s]\n"
     ]
    },
    {
     "name": "stdout",
     "output_type": "stream",
     "text": [
      "Epoch: 77      loss: 0.00686      val_loss: 0.00669     \n",
      "\n"
     ]
    },
    {
     "name": "stderr",
     "output_type": "stream",
     "text": [
      "train_step: 100%|██████████| 250/250 [00:00<00:00, 8007.76it/s]\n",
      "valid_step: 100%|██████████| 62/62 [00:00<00:00, 17521.01it/s]\n"
     ]
    },
    {
     "name": "stdout",
     "output_type": "stream",
     "text": [
      "Epoch: 78      loss: 0.0067       val_loss: 0.00653     \n",
      "\n"
     ]
    },
    {
     "name": "stderr",
     "output_type": "stream",
     "text": [
      "train_step: 100%|██████████| 250/250 [00:00<00:00, 9019.31it/s]\n",
      "valid_step: 100%|██████████| 62/62 [00:00<00:00, 26734.54it/s]\n"
     ]
    },
    {
     "name": "stdout",
     "output_type": "stream",
     "text": [
      "Epoch: 79      loss: 0.00654      val_loss: 0.00637     \n",
      "\n"
     ]
    },
    {
     "name": "stderr",
     "output_type": "stream",
     "text": [
      "train_step: 100%|██████████| 250/250 [00:00<00:00, 9966.98it/s]\n",
      "valid_step: 100%|██████████| 62/62 [00:00<00:00, 20104.12it/s]\n"
     ]
    },
    {
     "name": "stdout",
     "output_type": "stream",
     "text": [
      "Epoch: 80      loss: 0.00638      val_loss: 0.00622     \n",
      "\n"
     ]
    },
    {
     "name": "stderr",
     "output_type": "stream",
     "text": [
      "train_step: 100%|██████████| 250/250 [00:00<00:00, 10146.66it/s]\n",
      "valid_step: 100%|██████████| 62/62 [00:00<00:00, 23002.82it/s]\n"
     ]
    },
    {
     "name": "stdout",
     "output_type": "stream",
     "text": [
      "Epoch: 81      loss: 0.00624      val_loss: 0.00608     \n",
      "\n"
     ]
    },
    {
     "name": "stderr",
     "output_type": "stream",
     "text": [
      "train_step: 100%|██████████| 250/250 [00:00<00:00, 7618.03it/s]\n",
      "valid_step: 100%|██████████| 62/62 [00:00<00:00, 27250.01it/s]\n"
     ]
    },
    {
     "name": "stdout",
     "output_type": "stream",
     "text": [
      "Epoch: 82      loss: 0.0061       val_loss: 0.00595     \n",
      "\n"
     ]
    },
    {
     "name": "stderr",
     "output_type": "stream",
     "text": [
      "train_step: 100%|██████████| 250/250 [00:00<00:00, 9529.13it/s]\n",
      "valid_step: 100%|██████████| 62/62 [00:00<00:00, 23045.63it/s]\n"
     ]
    },
    {
     "name": "stdout",
     "output_type": "stream",
     "text": [
      "Epoch: 83      loss: 0.00596      val_loss: 0.00582     \n",
      "\n"
     ]
    },
    {
     "name": "stderr",
     "output_type": "stream",
     "text": [
      "train_step: 100%|██████████| 250/250 [00:00<00:00, 8151.81it/s]\n",
      "valid_step: 100%|██████████| 62/62 [00:00<00:00, 25227.67it/s]\n"
     ]
    },
    {
     "name": "stdout",
     "output_type": "stream",
     "text": [
      "Epoch: 84      loss: 0.00583      val_loss: 0.00569     \n",
      "\n"
     ]
    },
    {
     "name": "stderr",
     "output_type": "stream",
     "text": [
      "train_step: 100%|██████████| 250/250 [00:00<00:00, 9259.11it/s]\n",
      "valid_step: 100%|██████████| 62/62 [00:00<00:00, 22536.34it/s]\n"
     ]
    },
    {
     "name": "stdout",
     "output_type": "stream",
     "text": [
      "Epoch: 85      loss: 0.00571      val_loss: 0.00557     \n",
      "\n"
     ]
    },
    {
     "name": "stderr",
     "output_type": "stream",
     "text": [
      "train_step: 100%|██████████| 250/250 [00:00<00:00, 9762.00it/s]\n",
      "valid_step: 100%|██████████| 62/62 [00:00<00:00, 19122.50it/s]\n"
     ]
    },
    {
     "name": "stdout",
     "output_type": "stream",
     "text": [
      "Epoch: 86      loss: 0.00559      val_loss: 0.00545     \n",
      "\n"
     ]
    },
    {
     "name": "stderr",
     "output_type": "stream",
     "text": [
      "train_step: 100%|██████████| 250/250 [00:00<00:00, 9647.76it/s]\n",
      "valid_step: 100%|██████████| 62/62 [00:00<00:00, 23000.78it/s]\n"
     ]
    },
    {
     "name": "stdout",
     "output_type": "stream",
     "text": [
      "Epoch: 87      loss: 0.00547      val_loss: 0.00534     \n",
      "\n"
     ]
    },
    {
     "name": "stderr",
     "output_type": "stream",
     "text": [
      "train_step: 100%|██████████| 250/250 [00:00<00:00, 10191.83it/s]\n",
      "valid_step: 100%|██████████| 62/62 [00:00<00:00, 25492.29it/s]\n"
     ]
    },
    {
     "name": "stdout",
     "output_type": "stream",
     "text": [
      "Epoch: 88      loss: 0.00536      val_loss: 0.00523     \n",
      "\n"
     ]
    },
    {
     "name": "stderr",
     "output_type": "stream",
     "text": [
      "train_step: 100%|██████████| 250/250 [00:00<00:00, 9708.14it/s]\n",
      "valid_step: 100%|██████████| 62/62 [00:00<00:00, 26726.29it/s]\n"
     ]
    },
    {
     "name": "stdout",
     "output_type": "stream",
     "text": [
      "Epoch: 89      loss: 0.00525      val_loss: 0.00513     \n",
      "\n"
     ]
    },
    {
     "name": "stderr",
     "output_type": "stream",
     "text": [
      "train_step: 100%|██████████| 250/250 [00:00<00:00, 9477.88it/s]\n",
      "valid_step: 100%|██████████| 62/62 [00:00<00:00, 27088.21it/s]\n"
     ]
    },
    {
     "name": "stdout",
     "output_type": "stream",
     "text": [
      "Epoch: 90      loss: 0.00515      val_loss: 0.00503     \n",
      "\n"
     ]
    },
    {
     "name": "stderr",
     "output_type": "stream",
     "text": [
      "train_step: 100%|██████████| 250/250 [00:00<00:00, 9581.64it/s]\n",
      "valid_step: 100%|██████████| 62/62 [00:00<00:00, 22557.85it/s]\n"
     ]
    },
    {
     "name": "stdout",
     "output_type": "stream",
     "text": [
      "Epoch: 91      loss: 0.00505      val_loss: 0.00494     \n",
      "\n"
     ]
    },
    {
     "name": "stderr",
     "output_type": "stream",
     "text": [
      "train_step: 100%|██████████| 250/250 [00:00<00:00, 9106.57it/s]\n",
      "valid_step: 100%|██████████| 62/62 [00:00<00:00, 14661.26it/s]\n"
     ]
    },
    {
     "name": "stdout",
     "output_type": "stream",
     "text": [
      "Epoch: 92      loss: 0.00496      val_loss: 0.00484     \n",
      "\n"
     ]
    },
    {
     "name": "stderr",
     "output_type": "stream",
     "text": [
      "train_step: 100%|██████████| 250/250 [00:00<00:00, 9942.50it/s]\n",
      "valid_step: 100%|██████████| 62/62 [00:00<00:00, 21157.50it/s]\n"
     ]
    },
    {
     "name": "stdout",
     "output_type": "stream",
     "text": [
      "Epoch: 93      loss: 0.00486      val_loss: 0.00475     \n",
      "\n"
     ]
    },
    {
     "name": "stderr",
     "output_type": "stream",
     "text": [
      "train_step: 100%|██████████| 250/250 [00:00<00:00, 9649.89it/s]\n",
      "valid_step: 100%|██████████| 62/62 [00:00<00:00, 19933.07it/s]\n"
     ]
    },
    {
     "name": "stdout",
     "output_type": "stream",
     "text": [
      "Epoch: 94      loss: 0.00477      val_loss: 0.00467     \n",
      "\n"
     ]
    },
    {
     "name": "stderr",
     "output_type": "stream",
     "text": [
      "train_step: 100%|██████████| 250/250 [00:00<00:00, 9231.48it/s]\n",
      "valid_step: 100%|██████████| 62/62 [00:00<00:00, 20560.31it/s]\n"
     ]
    },
    {
     "name": "stdout",
     "output_type": "stream",
     "text": [
      "Epoch: 95      loss: 0.00469      val_loss: 0.00458     \n",
      "\n"
     ]
    },
    {
     "name": "stderr",
     "output_type": "stream",
     "text": [
      "train_step: 100%|██████████| 250/250 [00:00<00:00, 6036.01it/s]\n",
      "valid_step: 100%|██████████| 62/62 [00:00<00:00, 19617.29it/s]\n"
     ]
    },
    {
     "name": "stdout",
     "output_type": "stream",
     "text": [
      "Epoch: 96      loss: 0.0046       val_loss: 0.0045      \n",
      "\n"
     ]
    },
    {
     "name": "stderr",
     "output_type": "stream",
     "text": [
      "train_step: 100%|██████████| 250/250 [00:00<00:00, 10202.84it/s]\n",
      "valid_step: 100%|██████████| 62/62 [00:00<00:00, 24212.93it/s]\n"
     ]
    },
    {
     "name": "stdout",
     "output_type": "stream",
     "text": [
      "Epoch: 97      loss: 0.00452      val_loss: 0.00442     \n",
      "\n"
     ]
    },
    {
     "name": "stderr",
     "output_type": "stream",
     "text": [
      "train_step: 100%|██████████| 250/250 [00:00<00:00, 10911.53it/s]\n",
      "valid_step: 100%|██████████| 62/62 [00:00<00:00, 21154.06it/s]\n"
     ]
    },
    {
     "name": "stdout",
     "output_type": "stream",
     "text": [
      "Epoch: 98      loss: 0.00445      val_loss: 0.00435     \n",
      "\n"
     ]
    },
    {
     "name": "stderr",
     "output_type": "stream",
     "text": [
      "train_step: 100%|██████████| 250/250 [00:00<00:00, 6335.00it/s]\n",
      "valid_step: 100%|██████████| 62/62 [00:00<00:00, 21806.86it/s]\n"
     ]
    },
    {
     "name": "stdout",
     "output_type": "stream",
     "text": [
      "Epoch: 99      loss: 0.00437      val_loss: 0.00427     \n",
      "\n"
     ]
    },
    {
     "name": "stderr",
     "output_type": "stream",
     "text": [
      "train_step: 100%|██████████| 250/250 [00:00<00:00, 6766.97it/s]\n",
      "valid_step: 100%|██████████| 62/62 [00:00<00:00, 19629.14it/s]"
     ]
    },
    {
     "name": "stdout",
     "output_type": "stream",
     "text": [
      "Epoch: 100     loss: 0.0043       val_loss: 0.0042      \n",
      "\n"
     ]
    },
    {
     "name": "stderr",
     "output_type": "stream",
     "text": [
      "\n"
     ]
    }
   ],
   "source": [
    "XOR_Model.fit(\n",
    "\tX_Train,\n",
    "\ty_Train,\n",
    "\tepochs,\n",
    "\tbatch_size,\n",
    "\tlr,\n",
    "\t(X_Valid, y_Valid)\n",
    ")"
   ]
  },
  {
   "cell_type": "markdown",
   "metadata": {},
   "source": [
    "Plotting Loss"
   ]
  },
  {
   "cell_type": "code",
   "execution_count": 8,
   "metadata": {},
   "outputs": [
    {
     "data": {
      "image/png": "[encoded data removed]",
      "text/plain": [
       "<Figure size 432x432 with 1 Axes>"
      ]
     },
     "metadata": {
      "needs_background": "light"
     },
     "output_type": "display_data"
    }
   ],
   "source": [
    "XOR_Model.PlotLoss()"
   ]
  },
  {
   "cell_type": "markdown",
   "metadata": {},
   "source": [
    "Model is converging after 80 epochs. No underfitting or overfitting is observed."
   ]
  },
  {
   "cell_type": "markdown",
   "metadata": {},
   "source": [
    "Parameters of the Model"
   ]
  },
  {
   "cell_type": "code",
   "execution_count": 9,
   "metadata": {},
   "outputs": [
    {
     "name": "stdout",
     "output_type": "stream",
     "text": [
      "self.W1 [[5.4639629  3.75822821]\n",
      " [5.43938799 3.76941543]]\n",
      "self.b1 [[-2.26153013 -5.7726783 ]]\n",
      "self.A1 [[ 3.22539254 -1.9703825 ]\n",
      " [ 3.07533109 -2.10252413]\n",
      " [-2.25803532 -5.77029316]\n",
      " [-2.1846827  -5.71911149]\n",
      " [ 8.61115245  1.733907  ]\n",
      " [ 8.5321531   1.67926574]\n",
      " [ 3.17368978 -2.03414318]\n",
      " [-2.4160298  -5.87928523]]\n",
      "self.H1 [[0.96177874 0.12234781]\n",
      " [0.95586363 0.10885173]\n",
      " [0.0946586  0.00310915]\n",
      " [0.10113445 0.00327189]\n",
      " [0.99981797 0.84991149]\n",
      " [0.99980301 0.84280728]\n",
      " [0.95983208 0.11566446]\n",
      " [0.08195848 0.00278898]]\n",
      "self.W2 [[ 7.16844771]\n",
      " [-7.66526517]]\n",
      "self.b2 [[-3.26711318]]\n",
      "self.A2 [[ 2.68951904]\n",
      " [ 2.75056789]\n",
      " [-2.61239035]\n",
      " [-2.56721606]\n",
      " [-2.61476726]\n",
      " [-2.56041886]\n",
      " [ 2.7267942 ]\n",
      " [-2.70097638]]\n",
      "self.H2 [[0.93640535]\n",
      " [0.93994541]\n",
      " [0.06834524]\n",
      " [0.07127837]\n",
      " [0.06819405]\n",
      " [0.07172965]\n",
      " [0.93858932]\n",
      " [0.06291577]]\n",
      "self.dW1 [[-0.00022786 -0.00038378]\n",
      " [-0.00102497  0.00176327]]\n",
      "self.db1 [[0.00014212 0.00244538]]\n",
      "self.dA1 [[-2.37971319e-04  7.46596676e-04]\n",
      " [ 1.52571189e-06 -1.12280348e-03]\n",
      " [-2.53656912e-04  7.45959669e-04]\n",
      " [-2.53737651e-04  7.47162146e-04]\n",
      " [-2.61898298e-04  6.95111816e-04]\n",
      " [-2.63158384e-04  6.87739868e-04]\n",
      " [ 5.79240754e-04 -2.26333260e-05]\n",
      " [ 8.31771302e-04 -3.17577854e-05]]\n",
      "self.dH1 [[-0.00657935  0.00703547]\n",
      " [ 0.00809596 -0.00865722]\n",
      " [-0.00664015  0.00710048]\n",
      " [-0.00664641  0.00710718]\n",
      " [-0.00642277  0.00686803]\n",
      " [-0.00639152  0.00683462]\n",
      " [ 0.0071972  -0.00769615]\n",
      " [ 0.00885929 -0.00947347]]\n",
      "self.dW2 [[-0.0030268 ]\n",
      " [ 0.00042801]]\n",
      "self.db2 [[-0.00118965]]\n",
      "self.dA2 [[-0.00091784]\n",
      " [ 0.00112941]\n",
      " [-0.00092632]\n",
      " [-0.0009272 ]\n",
      " [-0.000896  ]\n",
      " [-0.00089164]\n",
      " [ 0.00100403]\n",
      " [ 0.0012359 ]]\n",
      "self.dH2 [[-0.01564541]\n",
      " [ 0.01742133]\n",
      " [-0.01572003]\n",
      " [-0.0157277 ]\n",
      " [-0.01545173]\n",
      " [-0.01541282]\n",
      " [ 0.01638957]\n",
      " [ 0.01825695]]\n"
     ]
    }
   ],
   "source": [
    "XOR_Model.PrintParameters()"
   ]
  },
  {
   "cell_type": "markdown",
   "metadata": {},
   "source": [
    "### 1b: AND"
   ]
  },
  {
   "cell_type": "markdown",
   "metadata": {},
   "source": [
    "- Generating Data\n",
    "- Setting Training Parameters\n",
    "- Creating Model"
   ]
  },
  {
   "cell_type": "code",
   "execution_count": 10,
   "metadata": {},
   "outputs": [],
   "source": [
    "# Generating Data\n",
    "X_Train, y_Train, X_Valid, y_Valid = GenerateDatasets(2500, \"AND\", 0.2)\n",
    "\n",
    "# Training Data\n",
    "batch_size = 8\n",
    "epochs = 100\n",
    "lr = 0.05\n",
    "\n",
    "# Creating Model\n",
    "AND_Model = MLP(2)"
   ]
  },
  {
   "cell_type": "markdown",
   "metadata": {},
   "source": [
    "Training Model"
   ]
  },
  {
   "cell_type": "code",
   "execution_count": 11,
   "metadata": {},
   "outputs": [
    {
     "name": "stderr",
     "output_type": "stream",
     "text": [
      "train_step: 100%|██████████| 250/250 [00:00<00:00, 5372.88it/s]\n",
      "valid_step: 100%|██████████| 62/62 [00:00<00:00, 25166.64it/s]\n"
     ]
    },
    {
     "name": "stdout",
     "output_type": "stream",
     "text": [
      "Epoch: 1       loss: 0.20352      val_loss: 0.17661     \n",
      "\n"
     ]
    },
    {
     "name": "stderr",
     "output_type": "stream",
     "text": [
      "train_step: 100%|██████████| 250/250 [00:00<00:00, 14014.84it/s]\n",
      "valid_step: 100%|██████████| 62/62 [00:00<00:00, 30252.08it/s]\n"
     ]
    },
    {
     "name": "stdout",
     "output_type": "stream",
     "text": [
      "Epoch: 2       loss: 0.18361      val_loss: 0.17021     \n",
      "\n"
     ]
    },
    {
     "name": "stderr",
     "output_type": "stream",
     "text": [
      "train_step: 100%|██████████| 250/250 [00:00<00:00, 13022.07it/s]\n",
      "valid_step: 100%|██████████| 62/62 [00:00<00:00, 28595.43it/s]\n"
     ]
    },
    {
     "name": "stdout",
     "output_type": "stream",
     "text": [
      "Epoch: 3       loss: 0.17825      val_loss: 0.16508     \n",
      "\n"
     ]
    },
    {
     "name": "stderr",
     "output_type": "stream",
     "text": [
      "train_step: 100%|██████████| 250/250 [00:00<00:00, 10655.39it/s]\n",
      "valid_step: 100%|██████████| 62/62 [00:00<00:00, 20427.87it/s]\n"
     ]
    },
    {
     "name": "stdout",
     "output_type": "stream",
     "text": [
      "Epoch: 4       loss: 0.17237      val_loss: 0.15931     \n",
      "\n"
     ]
    },
    {
     "name": "stderr",
     "output_type": "stream",
     "text": [
      "train_step: 100%|██████████| 250/250 [00:00<00:00, 10132.83it/s]\n",
      "valid_step: 100%|██████████| 62/62 [00:00<00:00, 19415.17it/s]\n"
     ]
    },
    {
     "name": "stdout",
     "output_type": "stream",
     "text": [
      "Epoch: 5       loss: 0.16542      val_loss: 0.1524      \n",
      "\n"
     ]
    },
    {
     "name": "stderr",
     "output_type": "stream",
     "text": [
      "train_step: 100%|██████████| 250/250 [00:00<00:00, 9482.17it/s]\n",
      "valid_step: 100%|██████████| 62/62 [00:00<00:00, 23737.73it/s]\n"
     ]
    },
    {
     "name": "stdout",
     "output_type": "stream",
     "text": [
      "Epoch: 6       loss: 0.15741      val_loss: 0.14467     \n",
      "\n"
     ]
    },
    {
     "name": "stderr",
     "output_type": "stream",
     "text": [
      "train_step: 100%|██████████| 250/250 [00:00<00:00, 9486.20it/s]\n",
      "valid_step: 100%|██████████| 62/62 [00:00<00:00, 22487.62it/s]\n"
     ]
    },
    {
     "name": "stdout",
     "output_type": "stream",
     "text": [
      "Epoch: 7       loss: 0.14862      val_loss: 0.13644     \n",
      "\n"
     ]
    },
    {
     "name": "stderr",
     "output_type": "stream",
     "text": [
      "train_step: 100%|██████████| 250/250 [00:00<00:00, 10274.21it/s]\n",
      "valid_step: 100%|██████████| 62/62 [00:00<00:00, 21872.89it/s]\n"
     ]
    },
    {
     "name": "stdout",
     "output_type": "stream",
     "text": [
      "Epoch: 8       loss: 0.13941      val_loss: 0.12806     \n",
      "\n"
     ]
    },
    {
     "name": "stderr",
     "output_type": "stream",
     "text": [
      "train_step: 100%|██████████| 250/250 [00:00<00:00, 6118.71it/s]\n",
      "valid_step: 100%|██████████| 62/62 [00:00<00:00, 15080.42it/s]\n"
     ]
    },
    {
     "name": "stdout",
     "output_type": "stream",
     "text": [
      "Epoch: 9       loss: 0.13016      val_loss: 0.1194      \n",
      "\n"
     ]
    },
    {
     "name": "stderr",
     "output_type": "stream",
     "text": [
      "train_step: 100%|██████████| 250/250 [00:00<00:00, 9383.99it/s]\n",
      "valid_step: 100%|██████████| 62/62 [00:00<00:00, 24804.16it/s]\n"
     ]
    },
    {
     "name": "stdout",
     "output_type": "stream",
     "text": [
      "Epoch: 10      loss: 0.121        val_loss: 0.1109      \n",
      "\n"
     ]
    },
    {
     "name": "stderr",
     "output_type": "stream",
     "text": [
      "train_step: 100%|██████████| 250/250 [00:00<00:00, 6150.47it/s]\n",
      "valid_step: 100%|██████████| 62/62 [00:00<00:00, 15920.59it/s]\n"
     ]
    },
    {
     "name": "stdout",
     "output_type": "stream",
     "text": [
      "Epoch: 11      loss: 0.11203      val_loss: 0.10258     \n",
      "\n"
     ]
    },
    {
     "name": "stderr",
     "output_type": "stream",
     "text": [
      "train_step: 100%|██████████| 250/250 [00:00<00:00, 8288.02it/s]\n",
      "valid_step: 100%|██████████| 62/62 [00:00<00:00, 15278.90it/s]\n"
     ]
    },
    {
     "name": "stdout",
     "output_type": "stream",
     "text": [
      "Epoch: 12      loss: 0.10324      val_loss: 0.09447     \n",
      "\n"
     ]
    },
    {
     "name": "stderr",
     "output_type": "stream",
     "text": [
      "train_step: 100%|██████████| 250/250 [00:00<00:00, 7556.98it/s]\n",
      "valid_step: 100%|██████████| 62/62 [00:00<00:00, 21224.85it/s]\n"
     ]
    },
    {
     "name": "stdout",
     "output_type": "stream",
     "text": [
      "Epoch: 13      loss: 0.09486      val_loss: 0.08676     \n",
      "\n"
     ]
    },
    {
     "name": "stderr",
     "output_type": "stream",
     "text": [
      "train_step: 100%|██████████| 250/250 [00:00<00:00, 6214.56it/s]\n",
      "valid_step: 100%|██████████| 62/62 [00:00<00:00, 15562.35it/s]\n"
     ]
    },
    {
     "name": "stdout",
     "output_type": "stream",
     "text": [
      "Epoch: 14      loss: 0.08676      val_loss: 0.0792      \n",
      "\n"
     ]
    },
    {
     "name": "stderr",
     "output_type": "stream",
     "text": [
      "train_step: 100%|██████████| 250/250 [00:00<00:00, 7879.11it/s]\n",
      "valid_step: 100%|██████████| 62/62 [00:00<00:00, 18682.87it/s]\n"
     ]
    },
    {
     "name": "stdout",
     "output_type": "stream",
     "text": [
      "Epoch: 15      loss: 0.07914      val_loss: 0.07219     \n",
      "\n"
     ]
    },
    {
     "name": "stderr",
     "output_type": "stream",
     "text": [
      "train_step: 100%|██████████| 250/250 [00:00<00:00, 6802.84it/s]\n",
      "valid_step: 100%|██████████| 62/62 [00:00<00:00, 20177.44it/s]\n"
     ]
    },
    {
     "name": "stdout",
     "output_type": "stream",
     "text": [
      "Epoch: 16      loss: 0.07196      val_loss: 0.06575     \n",
      "\n"
     ]
    },
    {
     "name": "stderr",
     "output_type": "stream",
     "text": [
      "train_step: 100%|██████████| 250/250 [00:00<00:00, 7357.45it/s]\n",
      "valid_step: 100%|██████████| 62/62 [00:00<00:00, 20289.21it/s]\n"
     ]
    },
    {
     "name": "stdout",
     "output_type": "stream",
     "text": [
      "Epoch: 17      loss: 0.06537      val_loss: 0.05967     \n",
      "\n"
     ]
    },
    {
     "name": "stderr",
     "output_type": "stream",
     "text": [
      "train_step: 100%|██████████| 250/250 [00:00<00:00, 9689.93it/s]\n",
      "valid_step: 100%|██████████| 62/62 [00:00<00:00, 23685.84it/s]\n"
     ]
    },
    {
     "name": "stdout",
     "output_type": "stream",
     "text": [
      "Epoch: 18      loss: 0.0593       val_loss: 0.05413     \n",
      "\n"
     ]
    },
    {
     "name": "stderr",
     "output_type": "stream",
     "text": [
      "train_step: 100%|██████████| 250/250 [00:00<00:00, 9102.93it/s]\n",
      "valid_step: 100%|██████████| 62/62 [00:00<00:00, 20599.40it/s]\n"
     ]
    },
    {
     "name": "stdout",
     "output_type": "stream",
     "text": [
      "Epoch: 19      loss: 0.0538       val_loss: 0.04916     \n",
      "\n"
     ]
    },
    {
     "name": "stderr",
     "output_type": "stream",
     "text": [
      "train_step: 100%|██████████| 250/250 [00:00<00:00, 9931.48it/s]\n",
      "valid_step: 100%|██████████| 62/62 [00:00<00:00, 27335.95it/s]\n"
     ]
    },
    {
     "name": "stdout",
     "output_type": "stream",
     "text": [
      "Epoch: 20      loss: 0.04885      val_loss: 0.04466     \n",
      "\n"
     ]
    },
    {
     "name": "stderr",
     "output_type": "stream",
     "text": [
      "train_step: 100%|██████████| 250/250 [00:00<00:00, 9883.18it/s]\n",
      "valid_step: 100%|██████████| 62/62 [00:00<00:00, 21913.44it/s]\n"
     ]
    },
    {
     "name": "stdout",
     "output_type": "stream",
     "text": [
      "Epoch: 21      loss: 0.04441      val_loss: 0.04061     \n",
      "\n"
     ]
    },
    {
     "name": "stderr",
     "output_type": "stream",
     "text": [
      "train_step: 100%|██████████| 250/250 [00:00<00:00, 11280.10it/s]\n",
      "valid_step: 100%|██████████| 62/62 [00:00<00:00, 29443.71it/s]\n"
     ]
    },
    {
     "name": "stdout",
     "output_type": "stream",
     "text": [
      "Epoch: 22      loss: 0.04044      val_loss: 0.03703     \n",
      "\n"
     ]
    },
    {
     "name": "stderr",
     "output_type": "stream",
     "text": [
      "train_step: 100%|██████████| 250/250 [00:00<00:00, 14003.98it/s]\n",
      "valid_step: 100%|██████████| 62/62 [00:00<00:00, 35569.26it/s]\n"
     ]
    },
    {
     "name": "stdout",
     "output_type": "stream",
     "text": [
      "Epoch: 23      loss: 0.03691      val_loss: 0.03388     \n",
      "\n"
     ]
    },
    {
     "name": "stderr",
     "output_type": "stream",
     "text": [
      "train_step: 100%|██████████| 250/250 [00:00<00:00, 14615.11it/s]\n",
      "valid_step: 100%|██████████| 62/62 [00:00<00:00, 33330.79it/s]\n"
     ]
    },
    {
     "name": "stdout",
     "output_type": "stream",
     "text": [
      "Epoch: 24      loss: 0.03376      val_loss: 0.03104     \n",
      "\n"
     ]
    },
    {
     "name": "stderr",
     "output_type": "stream",
     "text": [
      "train_step: 100%|██████████| 250/250 [00:00<00:00, 15112.21it/s]\n",
      "valid_step: 100%|██████████| 62/62 [00:00<00:00, 29942.07it/s]\n"
     ]
    },
    {
     "name": "stdout",
     "output_type": "stream",
     "text": [
      "Epoch: 25      loss: 0.03096      val_loss: 0.02851     \n",
      "\n"
     ]
    },
    {
     "name": "stderr",
     "output_type": "stream",
     "text": [
      "train_step: 100%|██████████| 250/250 [00:00<00:00, 15376.59it/s]\n",
      "valid_step: 100%|██████████| 62/62 [00:00<00:00, 34910.30it/s]\n"
     ]
    },
    {
     "name": "stdout",
     "output_type": "stream",
     "text": [
      "Epoch: 26      loss: 0.02847      val_loss: 0.02623     \n",
      "\n"
     ]
    },
    {
     "name": "stderr",
     "output_type": "stream",
     "text": [
      "train_step: 100%|██████████| 250/250 [00:00<00:00, 16195.72it/s]\n",
      "valid_step: 100%|██████████| 62/62 [00:00<00:00, 33433.64it/s]\n"
     ]
    },
    {
     "name": "stdout",
     "output_type": "stream",
     "text": [
      "Epoch: 27      loss: 0.02624      val_loss: 0.02424     \n",
      "\n"
     ]
    },
    {
     "name": "stderr",
     "output_type": "stream",
     "text": [
      "train_step: 100%|██████████| 250/250 [00:00<00:00, 15928.06it/s]\n",
      "valid_step: 100%|██████████| 62/62 [00:00<00:00, 31278.19it/s]\n"
     ]
    },
    {
     "name": "stdout",
     "output_type": "stream",
     "text": [
      "Epoch: 28      loss: 0.02426      val_loss: 0.02243     \n",
      "\n"
     ]
    },
    {
     "name": "stderr",
     "output_type": "stream",
     "text": [
      "train_step: 100%|██████████| 250/250 [00:00<00:00, 16405.53it/s]\n",
      "valid_step: 100%|██████████| 62/62 [00:00<00:00, 33335.07it/s]\n"
     ]
    },
    {
     "name": "stdout",
     "output_type": "stream",
     "text": [
      "Epoch: 29      loss: 0.0225       val_loss: 0.02082     \n",
      "\n"
     ]
    },
    {
     "name": "stderr",
     "output_type": "stream",
     "text": [
      "train_step: 100%|██████████| 250/250 [00:00<00:00, 15947.20it/s]\n",
      "valid_step: 100%|██████████| 62/62 [00:00<00:00, 43254.63it/s]\n"
     ]
    },
    {
     "name": "stdout",
     "output_type": "stream",
     "text": [
      "Epoch: 30      loss: 0.0209       val_loss: 0.01938     \n",
      "\n"
     ]
    },
    {
     "name": "stderr",
     "output_type": "stream",
     "text": [
      "train_step: 100%|██████████| 250/250 [00:00<00:00, 17084.74it/s]\n",
      "valid_step: 100%|██████████| 62/62 [00:00<00:00, 39641.29it/s]\n"
     ]
    },
    {
     "name": "stdout",
     "output_type": "stream",
     "text": [
      "Epoch: 31      loss: 0.01947      val_loss: 0.01809     \n",
      "\n"
     ]
    },
    {
     "name": "stderr",
     "output_type": "stream",
     "text": [
      "train_step: 100%|██████████| 250/250 [00:00<00:00, 17246.32it/s]\n",
      "valid_step: 100%|██████████| 62/62 [00:00<00:00, 39347.38it/s]\n"
     ]
    },
    {
     "name": "stdout",
     "output_type": "stream",
     "text": [
      "Epoch: 32      loss: 0.01819      val_loss: 0.01691     \n",
      "\n"
     ]
    },
    {
     "name": "stderr",
     "output_type": "stream",
     "text": [
      "train_step: 100%|██████████| 250/250 [00:00<00:00, 17086.41it/s]\n",
      "valid_step: 100%|██████████| 62/62 [00:00<00:00, 38040.79it/s]\n"
     ]
    },
    {
     "name": "stdout",
     "output_type": "stream",
     "text": [
      "Epoch: 33      loss: 0.01703      val_loss: 0.01586     \n",
      "\n"
     ]
    },
    {
     "name": "stderr",
     "output_type": "stream",
     "text": [
      "train_step: 100%|██████████| 250/250 [00:00<00:00, 14764.52it/s]\n",
      "valid_step: 100%|██████████| 62/62 [00:00<00:00, 27431.10it/s]\n"
     ]
    },
    {
     "name": "stdout",
     "output_type": "stream",
     "text": [
      "Epoch: 34      loss: 0.01598      val_loss: 0.01489     \n",
      "\n"
     ]
    },
    {
     "name": "stderr",
     "output_type": "stream",
     "text": [
      "train_step: 100%|██████████| 250/250 [00:00<00:00, 14676.07it/s]\n",
      "valid_step: 100%|██████████| 62/62 [00:00<00:00, 23927.76it/s]\n"
     ]
    },
    {
     "name": "stdout",
     "output_type": "stream",
     "text": [
      "Epoch: 35      loss: 0.01502      val_loss: 0.01402     \n",
      "\n"
     ]
    },
    {
     "name": "stderr",
     "output_type": "stream",
     "text": [
      "train_step: 100%|██████████| 250/250 [00:00<00:00, 15341.27it/s]\n",
      "valid_step: 100%|██████████| 62/62 [00:00<00:00, 40461.62it/s]\n"
     ]
    },
    {
     "name": "stdout",
     "output_type": "stream",
     "text": [
      "Epoch: 36      loss: 0.01416      val_loss: 0.01322     \n",
      "\n"
     ]
    },
    {
     "name": "stderr",
     "output_type": "stream",
     "text": [
      "train_step: 100%|██████████| 250/250 [00:00<00:00, 14046.00it/s]\n",
      "valid_step: 100%|██████████| 62/62 [00:00<00:00, 25242.37it/s]\n"
     ]
    },
    {
     "name": "stdout",
     "output_type": "stream",
     "text": [
      "Epoch: 37      loss: 0.01336      val_loss: 0.0125      \n",
      "\n"
     ]
    },
    {
     "name": "stderr",
     "output_type": "stream",
     "text": [
      "train_step: 100%|██████████| 250/250 [00:00<00:00, 9889.71it/s]\n",
      "valid_step: 100%|██████████| 62/62 [00:00<00:00, 26004.68it/s]\n"
     ]
    },
    {
     "name": "stdout",
     "output_type": "stream",
     "text": [
      "Epoch: 38      loss: 0.01264      val_loss: 0.01183     \n",
      "\n"
     ]
    },
    {
     "name": "stderr",
     "output_type": "stream",
     "text": [
      "train_step: 100%|██████████| 250/250 [00:00<00:00, 13107.04it/s]\n",
      "valid_step: 100%|██████████| 62/62 [00:00<00:00, 31624.33it/s]\n"
     ]
    },
    {
     "name": "stdout",
     "output_type": "stream",
     "text": [
      "Epoch: 39      loss: 0.01198      val_loss: 0.01123     \n",
      "\n"
     ]
    },
    {
     "name": "stderr",
     "output_type": "stream",
     "text": [
      "train_step: 100%|██████████| 250/250 [00:00<00:00, 14332.64it/s]\n",
      "valid_step: 100%|██████████| 62/62 [00:00<00:00, 35046.75it/s]\n"
     ]
    },
    {
     "name": "stdout",
     "output_type": "stream",
     "text": [
      "Epoch: 40      loss: 0.01137      val_loss: 0.01066     \n",
      "\n"
     ]
    },
    {
     "name": "stderr",
     "output_type": "stream",
     "text": [
      "train_step: 100%|██████████| 250/250 [00:00<00:00, 16447.48it/s]\n",
      "valid_step: 100%|██████████| 62/62 [00:00<00:00, 40887.87it/s]\n"
     ]
    },
    {
     "name": "stdout",
     "output_type": "stream",
     "text": [
      "Epoch: 41      loss: 0.01081      val_loss: 0.01014     \n",
      "\n"
     ]
    },
    {
     "name": "stderr",
     "output_type": "stream",
     "text": [
      "train_step: 100%|██████████| 250/250 [00:00<00:00, 17406.93it/s]\n",
      "valid_step: 100%|██████████| 62/62 [00:00<00:00, 44173.07it/s]\n"
     ]
    },
    {
     "name": "stdout",
     "output_type": "stream",
     "text": [
      "Epoch: 42      loss: 0.01029      val_loss: 0.00966     \n",
      "\n"
     ]
    },
    {
     "name": "stderr",
     "output_type": "stream",
     "text": [
      "train_step: 100%|██████████| 250/250 [00:00<00:00, 17844.15it/s]\n",
      "valid_step: 100%|██████████| 62/62 [00:00<00:00, 31585.92it/s]\n"
     ]
    },
    {
     "name": "stdout",
     "output_type": "stream",
     "text": [
      "Epoch: 43      loss: 0.00981      val_loss: 0.00923     \n",
      "\n"
     ]
    },
    {
     "name": "stderr",
     "output_type": "stream",
     "text": [
      "train_step: 100%|██████████| 250/250 [00:00<00:00, 15664.42it/s]\n",
      "valid_step: 100%|██████████| 62/62 [00:00<00:00, 30319.09it/s]\n"
     ]
    },
    {
     "name": "stdout",
     "output_type": "stream",
     "text": [
      "Epoch: 44      loss: 0.00937      val_loss: 0.00882     \n",
      "\n"
     ]
    },
    {
     "name": "stderr",
     "output_type": "stream",
     "text": [
      "train_step: 100%|██████████| 250/250 [00:00<00:00, 16670.26it/s]\n",
      "valid_step: 100%|██████████| 62/62 [00:00<00:00, 37579.02it/s]\n"
     ]
    },
    {
     "name": "stdout",
     "output_type": "stream",
     "text": [
      "Epoch: 45      loss: 0.00896      val_loss: 0.00843     \n",
      "\n"
     ]
    },
    {
     "name": "stderr",
     "output_type": "stream",
     "text": [
      "train_step: 100%|██████████| 250/250 [00:00<00:00, 15655.76it/s]\n",
      "valid_step: 100%|██████████| 62/62 [00:00<00:00, 39593.00it/s]\n"
     ]
    },
    {
     "name": "stdout",
     "output_type": "stream",
     "text": [
      "Epoch: 46      loss: 0.00858      val_loss: 0.00808     \n",
      "\n"
     ]
    },
    {
     "name": "stderr",
     "output_type": "stream",
     "text": [
      "train_step: 100%|██████████| 250/250 [00:00<00:00, 16516.91it/s]\n",
      "valid_step: 100%|██████████| 62/62 [00:00<00:00, 37112.44it/s]\n"
     ]
    },
    {
     "name": "stdout",
     "output_type": "stream",
     "text": [
      "Epoch: 47      loss: 0.00822      val_loss: 0.00775     \n",
      "\n"
     ]
    },
    {
     "name": "stderr",
     "output_type": "stream",
     "text": [
      "train_step: 100%|██████████| 250/250 [00:00<00:00, 15610.55it/s]\n",
      "valid_step: 100%|██████████| 62/62 [00:00<00:00, 38377.63it/s]\n"
     ]
    },
    {
     "name": "stdout",
     "output_type": "stream",
     "text": [
      "Epoch: 48      loss: 0.00789      val_loss: 0.00744     \n",
      "\n"
     ]
    },
    {
     "name": "stderr",
     "output_type": "stream",
     "text": [
      "train_step: 100%|██████████| 250/250 [00:00<00:00, 17233.56it/s]\n",
      "valid_step: 100%|██████████| 62/62 [00:00<00:00, 41620.81it/s]\n"
     ]
    },
    {
     "name": "stdout",
     "output_type": "stream",
     "text": [
      "Epoch: 49      loss: 0.00758      val_loss: 0.00715     \n",
      "\n"
     ]
    },
    {
     "name": "stderr",
     "output_type": "stream",
     "text": [
      "train_step: 100%|██████████| 250/250 [00:00<00:00, 14929.96it/s]\n",
      "valid_step: 100%|██████████| 62/62 [00:00<00:00, 38708.97it/s]\n"
     ]
    },
    {
     "name": "stdout",
     "output_type": "stream",
     "text": [
      "Epoch: 50      loss: 0.00729      val_loss: 0.00688     \n",
      "\n"
     ]
    },
    {
     "name": "stderr",
     "output_type": "stream",
     "text": [
      "train_step: 100%|██████████| 250/250 [00:00<00:00, 16774.00it/s]\n",
      "valid_step: 100%|██████████| 62/62 [00:00<00:00, 33502.56it/s]\n"
     ]
    },
    {
     "name": "stdout",
     "output_type": "stream",
     "text": [
      "Epoch: 51      loss: 0.00701      val_loss: 0.00662     \n",
      "\n"
     ]
    },
    {
     "name": "stderr",
     "output_type": "stream",
     "text": [
      "train_step: 100%|██████████| 250/250 [00:00<00:00, 17179.35it/s]\n",
      "valid_step: 100%|██████████| 62/62 [00:00<00:00, 29251.61it/s]\n"
     ]
    },
    {
     "name": "stdout",
     "output_type": "stream",
     "text": [
      "Epoch: 52      loss: 0.00676      val_loss: 0.00639     \n",
      "\n"
     ]
    },
    {
     "name": "stderr",
     "output_type": "stream",
     "text": [
      "train_step: 100%|██████████| 250/250 [00:00<00:00, 9292.51it/s]\n",
      "valid_step: 100%|██████████| 62/62 [00:00<00:00, 27193.02it/s]\n"
     ]
    },
    {
     "name": "stdout",
     "output_type": "stream",
     "text": [
      "Epoch: 53      loss: 0.00652      val_loss: 0.00616     \n",
      "\n"
     ]
    },
    {
     "name": "stderr",
     "output_type": "stream",
     "text": [
      "train_step: 100%|██████████| 250/250 [00:00<00:00, 12493.31it/s]\n",
      "valid_step: 100%|██████████| 62/62 [00:00<00:00, 31713.03it/s]\n"
     ]
    },
    {
     "name": "stdout",
     "output_type": "stream",
     "text": [
      "Epoch: 54      loss: 0.00629      val_loss: 0.00595     \n",
      "\n"
     ]
    },
    {
     "name": "stderr",
     "output_type": "stream",
     "text": [
      "train_step: 100%|██████████| 250/250 [00:00<00:00, 12898.72it/s]\n",
      "valid_step: 100%|██████████| 62/62 [00:00<00:00, 26817.25it/s]\n"
     ]
    },
    {
     "name": "stdout",
     "output_type": "stream",
     "text": [
      "Epoch: 55      loss: 0.00608      val_loss: 0.00575     \n",
      "\n"
     ]
    },
    {
     "name": "stderr",
     "output_type": "stream",
     "text": [
      "train_step: 100%|██████████| 250/250 [00:00<00:00, 9861.53it/s]\n",
      "valid_step: 100%|██████████| 62/62 [00:00<00:00, 26505.64it/s]\n"
     ]
    },
    {
     "name": "stdout",
     "output_type": "stream",
     "text": [
      "Epoch: 56      loss: 0.00587      val_loss: 0.00556     \n",
      "\n"
     ]
    },
    {
     "name": "stderr",
     "output_type": "stream",
     "text": [
      "train_step: 100%|██████████| 250/250 [00:00<00:00, 13224.40it/s]\n",
      "valid_step: 100%|██████████| 62/62 [00:00<00:00, 31467.43it/s]\n"
     ]
    },
    {
     "name": "stdout",
     "output_type": "stream",
     "text": [
      "Epoch: 57      loss: 0.00568      val_loss: 0.00538     \n",
      "\n"
     ]
    },
    {
     "name": "stderr",
     "output_type": "stream",
     "text": [
      "train_step: 100%|██████████| 250/250 [00:00<00:00, 13942.53it/s]\n",
      "valid_step: 100%|██████████| 62/62 [00:00<00:00, 26950.65it/s]\n"
     ]
    },
    {
     "name": "stdout",
     "output_type": "stream",
     "text": [
      "Epoch: 58      loss: 0.0055       val_loss: 0.00521     \n",
      "\n"
     ]
    },
    {
     "name": "stderr",
     "output_type": "stream",
     "text": [
      "train_step: 100%|██████████| 250/250 [00:00<00:00, 13419.20it/s]\n",
      "valid_step: 100%|██████████| 62/62 [00:00<00:00, 33667.38it/s]\n"
     ]
    },
    {
     "name": "stdout",
     "output_type": "stream",
     "text": [
      "Epoch: 59      loss: 0.00533      val_loss: 0.00505     \n",
      "\n"
     ]
    },
    {
     "name": "stderr",
     "output_type": "stream",
     "text": [
      "train_step: 100%|██████████| 250/250 [00:00<00:00, 14613.89it/s]\n",
      "valid_step: 100%|██████████| 62/62 [00:00<00:00, 37918.76it/s]\n"
     ]
    },
    {
     "name": "stdout",
     "output_type": "stream",
     "text": [
      "Epoch: 60      loss: 0.00517      val_loss: 0.0049      \n",
      "\n"
     ]
    },
    {
     "name": "stderr",
     "output_type": "stream",
     "text": [
      "train_step: 100%|██████████| 250/250 [00:00<00:00, 12420.06it/s]\n",
      "valid_step: 100%|██████████| 62/62 [00:00<00:00, 22628.51it/s]\n"
     ]
    },
    {
     "name": "stdout",
     "output_type": "stream",
     "text": [
      "Epoch: 61      loss: 0.00502      val_loss: 0.00476     \n",
      "\n"
     ]
    },
    {
     "name": "stderr",
     "output_type": "stream",
     "text": [
      "train_step: 100%|██████████| 250/250 [00:00<00:00, 9151.55it/s]\n",
      "valid_step: 100%|██████████| 62/62 [00:00<00:00, 19344.41it/s]\n"
     ]
    },
    {
     "name": "stdout",
     "output_type": "stream",
     "text": [
      "Epoch: 62      loss: 0.00487      val_loss: 0.00462     \n",
      "\n"
     ]
    },
    {
     "name": "stderr",
     "output_type": "stream",
     "text": [
      "train_step: 100%|██████████| 250/250 [00:00<00:00, 9431.42it/s]\n",
      "valid_step: 100%|██████████| 62/62 [00:00<00:00, 22410.10it/s]\n"
     ]
    },
    {
     "name": "stdout",
     "output_type": "stream",
     "text": [
      "Epoch: 63      loss: 0.00473      val_loss: 0.00449     \n",
      "\n"
     ]
    },
    {
     "name": "stderr",
     "output_type": "stream",
     "text": [
      "train_step: 100%|██████████| 250/250 [00:00<00:00, 8668.35it/s]\n",
      "valid_step: 100%|██████████| 62/62 [00:00<00:00, 14136.05it/s]\n"
     ]
    },
    {
     "name": "stdout",
     "output_type": "stream",
     "text": [
      "Epoch: 64      loss: 0.0046       val_loss: 0.00436     \n",
      "\n"
     ]
    },
    {
     "name": "stderr",
     "output_type": "stream",
     "text": [
      "train_step: 100%|██████████| 250/250 [00:00<00:00, 8810.16it/s]\n",
      "valid_step: 100%|██████████| 62/62 [00:00<00:00, 19524.50it/s]\n"
     ]
    },
    {
     "name": "stdout",
     "output_type": "stream",
     "text": [
      "Epoch: 65      loss: 0.00447      val_loss: 0.00425     \n",
      "\n"
     ]
    },
    {
     "name": "stderr",
     "output_type": "stream",
     "text": [
      "train_step: 100%|██████████| 250/250 [00:00<00:00, 7489.24it/s]\n",
      "valid_step: 100%|██████████| 62/62 [00:00<00:00, 18269.41it/s]\n"
     ]
    },
    {
     "name": "stdout",
     "output_type": "stream",
     "text": [
      "Epoch: 66      loss: 0.00435      val_loss: 0.00413     \n",
      "\n"
     ]
    },
    {
     "name": "stderr",
     "output_type": "stream",
     "text": [
      "train_step: 100%|██████████| 250/250 [00:00<00:00, 8029.04it/s]\n",
      "valid_step: 100%|██████████| 62/62 [00:00<00:00, 17323.75it/s]\n"
     ]
    },
    {
     "name": "stdout",
     "output_type": "stream",
     "text": [
      "Epoch: 67      loss: 0.00424      val_loss: 0.00402     \n",
      "\n"
     ]
    },
    {
     "name": "stderr",
     "output_type": "stream",
     "text": [
      "train_step: 100%|██████████| 250/250 [00:00<00:00, 9974.85it/s]\n",
      "valid_step: 100%|██████████| 62/62 [00:00<00:00, 20895.69it/s]\n"
     ]
    },
    {
     "name": "stdout",
     "output_type": "stream",
     "text": [
      "Epoch: 68      loss: 0.00413      val_loss: 0.00392     \n",
      "\n"
     ]
    },
    {
     "name": "stderr",
     "output_type": "stream",
     "text": [
      "train_step: 100%|██████████| 250/250 [00:00<00:00, 8678.33it/s]\n",
      "valid_step: 100%|██████████| 62/62 [00:00<00:00, 22699.62it/s]\n"
     ]
    },
    {
     "name": "stdout",
     "output_type": "stream",
     "text": [
      "Epoch: 69      loss: 0.00402      val_loss: 0.00382     \n",
      "\n"
     ]
    },
    {
     "name": "stderr",
     "output_type": "stream",
     "text": [
      "train_step: 100%|██████████| 250/250 [00:00<00:00, 9347.10it/s]\n",
      "valid_step: 100%|██████████| 62/62 [00:00<00:00, 24255.84it/s]\n"
     ]
    },
    {
     "name": "stdout",
     "output_type": "stream",
     "text": [
      "Epoch: 70      loss: 0.00392      val_loss: 0.00373     \n",
      "\n"
     ]
    },
    {
     "name": "stderr",
     "output_type": "stream",
     "text": [
      "train_step: 100%|██████████| 250/250 [00:00<00:00, 8755.72it/s]\n",
      "valid_step: 100%|██████████| 62/62 [00:00<00:00, 19353.04it/s]\n"
     ]
    },
    {
     "name": "stdout",
     "output_type": "stream",
     "text": [
      "Epoch: 71      loss: 0.00382      val_loss: 0.00364     \n",
      "\n"
     ]
    },
    {
     "name": "stderr",
     "output_type": "stream",
     "text": [
      "train_step: 100%|██████████| 250/250 [00:00<00:00, 9250.94it/s]\n",
      "valid_step: 100%|██████████| 62/62 [00:00<00:00, 25052.68it/s]\n"
     ]
    },
    {
     "name": "stdout",
     "output_type": "stream",
     "text": [
      "Epoch: 72      loss: 0.00373      val_loss: 0.00355     \n",
      "\n"
     ]
    },
    {
     "name": "stderr",
     "output_type": "stream",
     "text": [
      "train_step: 100%|██████████| 250/250 [00:00<00:00, 8532.85it/s]\n",
      "valid_step: 100%|██████████| 62/62 [00:00<00:00, 18694.96it/s]\n"
     ]
    },
    {
     "name": "stdout",
     "output_type": "stream",
     "text": [
      "Epoch: 73      loss: 0.00364      val_loss: 0.00347     \n",
      "\n"
     ]
    },
    {
     "name": "stderr",
     "output_type": "stream",
     "text": [
      "train_step: 100%|██████████| 250/250 [00:00<00:00, 9731.20it/s]\n",
      "valid_step: 100%|██████████| 62/62 [00:00<00:00, 17915.73it/s]\n"
     ]
    },
    {
     "name": "stdout",
     "output_type": "stream",
     "text": [
      "Epoch: 74      loss: 0.00356      val_loss: 0.00339     \n",
      "\n"
     ]
    },
    {
     "name": "stderr",
     "output_type": "stream",
     "text": [
      "train_step: 100%|██████████| 250/250 [00:00<00:00, 8518.08it/s]\n",
      "valid_step: 100%|██████████| 62/62 [00:00<00:00, 25663.36it/s]\n"
     ]
    },
    {
     "name": "stdout",
     "output_type": "stream",
     "text": [
      "Epoch: 75      loss: 0.00348      val_loss: 0.00331     \n",
      "\n"
     ]
    },
    {
     "name": "stderr",
     "output_type": "stream",
     "text": [
      "train_step: 100%|██████████| 250/250 [00:00<00:00, 9822.91it/s]\n",
      "valid_step: 100%|██████████| 62/62 [00:00<00:00, 25567.48it/s]\n"
     ]
    },
    {
     "name": "stdout",
     "output_type": "stream",
     "text": [
      "Epoch: 76      loss: 0.0034       val_loss: 0.00323     \n",
      "\n"
     ]
    },
    {
     "name": "stderr",
     "output_type": "stream",
     "text": [
      "train_step: 100%|██████████| 250/250 [00:00<00:00, 10116.21it/s]\n",
      "valid_step: 100%|██████████| 62/62 [00:00<00:00, 25454.86it/s]\n"
     ]
    },
    {
     "name": "stdout",
     "output_type": "stream",
     "text": [
      "Epoch: 77      loss: 0.00332      val_loss: 0.00316     \n",
      "\n"
     ]
    },
    {
     "name": "stderr",
     "output_type": "stream",
     "text": [
      "train_step: 100%|██████████| 250/250 [00:00<00:00, 10358.66it/s]\n",
      "valid_step: 100%|██████████| 62/62 [00:00<00:00, 21160.94it/s]\n"
     ]
    },
    {
     "name": "stdout",
     "output_type": "stream",
     "text": [
      "Epoch: 78      loss: 0.00325      val_loss: 0.00309     \n",
      "\n"
     ]
    },
    {
     "name": "stderr",
     "output_type": "stream",
     "text": [
      "train_step: 100%|██████████| 250/250 [00:00<00:00, 10357.43it/s]\n",
      "valid_step: 100%|██████████| 62/62 [00:00<00:00, 19345.84it/s]\n"
     ]
    },
    {
     "name": "stdout",
     "output_type": "stream",
     "text": [
      "Epoch: 79      loss: 0.00318      val_loss: 0.00303     \n",
      "\n"
     ]
    },
    {
     "name": "stderr",
     "output_type": "stream",
     "text": [
      "train_step: 100%|██████████| 250/250 [00:00<00:00, 9570.18it/s]\n",
      "valid_step: 100%|██████████| 62/62 [00:00<00:00, 25372.90it/s]\n"
     ]
    },
    {
     "name": "stdout",
     "output_type": "stream",
     "text": [
      "Epoch: 80      loss: 0.00311      val_loss: 0.00296     \n",
      "\n"
     ]
    },
    {
     "name": "stderr",
     "output_type": "stream",
     "text": [
      "train_step: 100%|██████████| 250/250 [00:00<00:00, 9026.30it/s]\n",
      "valid_step: 100%|██████████| 62/62 [00:00<00:00, 24089.56it/s]\n"
     ]
    },
    {
     "name": "stdout",
     "output_type": "stream",
     "text": [
      "Epoch: 81      loss: 0.00305      val_loss: 0.0029      \n",
      "\n"
     ]
    },
    {
     "name": "stderr",
     "output_type": "stream",
     "text": [
      "train_step: 100%|██████████| 250/250 [00:00<00:00, 9743.32it/s]\n",
      "valid_step: 100%|██████████| 62/62 [00:00<00:00, 30475.43it/s]\n"
     ]
    },
    {
     "name": "stdout",
     "output_type": "stream",
     "text": [
      "Epoch: 82      loss: 0.00298      val_loss: 0.00284     \n",
      "\n"
     ]
    },
    {
     "name": "stderr",
     "output_type": "stream",
     "text": [
      "train_step: 100%|██████████| 250/250 [00:00<00:00, 13315.93it/s]\n",
      "valid_step: 100%|██████████| 62/62 [00:00<00:00, 31046.66it/s]\n"
     ]
    },
    {
     "name": "stdout",
     "output_type": "stream",
     "text": [
      "Epoch: 83      loss: 0.00292      val_loss: 0.00279     \n",
      "\n"
     ]
    },
    {
     "name": "stderr",
     "output_type": "stream",
     "text": [
      "train_step: 100%|██████████| 250/250 [00:00<00:00, 14746.87it/s]\n",
      "valid_step: 100%|██████████| 62/62 [00:00<00:00, 35146.22it/s]\n"
     ]
    },
    {
     "name": "stdout",
     "output_type": "stream",
     "text": [
      "Epoch: 84      loss: 0.00287      val_loss: 0.00273     \n",
      "\n"
     ]
    },
    {
     "name": "stderr",
     "output_type": "stream",
     "text": [
      "train_step: 100%|██████████| 250/250 [00:00<00:00, 13930.31it/s]\n",
      "valid_step: 100%|██████████| 62/62 [00:00<00:00, 26676.94it/s]\n"
     ]
    },
    {
     "name": "stdout",
     "output_type": "stream",
     "text": [
      "Epoch: 85      loss: 0.00281      val_loss: 0.00268     \n",
      "\n"
     ]
    },
    {
     "name": "stderr",
     "output_type": "stream",
     "text": [
      "train_step: 100%|██████████| 250/250 [00:00<00:00, 14498.11it/s]\n",
      "valid_step: 100%|██████████| 62/62 [00:00<00:00, 33979.73it/s]\n"
     ]
    },
    {
     "name": "stdout",
     "output_type": "stream",
     "text": [
      "Epoch: 86      loss: 0.00276      val_loss: 0.00263     \n",
      "\n"
     ]
    },
    {
     "name": "stderr",
     "output_type": "stream",
     "text": [
      "train_step: 100%|██████████| 250/250 [00:00<00:00, 16927.81it/s]\n",
      "valid_step: 100%|██████████| 62/62 [00:00<00:00, 36901.78it/s]\n"
     ]
    },
    {
     "name": "stdout",
     "output_type": "stream",
     "text": [
      "Epoch: 87      loss: 0.0027       val_loss: 0.00258     \n",
      "\n"
     ]
    },
    {
     "name": "stderr",
     "output_type": "stream",
     "text": [
      "train_step: 100%|██████████| 250/250 [00:00<00:00, 17090.03it/s]\n",
      "valid_step: 100%|██████████| 62/62 [00:00<00:00, 40405.04it/s]\n"
     ]
    },
    {
     "name": "stdout",
     "output_type": "stream",
     "text": [
      "Epoch: 88      loss: 0.00265      val_loss: 0.00253     \n",
      "\n"
     ]
    },
    {
     "name": "stderr",
     "output_type": "stream",
     "text": [
      "train_step: 100%|██████████| 250/250 [00:00<00:00, 17462.88it/s]\n",
      "valid_step: 100%|██████████| 62/62 [00:00<00:00, 39258.28it/s]\n"
     ]
    },
    {
     "name": "stdout",
     "output_type": "stream",
     "text": [
      "Epoch: 89      loss: 0.0026       val_loss: 0.00248     \n",
      "\n"
     ]
    },
    {
     "name": "stderr",
     "output_type": "stream",
     "text": [
      "train_step: 100%|██████████| 250/250 [00:00<00:00, 16253.97it/s]\n",
      "valid_step: 100%|██████████| 62/62 [00:00<00:00, 33399.29it/s]\n"
     ]
    },
    {
     "name": "stdout",
     "output_type": "stream",
     "text": [
      "Epoch: 90      loss: 0.00255      val_loss: 0.00244     \n",
      "\n"
     ]
    },
    {
     "name": "stderr",
     "output_type": "stream",
     "text": [
      "train_step: 100%|██████████| 250/250 [00:00<00:00, 16191.22it/s]\n",
      "valid_step: 100%|██████████| 62/62 [00:00<00:00, 33975.29it/s]\n"
     ]
    },
    {
     "name": "stdout",
     "output_type": "stream",
     "text": [
      "Epoch: 91      loss: 0.00251      val_loss: 0.00239     \n",
      "\n"
     ]
    },
    {
     "name": "stderr",
     "output_type": "stream",
     "text": [
      "train_step: 100%|██████████| 250/250 [00:00<00:00, 15096.98it/s]\n",
      "valid_step: 100%|██████████| 62/62 [00:00<00:00, 29493.80it/s]\n"
     ]
    },
    {
     "name": "stdout",
     "output_type": "stream",
     "text": [
      "Epoch: 92      loss: 0.00246      val_loss: 0.00235     \n",
      "\n"
     ]
    },
    {
     "name": "stderr",
     "output_type": "stream",
     "text": [
      "train_step: 100%|██████████| 250/250 [00:00<00:00, 13241.60it/s]\n",
      "valid_step: 100%|██████████| 62/62 [00:00<00:00, 40099.75it/s]\n"
     ]
    },
    {
     "name": "stdout",
     "output_type": "stream",
     "text": [
      "Epoch: 93      loss: 0.00242      val_loss: 0.00231     \n",
      "\n"
     ]
    },
    {
     "name": "stderr",
     "output_type": "stream",
     "text": [
      "train_step: 100%|██████████| 250/250 [00:00<00:00, 16909.24it/s]\n",
      "valid_step: 100%|██████████| 62/62 [00:00<00:00, 41023.32it/s]\n"
     ]
    },
    {
     "name": "stdout",
     "output_type": "stream",
     "text": [
      "Epoch: 94      loss: 0.00238      val_loss: 0.00227     \n",
      "\n"
     ]
    },
    {
     "name": "stderr",
     "output_type": "stream",
     "text": [
      "train_step: 100%|██████████| 250/250 [00:00<00:00, 14791.18it/s]\n",
      "valid_step: 100%|██████████| 62/62 [00:00<00:00, 36724.59it/s]\n"
     ]
    },
    {
     "name": "stdout",
     "output_type": "stream",
     "text": [
      "Epoch: 95      loss: 0.00234      val_loss: 0.00223     \n",
      "\n"
     ]
    },
    {
     "name": "stderr",
     "output_type": "stream",
     "text": [
      "train_step: 100%|██████████| 250/250 [00:00<00:00, 15508.73it/s]\n",
      "valid_step: 100%|██████████| 62/62 [00:00<00:00, 40348.62it/s]\n"
     ]
    },
    {
     "name": "stdout",
     "output_type": "stream",
     "text": [
      "Epoch: 96      loss: 0.0023       val_loss: 0.0022      \n",
      "\n"
     ]
    },
    {
     "name": "stderr",
     "output_type": "stream",
     "text": [
      "train_step: 100%|██████████| 250/250 [00:00<00:00, 10094.30it/s]\n",
      "valid_step: 100%|██████████| 62/62 [00:00<00:00, 21271.73it/s]\n"
     ]
    },
    {
     "name": "stdout",
     "output_type": "stream",
     "text": [
      "Epoch: 97      loss: 0.00226      val_loss: 0.00216     \n",
      "\n"
     ]
    },
    {
     "name": "stderr",
     "output_type": "stream",
     "text": [
      "train_step: 100%|██████████| 250/250 [00:00<00:00, 9281.82it/s]\n",
      "valid_step: 100%|██████████| 62/62 [00:00<00:00, 29540.71it/s]\n"
     ]
    },
    {
     "name": "stdout",
     "output_type": "stream",
     "text": [
      "Epoch: 98      loss: 0.00222      val_loss: 0.00212     \n",
      "\n"
     ]
    },
    {
     "name": "stderr",
     "output_type": "stream",
     "text": [
      "train_step: 100%|██████████| 250/250 [00:00<00:00, 11408.48it/s]\n",
      "valid_step: 100%|██████████| 62/62 [00:00<00:00, 23287.08it/s]\n"
     ]
    },
    {
     "name": "stdout",
     "output_type": "stream",
     "text": [
      "Epoch: 99      loss: 0.00219      val_loss: 0.00209     \n",
      "\n"
     ]
    },
    {
     "name": "stderr",
     "output_type": "stream",
     "text": [
      "train_step: 100%|██████████| 250/250 [00:00<00:00, 14515.17it/s]\n",
      "valid_step: 100%|██████████| 62/62 [00:00<00:00, 27122.12it/s]"
     ]
    },
    {
     "name": "stdout",
     "output_type": "stream",
     "text": [
      "Epoch: 100     loss: 0.00215      val_loss: 0.00206     \n",
      "\n"
     ]
    },
    {
     "name": "stderr",
     "output_type": "stream",
     "text": [
      "\n"
     ]
    }
   ],
   "source": [
    "AND_Model.fit(\n",
    "\tX_Train,\n",
    "\ty_Train,\n",
    "\tepochs,\n",
    "\tbatch_size,\n",
    "\tlr,\n",
    "\t(X_Valid, y_Valid)\n",
    ")"
   ]
  },
  {
   "cell_type": "markdown",
   "metadata": {},
   "source": [
    "Plotting Loss"
   ]
  },
  {
   "cell_type": "code",
   "execution_count": 12,
   "metadata": {},
   "outputs": [
    {
     "data": {
      "image/png": "[encoded data removed]",
      "text/plain": [
       "<Figure size 432x432 with 1 Axes>"
      ]
     },
     "metadata": {
      "needs_background": "light"
     },
     "output_type": "display_data"
    }
   ],
   "source": [
    "AND_Model.PlotLoss()"
   ]
  },
  {
   "cell_type": "markdown",
   "metadata": {},
   "source": [
    "Model is converging after 60 epochs. No underfitting or overfitting is observed."
   ]
  },
  {
   "cell_type": "markdown",
   "metadata": {},
   "source": [
    "Parameters of the Model"
   ]
  },
  {
   "cell_type": "code",
   "execution_count": 13,
   "metadata": {},
   "outputs": [
    {
     "name": "stdout",
     "output_type": "stream",
     "text": [
      "self.W1 [[-3.40140251 -2.29431519]\n",
      " [-1.21794556 -3.90987566]]\n",
      "self.b1 [[2.36109393 3.94508943]]\n",
      "self.A1 [[ 1.13890021e+00  5.50254097e-02]\n",
      " [ 2.36912555e+00  3.91360979e+00]\n",
      " [ 1.11236150e+00 -1.04328742e-03]\n",
      " [ 2.36810347e+00  3.98820892e+00]\n",
      " [-1.01322620e+00  1.68132422e+00]\n",
      " [-1.05590786e+00  1.58692142e+00]\n",
      " [ 1.13490484e+00  3.59747659e-02]\n",
      " [-1.01241857e+00  1.72066862e+00]]\n",
      "self.H1 [[0.75747766 0.51375288]\n",
      " [0.91444247 0.98042264]\n",
      " [0.75256911 0.49973918]\n",
      " [0.91436247 0.98180434]\n",
      " [0.26634895 0.8430798 ]\n",
      " [0.25809224 0.83018253]\n",
      " [0.75674293 0.50899272]\n",
      " [0.2665068  0.84821494]]\n",
      "self.W2 [[-4.7373722 ]\n",
      " [-6.49256503]]\n",
      "self.b2 [[3.63294508]]\n",
      "self.A2 [[-3.29108253]\n",
      " [-7.06456699]\n",
      " [-3.17684399]\n",
      " [-7.0731588 ]\n",
      " [-3.10259947]\n",
      " [-2.97974799]\n",
      " [-3.2566962 ]\n",
      " [-3.13668748]]\n",
      "self.H2 [[0.03587838]\n",
      " [0.00085413]\n",
      " [0.04004648]\n",
      " [0.00084683]\n",
      " [0.04300016]\n",
      " [0.04834922]\n",
      " [0.03708701]\n",
      " [0.04161905]]\n",
      "self.dW1 [[ 5.62742598e-04  9.70705373e-04]\n",
      " [ 2.52970622e-04 -2.21114283e-05]]\n",
      "self.db1 [[-0.00021588 -0.00048667]]\n",
      "self.dA1 [[-7.26271746e-08 -2.34914338e-08]\n",
      " [-3.21656114e-04 -5.92991897e-04]\n",
      " [-6.75001385e-08 -2.28362052e-08]\n",
      " [ 5.16276966e-04  7.23400377e-04]\n",
      " [-4.80296384e-04 -4.75348335e-04]\n",
      " [-2.42807194e-04 -4.56796087e-04]\n",
      " [-2.18522881e-04 -4.15125130e-04]\n",
      " [ 5.31264901e-04  7.30235383e-04]]\n",
      "self.dH1 [[-8.93666039e-07 -1.22476994e-06]\n",
      " [-1.73081386e-03 -2.37208162e-03]\n",
      " [-8.63654134e-07 -1.18363860e-06]\n",
      " [ 5.92566102e-03  8.12112264e-03]\n",
      " [-2.48869221e-03 -3.41075444e-03]\n",
      " [-1.33514461e-03 -1.82981663e-03]\n",
      " [-1.21439722e-03 -1.66433226e-03]\n",
      " [ 5.99710965e-03  8.21904305e-03]]\n",
      "self.dW2 [[0.00057833]\n",
      " [0.00065388]]\n",
      "self.db2 [[-0.00108752]]\n",
      "self.dA2 [[ 1.88642871e-07]\n",
      " [ 3.65355381e-04]\n",
      " [ 1.82307695e-07]\n",
      " [-1.25084054e-03]\n",
      " [ 5.25334995e-04]\n",
      " [ 2.81834042e-04]\n",
      " [ 2.56345625e-04]\n",
      " [-1.26592254e-03]]\n",
      "self.dH2 [[ 0.00021726]\n",
      " [ 0.00974912]\n",
      " [ 0.00021358]\n",
      " [-0.01837152]\n",
      " [ 0.01173902]\n",
      " [ 0.00854113]\n",
      " [ 0.00813898]\n",
      " [-0.01848653]]\n"
     ]
    }
   ],
   "source": [
    "AND_Model.PrintParameters()"
   ]
  },
  {
   "cell_type": "markdown",
   "metadata": {},
   "source": [
    "### 1c: OR"
   ]
  },
  {
   "cell_type": "markdown",
   "metadata": {},
   "source": [
    "- Generating Data\n",
    "- Setting Training Parameters\n",
    "- Creating Model"
   ]
  },
  {
   "cell_type": "code",
   "execution_count": 14,
   "metadata": {},
   "outputs": [],
   "source": [
    "# Generating Data\n",
    "X_Train, y_Train, X_Valid, y_Valid = GenerateDatasets(2500, \"OR\", 0.2)\n",
    "\n",
    "# Training Data\n",
    "batch_size = 8\n",
    "epochs = 100\n",
    "lr = 0.05\n",
    "\n",
    "# Creating Model\n",
    "OR_Model = MLP(2)"
   ]
  },
  {
   "cell_type": "markdown",
   "metadata": {},
   "source": [
    "Training Model"
   ]
  },
  {
   "cell_type": "code",
   "execution_count": 15,
   "metadata": {},
   "outputs": [
    {
     "name": "stderr",
     "output_type": "stream",
     "text": [
      "train_step: 100%|██████████| 250/250 [00:00<00:00, 5372.57it/s]\n",
      "valid_step: 100%|██████████| 62/62 [00:00<00:00, 28849.22it/s]\n"
     ]
    },
    {
     "name": "stdout",
     "output_type": "stream",
     "text": [
      "Epoch: 1       loss: 0.29496      val_loss: 0.18625     \n",
      "\n"
     ]
    },
    {
     "name": "stderr",
     "output_type": "stream",
     "text": [
      "train_step: 100%|██████████| 250/250 [00:00<00:00, 13803.05it/s]\n",
      "valid_step: 100%|██████████| 62/62 [00:00<00:00, 31210.62it/s]\n"
     ]
    },
    {
     "name": "stdout",
     "output_type": "stream",
     "text": [
      "Epoch: 2       loss: 0.18978      val_loss: 0.17369     \n",
      "\n"
     ]
    },
    {
     "name": "stderr",
     "output_type": "stream",
     "text": [
      "train_step: 100%|██████████| 250/250 [00:00<00:00, 14872.57it/s]\n",
      "valid_step: 100%|██████████| 62/62 [00:00<00:00, 33425.04it/s]\n"
     ]
    },
    {
     "name": "stdout",
     "output_type": "stream",
     "text": [
      "Epoch: 3       loss: 0.18133      val_loss: 0.16558     \n",
      "\n"
     ]
    },
    {
     "name": "stderr",
     "output_type": "stream",
     "text": [
      "train_step: 100%|██████████| 250/250 [00:00<00:00, 15540.68it/s]\n",
      "valid_step: 100%|██████████| 62/62 [00:00<00:00, 35794.47it/s]\n"
     ]
    },
    {
     "name": "stdout",
     "output_type": "stream",
     "text": [
      "Epoch: 4       loss: 0.17161      val_loss: 0.15591     \n",
      "\n"
     ]
    },
    {
     "name": "stderr",
     "output_type": "stream",
     "text": [
      "train_step: 100%|██████████| 250/250 [00:00<00:00, 14779.50it/s]\n",
      "valid_step: 100%|██████████| 62/62 [00:00<00:00, 30521.93it/s]\n"
     ]
    },
    {
     "name": "stdout",
     "output_type": "stream",
     "text": [
      "Epoch: 5       loss: 0.15934      val_loss: 0.14356     \n",
      "\n"
     ]
    },
    {
     "name": "stderr",
     "output_type": "stream",
     "text": [
      "train_step: 100%|██████████| 250/250 [00:00<00:00, 15223.23it/s]\n",
      "valid_step: 100%|██████████| 62/62 [00:00<00:00, 30241.52it/s]\n"
     ]
    },
    {
     "name": "stdout",
     "output_type": "stream",
     "text": [
      "Epoch: 6       loss: 0.14448      val_loss: 0.12868     \n",
      "\n"
     ]
    },
    {
     "name": "stderr",
     "output_type": "stream",
     "text": [
      "train_step: 100%|██████████| 250/250 [00:00<00:00, 15586.65it/s]\n",
      "valid_step: 100%|██████████| 62/62 [00:00<00:00, 37687.95it/s]\n"
     ]
    },
    {
     "name": "stdout",
     "output_type": "stream",
     "text": [
      "Epoch: 7       loss: 0.1277       val_loss: 0.11333     \n",
      "\n"
     ]
    },
    {
     "name": "stderr",
     "output_type": "stream",
     "text": [
      "train_step: 100%|██████████| 250/250 [00:00<00:00, 16741.32it/s]\n",
      "valid_step: 100%|██████████| 62/62 [00:00<00:00, 33480.99it/s]\n"
     ]
    },
    {
     "name": "stdout",
     "output_type": "stream",
     "text": [
      "Epoch: 8       loss: 0.11029      val_loss: 0.0971      \n",
      "\n"
     ]
    },
    {
     "name": "stderr",
     "output_type": "stream",
     "text": [
      "train_step: 100%|██████████| 250/250 [00:00<00:00, 17296.95it/s]\n",
      "valid_step: 100%|██████████| 62/62 [00:00<00:00, 39550.85it/s]\n"
     ]
    },
    {
     "name": "stdout",
     "output_type": "stream",
     "text": [
      "Epoch: 9       loss: 0.09339      val_loss: 0.08151     \n",
      "\n"
     ]
    },
    {
     "name": "stderr",
     "output_type": "stream",
     "text": [
      "train_step: 100%|██████████| 250/250 [00:00<00:00, 16772.12it/s]\n",
      "valid_step: 100%|██████████| 62/62 [00:00<00:00, 39163.68it/s]\n"
     ]
    },
    {
     "name": "stdout",
     "output_type": "stream",
     "text": [
      "Epoch: 10      loss: 0.07829      val_loss: 0.06831     \n",
      "\n"
     ]
    },
    {
     "name": "stderr",
     "output_type": "stream",
     "text": [
      "train_step: 100%|██████████| 250/250 [00:00<00:00, 15828.04it/s]\n",
      "valid_step: 100%|██████████| 62/62 [00:00<00:00, 32408.63it/s]\n"
     ]
    },
    {
     "name": "stdout",
     "output_type": "stream",
     "text": [
      "Epoch: 11      loss: 0.06537      val_loss: 0.0572      \n",
      "\n"
     ]
    },
    {
     "name": "stderr",
     "output_type": "stream",
     "text": [
      "train_step: 100%|██████████| 250/250 [00:00<00:00, 17358.81it/s]\n",
      "valid_step: 100%|██████████| 62/62 [00:00<00:00, 41310.06it/s]\n"
     ]
    },
    {
     "name": "stdout",
     "output_type": "stream",
     "text": [
      "Epoch: 12      loss: 0.05472      val_loss: 0.04823     \n",
      "\n"
     ]
    },
    {
     "name": "stderr",
     "output_type": "stream",
     "text": [
      "train_step: 100%|██████████| 250/250 [00:00<00:00, 17659.93it/s]\n",
      "valid_step: 100%|██████████| 62/62 [00:00<00:00, 41761.18it/s]\n"
     ]
    },
    {
     "name": "stdout",
     "output_type": "stream",
     "text": [
      "Epoch: 13      loss: 0.04614      val_loss: 0.04087     \n",
      "\n"
     ]
    },
    {
     "name": "stderr",
     "output_type": "stream",
     "text": [
      "train_step: 100%|██████████| 250/250 [00:00<00:00, 16207.24it/s]\n",
      "valid_step: 100%|██████████| 62/62 [00:00<00:00, 38377.63it/s]\n"
     ]
    },
    {
     "name": "stdout",
     "output_type": "stream",
     "text": [
      "Epoch: 14      loss: 0.03926      val_loss: 0.03494     \n",
      "\n"
     ]
    },
    {
     "name": "stderr",
     "output_type": "stream",
     "text": [
      "train_step: 100%|██████████| 250/250 [00:00<00:00, 14236.12it/s]\n",
      "valid_step: 100%|██████████| 62/62 [00:00<00:00, 32726.76it/s]\n"
     ]
    },
    {
     "name": "stdout",
     "output_type": "stream",
     "text": [
      "Epoch: 15      loss: 0.03374      val_loss: 0.03017     \n",
      "\n"
     ]
    },
    {
     "name": "stderr",
     "output_type": "stream",
     "text": [
      "train_step: 100%|██████████| 250/250 [00:00<00:00, 8742.58it/s]\n",
      "valid_step: 100%|██████████| 62/62 [00:00<00:00, 22338.88it/s]\n"
     ]
    },
    {
     "name": "stdout",
     "output_type": "stream",
     "text": [
      "Epoch: 16      loss: 0.02928      val_loss: 0.0263      \n",
      "\n"
     ]
    },
    {
     "name": "stderr",
     "output_type": "stream",
     "text": [
      "train_step: 100%|██████████| 250/250 [00:00<00:00, 8929.67it/s]\n",
      "valid_step: 100%|██████████| 62/62 [00:00<00:00, 16552.95it/s]\n"
     ]
    },
    {
     "name": "stdout",
     "output_type": "stream",
     "text": [
      "Epoch: 17      loss: 0.02567      val_loss: 0.02318     \n",
      "\n"
     ]
    },
    {
     "name": "stderr",
     "output_type": "stream",
     "text": [
      "train_step: 100%|██████████| 250/250 [00:00<00:00, 9736.71it/s]\n",
      "valid_step: 100%|██████████| 62/62 [00:00<00:00, 22620.64it/s]\n"
     ]
    },
    {
     "name": "stdout",
     "output_type": "stream",
     "text": [
      "Epoch: 18      loss: 0.0227       val_loss: 0.0206      \n",
      "\n"
     ]
    },
    {
     "name": "stderr",
     "output_type": "stream",
     "text": [
      "train_step: 100%|██████████| 250/250 [00:00<00:00, 10740.31it/s]\n",
      "valid_step: 100%|██████████| 62/62 [00:00<00:00, 22669.94it/s]\n"
     ]
    },
    {
     "name": "stdout",
     "output_type": "stream",
     "text": [
      "Epoch: 19      loss: 0.02024      val_loss: 0.01846     \n",
      "\n"
     ]
    },
    {
     "name": "stderr",
     "output_type": "stream",
     "text": [
      "train_step: 100%|██████████| 250/250 [00:00<00:00, 9434.48it/s]\n",
      "valid_step: 100%|██████████| 62/62 [00:00<00:00, 21763.06it/s]\n"
     ]
    },
    {
     "name": "stdout",
     "output_type": "stream",
     "text": [
      "Epoch: 20      loss: 0.01819      val_loss: 0.01665     \n",
      "\n"
     ]
    },
    {
     "name": "stderr",
     "output_type": "stream",
     "text": [
      "train_step: 100%|██████████| 250/250 [00:00<00:00, 9309.34it/s]\n",
      "valid_step: 100%|██████████| 62/62 [00:00<00:00, 20219.80it/s]\n"
     ]
    },
    {
     "name": "stdout",
     "output_type": "stream",
     "text": [
      "Epoch: 21      loss: 0.01645      val_loss: 0.01511     \n",
      "\n"
     ]
    },
    {
     "name": "stderr",
     "output_type": "stream",
     "text": [
      "train_step: 100%|██████████| 250/250 [00:00<00:00, 10521.96it/s]\n",
      "valid_step: 100%|██████████| 62/62 [00:00<00:00, 20645.19it/s]\n"
     ]
    },
    {
     "name": "stdout",
     "output_type": "stream",
     "text": [
      "Epoch: 22      loss: 0.01497      val_loss: 0.0138      \n",
      "\n"
     ]
    },
    {
     "name": "stderr",
     "output_type": "stream",
     "text": [
      "train_step: 100%|██████████| 250/250 [00:00<00:00, 8981.69it/s]\n",
      "valid_step: 100%|██████████| 62/62 [00:00<00:00, 24616.32it/s]\n"
     ]
    },
    {
     "name": "stdout",
     "output_type": "stream",
     "text": [
      "Epoch: 23      loss: 0.0137       val_loss: 0.01268     \n",
      "\n"
     ]
    },
    {
     "name": "stderr",
     "output_type": "stream",
     "text": [
      "train_step: 100%|██████████| 250/250 [00:00<00:00, 9318.27it/s]\n",
      "valid_step: 100%|██████████| 62/62 [00:00<00:00, 25709.03it/s]\n"
     ]
    },
    {
     "name": "stdout",
     "output_type": "stream",
     "text": [
      "Epoch: 24      loss: 0.01261      val_loss: 0.01169     \n",
      "\n"
     ]
    },
    {
     "name": "stderr",
     "output_type": "stream",
     "text": [
      "train_step: 100%|██████████| 250/250 [00:00<00:00, 9556.92it/s]\n",
      "valid_step: 100%|██████████| 62/62 [00:00<00:00, 22460.43it/s]\n"
     ]
    },
    {
     "name": "stdout",
     "output_type": "stream",
     "text": [
      "Epoch: 25      loss: 0.01165      val_loss: 0.01082     \n",
      "\n"
     ]
    },
    {
     "name": "stderr",
     "output_type": "stream",
     "text": [
      "train_step: 100%|██████████| 250/250 [00:00<00:00, 9776.84it/s]\n",
      "valid_step: 100%|██████████| 62/62 [00:00<00:00, 23561.37it/s]\n"
     ]
    },
    {
     "name": "stdout",
     "output_type": "stream",
     "text": [
      "Epoch: 26      loss: 0.01082      val_loss: 0.01006     \n",
      "\n"
     ]
    },
    {
     "name": "stderr",
     "output_type": "stream",
     "text": [
      "train_step: 100%|██████████| 250/250 [00:00<00:00, 10274.31it/s]\n",
      "valid_step: 100%|██████████| 62/62 [00:00<00:00, 20583.10it/s]\n"
     ]
    },
    {
     "name": "stdout",
     "output_type": "stream",
     "text": [
      "Epoch: 27      loss: 0.01008      val_loss: 0.0094      \n",
      "\n"
     ]
    },
    {
     "name": "stderr",
     "output_type": "stream",
     "text": [
      "train_step: 100%|██████████| 250/250 [00:00<00:00, 9415.08it/s]\n",
      "valid_step: 100%|██████████| 62/62 [00:00<00:00, 24863.45it/s]\n"
     ]
    },
    {
     "name": "stdout",
     "output_type": "stream",
     "text": [
      "Epoch: 28      loss: 0.00942      val_loss: 0.0088      \n",
      "\n"
     ]
    },
    {
     "name": "stderr",
     "output_type": "stream",
     "text": [
      "train_step: 100%|██████████| 250/250 [00:00<00:00, 9758.37it/s]\n",
      "valid_step: 100%|██████████| 62/62 [00:00<00:00, 22287.18it/s]\n"
     ]
    },
    {
     "name": "stdout",
     "output_type": "stream",
     "text": [
      "Epoch: 29      loss: 0.00884      val_loss: 0.00826     \n",
      "\n"
     ]
    },
    {
     "name": "stderr",
     "output_type": "stream",
     "text": [
      "train_step: 100%|██████████| 250/250 [00:00<00:00, 8900.95it/s]\n",
      "valid_step: 100%|██████████| 62/62 [00:00<00:00, 24235.49it/s]\n"
     ]
    },
    {
     "name": "stdout",
     "output_type": "stream",
     "text": [
      "Epoch: 30      loss: 0.00831      val_loss: 0.00778     \n",
      "\n"
     ]
    },
    {
     "name": "stderr",
     "output_type": "stream",
     "text": [
      "train_step: 100%|██████████| 250/250 [00:00<00:00, 9927.44it/s]\n",
      "valid_step: 100%|██████████| 62/62 [00:00<00:00, 19153.48it/s]\n"
     ]
    },
    {
     "name": "stdout",
     "output_type": "stream",
     "text": [
      "Epoch: 31      loss: 0.00784      val_loss: 0.00735     \n",
      "\n"
     ]
    },
    {
     "name": "stderr",
     "output_type": "stream",
     "text": [
      "train_step: 100%|██████████| 250/250 [00:00<00:00, 10256.73it/s]\n",
      "valid_step: 100%|██████████| 62/62 [00:00<00:00, 19772.42it/s]\n"
     ]
    },
    {
     "name": "stdout",
     "output_type": "stream",
     "text": [
      "Epoch: 32      loss: 0.00741      val_loss: 0.00696     \n",
      "\n"
     ]
    },
    {
     "name": "stderr",
     "output_type": "stream",
     "text": [
      "train_step: 100%|██████████| 250/250 [00:00<00:00, 8352.92it/s]\n",
      "valid_step: 100%|██████████| 62/62 [00:00<00:00, 25903.66it/s]\n"
     ]
    },
    {
     "name": "stdout",
     "output_type": "stream",
     "text": [
      "Epoch: 33      loss: 0.00702      val_loss: 0.0066      \n",
      "\n"
     ]
    },
    {
     "name": "stderr",
     "output_type": "stream",
     "text": [
      "train_step: 100%|██████████| 250/250 [00:00<00:00, 9630.83it/s]\n",
      "valid_step: 100%|██████████| 62/62 [00:00<00:00, 19511.32it/s]\n"
     ]
    },
    {
     "name": "stdout",
     "output_type": "stream",
     "text": [
      "Epoch: 34      loss: 0.00667      val_loss: 0.00628     \n",
      "\n"
     ]
    },
    {
     "name": "stderr",
     "output_type": "stream",
     "text": [
      "train_step: 100%|██████████| 250/250 [00:00<00:00, 9744.13it/s]\n",
      "valid_step: 100%|██████████| 62/62 [00:00<00:00, 16537.16it/s]\n"
     ]
    },
    {
     "name": "stdout",
     "output_type": "stream",
     "text": [
      "Epoch: 35      loss: 0.00634      val_loss: 0.00598     \n",
      "\n"
     ]
    },
    {
     "name": "stderr",
     "output_type": "stream",
     "text": [
      "train_step: 100%|██████████| 250/250 [00:00<00:00, 9505.03it/s]\n",
      "valid_step: 100%|██████████| 62/62 [00:00<00:00, 23918.95it/s]\n"
     ]
    },
    {
     "name": "stdout",
     "output_type": "stream",
     "text": [
      "Epoch: 36      loss: 0.00605      val_loss: 0.0057      \n",
      "\n"
     ]
    },
    {
     "name": "stderr",
     "output_type": "stream",
     "text": [
      "train_step: 100%|██████████| 250/250 [00:00<00:00, 10808.72it/s]\n",
      "valid_step: 100%|██████████| 62/62 [00:00<00:00, 28801.29it/s]\n"
     ]
    },
    {
     "name": "stdout",
     "output_type": "stream",
     "text": [
      "Epoch: 37      loss: 0.00578      val_loss: 0.00545     \n",
      "\n"
     ]
    },
    {
     "name": "stderr",
     "output_type": "stream",
     "text": [
      "train_step: 100%|██████████| 250/250 [00:00<00:00, 14073.52it/s]\n",
      "valid_step: 100%|██████████| 62/62 [00:00<00:00, 33724.14it/s]\n"
     ]
    },
    {
     "name": "stdout",
     "output_type": "stream",
     "text": [
      "Epoch: 38      loss: 0.00552      val_loss: 0.00521     \n",
      "\n"
     ]
    },
    {
     "name": "stderr",
     "output_type": "stream",
     "text": [
      "train_step: 100%|██████████| 250/250 [00:00<00:00, 15083.52it/s]\n",
      "valid_step: 100%|██████████| 62/62 [00:00<00:00, 35829.00it/s]\n"
     ]
    },
    {
     "name": "stdout",
     "output_type": "stream",
     "text": [
      "Epoch: 39      loss: 0.00529      val_loss: 0.005       \n",
      "\n"
     ]
    },
    {
     "name": "stderr",
     "output_type": "stream",
     "text": [
      "train_step: 100%|██████████| 250/250 [00:00<00:00, 16380.42it/s]\n",
      "valid_step: 100%|██████████| 62/62 [00:00<00:00, 40298.60it/s]\n"
     ]
    },
    {
     "name": "stdout",
     "output_type": "stream",
     "text": [
      "Epoch: 40      loss: 0.00508      val_loss: 0.0048      \n",
      "\n"
     ]
    },
    {
     "name": "stderr",
     "output_type": "stream",
     "text": [
      "train_step: 100%|██████████| 250/250 [00:00<00:00, 17035.06it/s]\n",
      "valid_step: 100%|██████████| 62/62 [00:00<00:00, 30969.02it/s]\n"
     ]
    },
    {
     "name": "stdout",
     "output_type": "stream",
     "text": [
      "Epoch: 41      loss: 0.00488      val_loss: 0.00461     \n",
      "\n"
     ]
    },
    {
     "name": "stderr",
     "output_type": "stream",
     "text": [
      "train_step: 100%|██████████| 250/250 [00:00<00:00, 17197.66it/s]\n",
      "valid_step: 100%|██████████| 62/62 [00:00<00:00, 34924.37it/s]\n"
     ]
    },
    {
     "name": "stdout",
     "output_type": "stream",
     "text": [
      "Epoch: 42      loss: 0.00469      val_loss: 0.00444     \n",
      "\n"
     ]
    },
    {
     "name": "stderr",
     "output_type": "stream",
     "text": [
      "train_step: 100%|██████████| 250/250 [00:00<00:00, 15825.65it/s]\n",
      "valid_step: 100%|██████████| 62/62 [00:00<00:00, 37698.88it/s]\n"
     ]
    },
    {
     "name": "stdout",
     "output_type": "stream",
     "text": [
      "Epoch: 43      loss: 0.00451      val_loss: 0.00428     \n",
      "\n"
     ]
    },
    {
     "name": "stderr",
     "output_type": "stream",
     "text": [
      "train_step: 100%|██████████| 250/250 [00:00<00:00, 15955.20it/s]\n",
      "valid_step: 100%|██████████| 62/62 [00:00<00:00, 34682.16it/s]\n"
     ]
    },
    {
     "name": "stdout",
     "output_type": "stream",
     "text": [
      "Epoch: 44      loss: 0.00435      val_loss: 0.00412     \n",
      "\n"
     ]
    },
    {
     "name": "stderr",
     "output_type": "stream",
     "text": [
      "train_step: 100%|██████████| 250/250 [00:00<00:00, 17586.77it/s]\n",
      "valid_step: 100%|██████████| 62/62 [00:00<00:00, 31543.77it/s]\n"
     ]
    },
    {
     "name": "stdout",
     "output_type": "stream",
     "text": [
      "Epoch: 45      loss: 0.0042       val_loss: 0.00398     \n",
      "\n"
     ]
    },
    {
     "name": "stderr",
     "output_type": "stream",
     "text": [
      "train_step: 100%|██████████| 250/250 [00:00<00:00, 16021.27it/s]\n",
      "valid_step: 100%|██████████| 62/62 [00:00<00:00, 37990.77it/s]\n"
     ]
    },
    {
     "name": "stdout",
     "output_type": "stream",
     "text": [
      "Epoch: 46      loss: 0.00406      val_loss: 0.00385     \n",
      "\n"
     ]
    },
    {
     "name": "stderr",
     "output_type": "stream",
     "text": [
      "train_step: 100%|██████████| 250/250 [00:00<00:00, 16917.97it/s]\n",
      "valid_step: 100%|██████████| 62/62 [00:00<00:00, 37309.45it/s]\n"
     ]
    },
    {
     "name": "stdout",
     "output_type": "stream",
     "text": [
      "Epoch: 47      loss: 0.00392      val_loss: 0.00372     \n",
      "\n"
     ]
    },
    {
     "name": "stderr",
     "output_type": "stream",
     "text": [
      "train_step: 100%|██████████| 250/250 [00:00<00:00, 15985.85it/s]\n",
      "valid_step: 100%|██████████| 62/62 [00:00<00:00, 37438.36it/s]\n"
     ]
    },
    {
     "name": "stdout",
     "output_type": "stream",
     "text": [
      "Epoch: 48      loss: 0.00379      val_loss: 0.0036      \n",
      "\n"
     ]
    },
    {
     "name": "stderr",
     "output_type": "stream",
     "text": [
      "train_step: 100%|██████████| 250/250 [00:00<00:00, 16583.00it/s]\n",
      "valid_step: 100%|██████████| 62/62 [00:00<00:00, 34622.13it/s]\n"
     ]
    },
    {
     "name": "stdout",
     "output_type": "stream",
     "text": [
      "Epoch: 49      loss: 0.00367      val_loss: 0.00349     \n",
      "\n"
     ]
    },
    {
     "name": "stderr",
     "output_type": "stream",
     "text": [
      "train_step: 100%|██████████| 250/250 [00:00<00:00, 17122.96it/s]\n",
      "valid_step: 100%|██████████| 62/62 [00:00<00:00, 31139.61it/s]\n"
     ]
    },
    {
     "name": "stdout",
     "output_type": "stream",
     "text": [
      "Epoch: 50      loss: 0.00356      val_loss: 0.00338     \n",
      "\n"
     ]
    },
    {
     "name": "stderr",
     "output_type": "stream",
     "text": [
      "train_step: 100%|██████████| 250/250 [00:00<00:00, 16946.14it/s]\n",
      "valid_step: 100%|██████████| 62/62 [00:00<00:00, 33676.10it/s]\n"
     ]
    },
    {
     "name": "stdout",
     "output_type": "stream",
     "text": [
      "Epoch: 51      loss: 0.00345      val_loss: 0.00328     \n",
      "\n"
     ]
    },
    {
     "name": "stderr",
     "output_type": "stream",
     "text": [
      "train_step: 100%|██████████| 250/250 [00:00<00:00, 13339.47it/s]\n",
      "valid_step: 100%|██████████| 62/62 [00:00<00:00, 26462.49it/s]\n"
     ]
    },
    {
     "name": "stdout",
     "output_type": "stream",
     "text": [
      "Epoch: 52      loss: 0.00335      val_loss: 0.00319     \n",
      "\n"
     ]
    },
    {
     "name": "stderr",
     "output_type": "stream",
     "text": [
      "train_step: 100%|██████████| 250/250 [00:00<00:00, 14429.68it/s]\n",
      "valid_step: 100%|██████████| 62/62 [00:00<00:00, 40562.60it/s]\n"
     ]
    },
    {
     "name": "stdout",
     "output_type": "stream",
     "text": [
      "Epoch: 53      loss: 0.00326      val_loss: 0.0031      \n",
      "\n"
     ]
    },
    {
     "name": "stderr",
     "output_type": "stream",
     "text": [
      "train_step: 100%|██████████| 250/250 [00:00<00:00, 15994.14it/s]\n",
      "valid_step: 100%|██████████| 62/62 [00:00<00:00, 30647.83it/s]\n"
     ]
    },
    {
     "name": "stdout",
     "output_type": "stream",
     "text": [
      "Epoch: 54      loss: 0.00317      val_loss: 0.00301     \n",
      "\n"
     ]
    },
    {
     "name": "stderr",
     "output_type": "stream",
     "text": [
      "train_step: 100%|██████████| 250/250 [00:00<00:00, 14659.25it/s]\n",
      "valid_step: 100%|██████████| 62/62 [00:00<00:00, 34910.30it/s]\n"
     ]
    },
    {
     "name": "stdout",
     "output_type": "stream",
     "text": [
      "Epoch: 55      loss: 0.00308      val_loss: 0.00293     \n",
      "\n"
     ]
    },
    {
     "name": "stderr",
     "output_type": "stream",
     "text": [
      "train_step: 100%|██████████| 250/250 [00:00<00:00, 16408.10it/s]\n",
      "valid_step: 100%|██████████| 62/62 [00:00<00:00, 32821.77it/s]\n"
     ]
    },
    {
     "name": "stdout",
     "output_type": "stream",
     "text": [
      "Epoch: 56      loss: 0.003        val_loss: 0.00285     \n",
      "\n"
     ]
    },
    {
     "name": "stderr",
     "output_type": "stream",
     "text": [
      "train_step: 100%|██████████| 250/250 [00:00<00:00, 16470.73it/s]\n",
      "valid_step: 100%|██████████| 62/62 [00:00<00:00, 27944.00it/s]\n"
     ]
    },
    {
     "name": "stdout",
     "output_type": "stream",
     "text": [
      "Epoch: 57      loss: 0.00292      val_loss: 0.00278     \n",
      "\n"
     ]
    },
    {
     "name": "stderr",
     "output_type": "stream",
     "text": [
      "train_step: 100%|██████████| 250/250 [00:00<00:00, 16996.40it/s]\n",
      "valid_step: 100%|██████████| 62/62 [00:00<00:00, 34691.42it/s]\n"
     ]
    },
    {
     "name": "stdout",
     "output_type": "stream",
     "text": [
      "Epoch: 58      loss: 0.00284      val_loss: 0.00271     \n",
      "\n"
     ]
    },
    {
     "name": "stderr",
     "output_type": "stream",
     "text": [
      "train_step: 100%|██████████| 250/250 [00:00<00:00, 16624.27it/s]\n",
      "valid_step: 100%|██████████| 62/62 [00:00<00:00, 35322.85it/s]\n"
     ]
    },
    {
     "name": "stdout",
     "output_type": "stream",
     "text": [
      "Epoch: 59      loss: 0.00277      val_loss: 0.00264     \n",
      "\n"
     ]
    },
    {
     "name": "stderr",
     "output_type": "stream",
     "text": [
      "train_step: 100%|██████████| 250/250 [00:00<00:00, 17471.61it/s]\n",
      "valid_step: 100%|██████████| 62/62 [00:00<00:00, 29497.15it/s]\n"
     ]
    },
    {
     "name": "stdout",
     "output_type": "stream",
     "text": [
      "Epoch: 60      loss: 0.0027       val_loss: 0.00258     \n",
      "\n"
     ]
    },
    {
     "name": "stderr",
     "output_type": "stream",
     "text": [
      "train_step: 100%|██████████| 250/250 [00:00<00:00, 16644.33it/s]\n",
      "valid_step: 100%|██████████| 62/62 [00:00<00:00, 34475.25it/s]\n"
     ]
    },
    {
     "name": "stdout",
     "output_type": "stream",
     "text": [
      "Epoch: 61      loss: 0.00264      val_loss: 0.00252     \n",
      "\n"
     ]
    },
    {
     "name": "stderr",
     "output_type": "stream",
     "text": [
      "train_step: 100%|██████████| 250/250 [00:00<00:00, 15363.98it/s]\n",
      "valid_step: 100%|██████████| 62/62 [00:00<00:00, 37655.21it/s]\n"
     ]
    },
    {
     "name": "stdout",
     "output_type": "stream",
     "text": [
      "Epoch: 62      loss: 0.00258      val_loss: 0.00246     \n",
      "\n"
     ]
    },
    {
     "name": "stderr",
     "output_type": "stream",
     "text": [
      "train_step: 100%|██████████| 250/250 [00:00<00:00, 16079.00it/s]\n",
      "valid_step: 100%|██████████| 62/62 [00:00<00:00, 31833.38it/s]\n"
     ]
    },
    {
     "name": "stdout",
     "output_type": "stream",
     "text": [
      "Epoch: 63      loss: 0.00252      val_loss: 0.0024      \n",
      "\n"
     ]
    },
    {
     "name": "stderr",
     "output_type": "stream",
     "text": [
      "train_step: 100%|██████████| 250/250 [00:00<00:00, 16594.28it/s]\n",
      "valid_step: 100%|██████████| 62/62 [00:00<00:00, 33051.20it/s]\n"
     ]
    },
    {
     "name": "stdout",
     "output_type": "stream",
     "text": [
      "Epoch: 64      loss: 0.00246      val_loss: 0.00235     \n",
      "\n"
     ]
    },
    {
     "name": "stderr",
     "output_type": "stream",
     "text": [
      "train_step: 100%|██████████| 250/250 [00:00<00:00, 16193.22it/s]\n",
      "valid_step: 100%|██████████| 62/62 [00:00<00:00, 33395.00it/s]\n"
     ]
    },
    {
     "name": "stdout",
     "output_type": "stream",
     "text": [
      "Epoch: 65      loss: 0.00241      val_loss: 0.00229     \n",
      "\n"
     ]
    },
    {
     "name": "stderr",
     "output_type": "stream",
     "text": [
      "train_step: 100%|██████████| 250/250 [00:00<00:00, 16219.27it/s]\n",
      "valid_step: 100%|██████████| 62/62 [00:00<00:00, 31798.34it/s]\n"
     ]
    },
    {
     "name": "stdout",
     "output_type": "stream",
     "text": [
      "Epoch: 66      loss: 0.00235      val_loss: 0.00224     \n",
      "\n"
     ]
    },
    {
     "name": "stderr",
     "output_type": "stream",
     "text": [
      "train_step: 100%|██████████| 250/250 [00:00<00:00, 14663.76it/s]\n",
      "valid_step: 100%|██████████| 62/62 [00:00<00:00, 28495.16it/s]\n"
     ]
    },
    {
     "name": "stdout",
     "output_type": "stream",
     "text": [
      "Epoch: 67      loss: 0.0023       val_loss: 0.0022      \n",
      "\n"
     ]
    },
    {
     "name": "stderr",
     "output_type": "stream",
     "text": [
      "train_step: 100%|██████████| 250/250 [00:00<00:00, 16385.54it/s]\n",
      "valid_step: 100%|██████████| 62/62 [00:00<00:00, 37395.29it/s]\n"
     ]
    },
    {
     "name": "stdout",
     "output_type": "stream",
     "text": [
      "Epoch: 68      loss: 0.00225      val_loss: 0.00215     \n",
      "\n"
     ]
    },
    {
     "name": "stderr",
     "output_type": "stream",
     "text": [
      "train_step: 100%|██████████| 250/250 [00:00<00:00, 15613.10it/s]\n",
      "valid_step: 100%|██████████| 62/62 [00:00<00:00, 34686.79it/s]\n"
     ]
    },
    {
     "name": "stdout",
     "output_type": "stream",
     "text": [
      "Epoch: 69      loss: 0.00221      val_loss: 0.00211     \n",
      "\n"
     ]
    },
    {
     "name": "stderr",
     "output_type": "stream",
     "text": [
      "train_step: 100%|██████████| 250/250 [00:00<00:00, 13415.59it/s]\n",
      "valid_step: 100%|██████████| 62/62 [00:00<00:00, 34311.50it/s]\n"
     ]
    },
    {
     "name": "stdout",
     "output_type": "stream",
     "text": [
      "Epoch: 70      loss: 0.00216      val_loss: 0.00206     \n",
      "\n"
     ]
    },
    {
     "name": "stderr",
     "output_type": "stream",
     "text": [
      "train_step: 100%|██████████| 250/250 [00:00<00:00, 15296.51it/s]\n",
      "valid_step: 100%|██████████| 62/62 [00:00<00:00, 30586.55it/s]\n"
     ]
    },
    {
     "name": "stdout",
     "output_type": "stream",
     "text": [
      "Epoch: 71      loss: 0.00212      val_loss: 0.00202     \n",
      "\n"
     ]
    },
    {
     "name": "stderr",
     "output_type": "stream",
     "text": [
      "train_step: 100%|██████████| 250/250 [00:00<00:00, 15363.08it/s]\n",
      "valid_step: 100%|██████████| 62/62 [00:00<00:00, 36127.65it/s]\n"
     ]
    },
    {
     "name": "stdout",
     "output_type": "stream",
     "text": [
      "Epoch: 72      loss: 0.00208      val_loss: 0.00198     \n",
      "\n"
     ]
    },
    {
     "name": "stderr",
     "output_type": "stream",
     "text": [
      "train_step: 100%|██████████| 250/250 [00:00<00:00, 14585.23it/s]\n",
      "valid_step: 100%|██████████| 62/62 [00:00<00:00, 36228.32it/s]\n"
     ]
    },
    {
     "name": "stdout",
     "output_type": "stream",
     "text": [
      "Epoch: 73      loss: 0.00204      val_loss: 0.00194     \n",
      "\n"
     ]
    },
    {
     "name": "stderr",
     "output_type": "stream",
     "text": [
      "train_step: 100%|██████████| 250/250 [00:00<00:00, 13876.48it/s]\n",
      "valid_step: 100%|██████████| 62/62 [00:00<00:00, 29658.63it/s]\n"
     ]
    },
    {
     "name": "stdout",
     "output_type": "stream",
     "text": [
      "Epoch: 74      loss: 0.002        val_loss: 0.00191     \n",
      "\n"
     ]
    },
    {
     "name": "stderr",
     "output_type": "stream",
     "text": [
      "train_step: 100%|██████████| 250/250 [00:00<00:00, 13582.24it/s]\n",
      "valid_step: 100%|██████████| 62/62 [00:00<00:00, 32188.00it/s]\n"
     ]
    },
    {
     "name": "stdout",
     "output_type": "stream",
     "text": [
      "Epoch: 75      loss: 0.00196      val_loss: 0.00187     \n",
      "\n"
     ]
    },
    {
     "name": "stderr",
     "output_type": "stream",
     "text": [
      "train_step: 100%|██████████| 250/250 [00:00<00:00, 14774.92it/s]\n",
      "valid_step: 100%|██████████| 62/62 [00:00<00:00, 35438.38it/s]\n"
     ]
    },
    {
     "name": "stdout",
     "output_type": "stream",
     "text": [
      "Epoch: 76      loss: 0.00192      val_loss: 0.00184     \n",
      "\n"
     ]
    },
    {
     "name": "stderr",
     "output_type": "stream",
     "text": [
      "train_step: 100%|██████████| 250/250 [00:00<00:00, 13902.79it/s]\n",
      "valid_step: 100%|██████████| 62/62 [00:00<00:00, 39122.44it/s]\n"
     ]
    },
    {
     "name": "stdout",
     "output_type": "stream",
     "text": [
      "Epoch: 77      loss: 0.00189      val_loss: 0.0018      \n",
      "\n"
     ]
    },
    {
     "name": "stderr",
     "output_type": "stream",
     "text": [
      "train_step: 100%|██████████| 250/250 [00:00<00:00, 15606.60it/s]\n",
      "valid_step: 100%|██████████| 62/62 [00:00<00:00, 30752.94it/s]\n"
     ]
    },
    {
     "name": "stdout",
     "output_type": "stream",
     "text": [
      "Epoch: 78      loss: 0.00185      val_loss: 0.00177     \n",
      "\n"
     ]
    },
    {
     "name": "stderr",
     "output_type": "stream",
     "text": [
      "train_step: 100%|██████████| 250/250 [00:00<00:00, 15657.40it/s]\n",
      "valid_step: 100%|██████████| 62/62 [00:00<00:00, 34325.09it/s]\n"
     ]
    },
    {
     "name": "stdout",
     "output_type": "stream",
     "text": [
      "Epoch: 79      loss: 0.00182      val_loss: 0.00174     \n",
      "\n"
     ]
    },
    {
     "name": "stderr",
     "output_type": "stream",
     "text": [
      "train_step: 100%|██████████| 250/250 [00:00<00:00, 14638.17it/s]\n",
      "valid_step: 100%|██████████| 62/62 [00:00<00:00, 35559.53it/s]\n"
     ]
    },
    {
     "name": "stdout",
     "output_type": "stream",
     "text": [
      "Epoch: 80      loss: 0.00179      val_loss: 0.00171     \n",
      "\n"
     ]
    },
    {
     "name": "stderr",
     "output_type": "stream",
     "text": [
      "train_step: 100%|██████████| 250/250 [00:00<00:00, 13696.85it/s]\n",
      "valid_step: 100%|██████████| 62/62 [00:00<00:00, 34212.19it/s]\n"
     ]
    },
    {
     "name": "stdout",
     "output_type": "stream",
     "text": [
      "Epoch: 81      loss: 0.00176      val_loss: 0.00168     \n",
      "\n"
     ]
    },
    {
     "name": "stderr",
     "output_type": "stream",
     "text": [
      "train_step: 100%|██████████| 250/250 [00:00<00:00, 15879.58it/s]\n",
      "valid_step: 100%|██████████| 62/62 [00:00<00:00, 33377.85it/s]\n"
     ]
    },
    {
     "name": "stdout",
     "output_type": "stream",
     "text": [
      "Epoch: 82      loss: 0.00173      val_loss: 0.00165     \n",
      "\n"
     ]
    },
    {
     "name": "stderr",
     "output_type": "stream",
     "text": [
      "train_step: 100%|██████████| 250/250 [00:00<00:00, 14734.02it/s]\n",
      "valid_step: 100%|██████████| 62/62 [00:00<00:00, 37720.75it/s]\n"
     ]
    },
    {
     "name": "stdout",
     "output_type": "stream",
     "text": [
      "Epoch: 83      loss: 0.0017       val_loss: 0.00163     \n",
      "\n"
     ]
    },
    {
     "name": "stderr",
     "output_type": "stream",
     "text": [
      "train_step: 100%|██████████| 250/250 [00:00<00:00, 13947.91it/s]\n",
      "valid_step: 100%|██████████| 62/62 [00:00<00:00, 34100.03it/s]\n"
     ]
    },
    {
     "name": "stdout",
     "output_type": "stream",
     "text": [
      "Epoch: 84      loss: 0.00167      val_loss: 0.0016      \n",
      "\n"
     ]
    },
    {
     "name": "stderr",
     "output_type": "stream",
     "text": [
      "train_step: 100%|██████████| 250/250 [00:00<00:00, 13997.44it/s]\n",
      "valid_step: 100%|██████████| 62/62 [00:00<00:00, 34498.12it/s]\n"
     ]
    },
    {
     "name": "stdout",
     "output_type": "stream",
     "text": [
      "Epoch: 85      loss: 0.00164      val_loss: 0.00157     \n",
      "\n"
     ]
    },
    {
     "name": "stderr",
     "output_type": "stream",
     "text": [
      "train_step: 100%|██████████| 250/250 [00:00<00:00, 14023.83it/s]\n",
      "valid_step: 100%|██████████| 62/62 [00:00<00:00, 35294.09it/s]\n"
     ]
    },
    {
     "name": "stdout",
     "output_type": "stream",
     "text": [
      "Epoch: 86      loss: 0.00162      val_loss: 0.00155     \n",
      "\n"
     ]
    },
    {
     "name": "stderr",
     "output_type": "stream",
     "text": [
      "train_step: 100%|██████████| 250/250 [00:00<00:00, 13739.02it/s]\n",
      "valid_step: 100%|██████████| 62/62 [00:00<00:00, 34691.42it/s]\n"
     ]
    },
    {
     "name": "stdout",
     "output_type": "stream",
     "text": [
      "Epoch: 87      loss: 0.00159      val_loss: 0.00152     \n",
      "\n"
     ]
    },
    {
     "name": "stderr",
     "output_type": "stream",
     "text": [
      "train_step: 100%|██████████| 250/250 [00:00<00:00, 14541.14it/s]\n",
      "valid_step: 100%|██████████| 62/62 [00:00<00:00, 30259.12it/s]\n"
     ]
    },
    {
     "name": "stdout",
     "output_type": "stream",
     "text": [
      "Epoch: 88      loss: 0.00157      val_loss: 0.0015      \n",
      "\n"
     ]
    },
    {
     "name": "stderr",
     "output_type": "stream",
     "text": [
      "train_step: 100%|██████████| 250/250 [00:00<00:00, 15527.56it/s]\n",
      "valid_step: 100%|██████████| 62/62 [00:00<00:00, 34470.69it/s]\n"
     ]
    },
    {
     "name": "stdout",
     "output_type": "stream",
     "text": [
      "Epoch: 89      loss: 0.00154      val_loss: 0.00148     \n",
      "\n"
     ]
    },
    {
     "name": "stderr",
     "output_type": "stream",
     "text": [
      "train_step: 100%|██████████| 250/250 [00:00<00:00, 15453.19it/s]\n",
      "valid_step: 100%|██████████| 62/62 [00:00<00:00, 31817.80it/s]\n"
     ]
    },
    {
     "name": "stdout",
     "output_type": "stream",
     "text": [
      "Epoch: 90      loss: 0.00152      val_loss: 0.00146     \n",
      "\n"
     ]
    },
    {
     "name": "stderr",
     "output_type": "stream",
     "text": [
      "train_step: 100%|██████████| 250/250 [00:00<00:00, 15227.87it/s]\n",
      "valid_step: 100%|██████████| 62/62 [00:00<00:00, 31361.17it/s]\n"
     ]
    },
    {
     "name": "stdout",
     "output_type": "stream",
     "text": [
      "Epoch: 91      loss: 0.0015       val_loss: 0.00143     \n",
      "\n"
     ]
    },
    {
     "name": "stderr",
     "output_type": "stream",
     "text": [
      "train_step: 100%|██████████| 250/250 [00:00<00:00, 13918.10it/s]\n",
      "valid_step: 100%|██████████| 62/62 [00:00<00:00, 29353.97it/s]\n"
     ]
    },
    {
     "name": "stdout",
     "output_type": "stream",
     "text": [
      "Epoch: 92      loss: 0.00148      val_loss: 0.00141     \n",
      "\n"
     ]
    },
    {
     "name": "stderr",
     "output_type": "stream",
     "text": [
      "train_step: 100%|██████████| 250/250 [00:00<00:00, 7974.20it/s]\n",
      "valid_step: 100%|██████████| 62/62 [00:00<00:00, 15249.33it/s]\n"
     ]
    },
    {
     "name": "stdout",
     "output_type": "stream",
     "text": [
      "Epoch: 93      loss: 0.00145      val_loss: 0.00139     \n",
      "\n"
     ]
    },
    {
     "name": "stderr",
     "output_type": "stream",
     "text": [
      "train_step: 100%|██████████| 250/250 [00:00<00:00, 10895.31it/s]\n",
      "valid_step: 100%|██████████| 62/62 [00:00<00:00, 22885.40it/s]\n"
     ]
    },
    {
     "name": "stdout",
     "output_type": "stream",
     "text": [
      "Epoch: 94      loss: 0.00143      val_loss: 0.00137     \n",
      "\n"
     ]
    },
    {
     "name": "stderr",
     "output_type": "stream",
     "text": [
      "train_step: 100%|██████████| 250/250 [00:00<00:00, 11230.57it/s]\n",
      "valid_step: 100%|██████████| 62/62 [00:00<00:00, 23969.66it/s]\n"
     ]
    },
    {
     "name": "stdout",
     "output_type": "stream",
     "text": [
      "Epoch: 95      loss: 0.00141      val_loss: 0.00135     \n",
      "\n"
     ]
    },
    {
     "name": "stderr",
     "output_type": "stream",
     "text": [
      "train_step: 100%|██████████| 250/250 [00:00<00:00, 13427.44it/s]\n",
      "valid_step: 100%|██████████| 62/62 [00:00<00:00, 35696.20it/s]\n"
     ]
    },
    {
     "name": "stdout",
     "output_type": "stream",
     "text": [
      "Epoch: 96      loss: 0.00139      val_loss: 0.00133     \n",
      "\n"
     ]
    },
    {
     "name": "stderr",
     "output_type": "stream",
     "text": [
      "train_step: 100%|██████████| 250/250 [00:00<00:00, 14505.53it/s]\n",
      "valid_step: 100%|██████████| 62/62 [00:00<00:00, 36621.16it/s]\n"
     ]
    },
    {
     "name": "stdout",
     "output_type": "stream",
     "text": [
      "Epoch: 97      loss: 0.00137      val_loss: 0.00131     \n",
      "\n"
     ]
    },
    {
     "name": "stderr",
     "output_type": "stream",
     "text": [
      "train_step: 100%|██████████| 250/250 [00:00<00:00, 13376.06it/s]\n",
      "valid_step: 100%|██████████| 62/62 [00:00<00:00, 34370.45it/s]\n"
     ]
    },
    {
     "name": "stdout",
     "output_type": "stream",
     "text": [
      "Epoch: 98      loss: 0.00135      val_loss: 0.0013      \n",
      "\n"
     ]
    },
    {
     "name": "stderr",
     "output_type": "stream",
     "text": [
      "train_step: 100%|██████████| 250/250 [00:00<00:00, 13432.09it/s]\n",
      "valid_step: 100%|██████████| 62/62 [00:00<00:00, 26939.48it/s]\n"
     ]
    },
    {
     "name": "stdout",
     "output_type": "stream",
     "text": [
      "Epoch: 99      loss: 0.00134      val_loss: 0.00128     \n",
      "\n"
     ]
    },
    {
     "name": "stderr",
     "output_type": "stream",
     "text": [
      "train_step: 100%|██████████| 250/250 [00:00<00:00, 13788.53it/s]\n",
      "valid_step: 100%|██████████| 62/62 [00:00<00:00, 28693.24it/s]"
     ]
    },
    {
     "name": "stdout",
     "output_type": "stream",
     "text": [
      "Epoch: 100     loss: 0.00132      val_loss: 0.00126     \n",
      "\n"
     ]
    },
    {
     "name": "stderr",
     "output_type": "stream",
     "text": [
      "\n"
     ]
    }
   ],
   "source": [
    "OR_Model.fit(\n",
    "\tX_Train,\n",
    "\ty_Train,\n",
    "\tepochs,\n",
    "\tbatch_size,\n",
    "\tlr,\n",
    "\t(X_Valid, y_Valid)\n",
    ")"
   ]
  },
  {
   "cell_type": "markdown",
   "metadata": {},
   "source": [
    "Plotting Loss"
   ]
  },
  {
   "cell_type": "code",
   "execution_count": 16,
   "metadata": {},
   "outputs": [
    {
     "data": {
      "image/png": "[encoded data removed]",
      "text/plain": [
       "<Figure size 432x432 with 1 Axes>"
      ]
     },
     "metadata": {
      "needs_background": "light"
     },
     "output_type": "display_data"
    }
   ],
   "source": [
    "OR_Model.PlotLoss()"
   ]
  },
  {
   "cell_type": "markdown",
   "metadata": {},
   "source": [
    "Model is converging after 40 epochs. No underfitting or overfitting is observed."
   ]
  },
  {
   "cell_type": "markdown",
   "metadata": {},
   "source": [
    "Parameters of the Model"
   ]
  },
  {
   "cell_type": "code",
   "execution_count": 17,
   "metadata": {},
   "outputs": [
    {
     "name": "stdout",
     "output_type": "stream",
     "text": [
      "self.W1 [[-4.55225898  0.02435338]\n",
      " [-4.03510827  1.84724847]]\n",
      "self.b1 [[ 1.94928011 -0.23029808]]\n",
      "self.A1 [[-2.6580175  -0.18619833]\n",
      " [ 1.97738901 -0.24649867]\n",
      " [-2.56486151 -0.21543182]\n",
      " [-2.15685665  1.63745372]\n",
      " [-2.10586195  1.61575846]\n",
      " [-2.70224886 -0.17779735]\n",
      " [-2.02772069  1.60655884]\n",
      " [-2.10781859  1.62848723]]\n",
      "self.H1 [[0.06549657 0.45358444]\n",
      " [0.87840255 0.43868548]\n",
      " [0.0714344  0.44634938]\n",
      " [0.10369223 0.83718817]\n",
      " [0.10852837 0.83420934]\n",
      " [0.06284079 0.45566739]\n",
      " [0.11632301 0.83293308]\n",
      " [0.10833922 0.8359623 ]]\n",
      "self.W2 [[-7.61114406]\n",
      " [ 1.63003611]]\n",
      "self.b2 [[2.91010905]]\n",
      "self.A2 [[ 3.15096423]\n",
      " [-3.06046615]\n",
      " [ 3.09397716]\n",
      " [ 3.48553948]\n",
      " [ 3.4438753 ]\n",
      " [ 3.17457306]\n",
      " [ 3.38246884]\n",
      " [ 3.4481724 ]]\n",
      "self.H2 [[0.9589467 ]\n",
      " [0.04476776]\n",
      " [0.95664362]\n",
      " [0.97027351]\n",
      " [0.96904796]\n",
      " [0.95986612]\n",
      " [0.96715213]\n",
      " [0.96917659]]\n",
      "self.dW1 [[ 0.00020815 -0.0001846 ]\n",
      " [ 0.00035153 -0.00011439]]\n",
      "self.db1 [[-0.00121268  0.00055381]]\n",
      "self.dA1 [[ 1.70061458e-04 -5.12778311e-05]\n",
      " [ 4.72949995e-07 -1.04808872e-05]\n",
      " [-4.29069830e-04  2.07002410e-04]\n",
      " [ 1.84270918e-04 -5.53056156e-05]\n",
      " [-4.61559945e-04  2.15481283e-04]\n",
      " [-4.44043501e-04  2.12911769e-04]\n",
      " [-4.47224890e-04  2.11841052e-04]\n",
      " [ 2.14414233e-04 -1.76358465e-04]]\n",
      "self.dH1 [[ 1.75524120e-03 -3.75918011e-04]\n",
      " [ 3.59887909e-04 -7.70767841e-05]\n",
      " [-3.91388900e-03  8.38233155e-04]\n",
      " [ 1.85675507e-03 -3.97659121e-04]\n",
      " [-4.08677948e-03  8.75260914e-04]\n",
      " [-4.01950650e-03  8.60853135e-04]\n",
      " [-4.01172679e-03  8.59186965e-04]\n",
      " [ 3.33674686e-03 -7.14627279e-04]]\n",
      "self.dW2 [[0.00175545]\n",
      " [0.00030323]]\n",
      "self.db2 [[0.00114613]]\n",
      "self.dA2 [[-2.30617293e-04]\n",
      " [-4.72848833e-05]\n",
      " [ 5.14237295e-04]\n",
      " [-2.43954978e-04]\n",
      " [ 5.36952997e-04]\n",
      " [ 5.28114147e-04]\n",
      " [ 5.27091989e-04]\n",
      " [-4.38407854e-04]]\n",
      "self.dH2 [[-0.00771296]\n",
      " [-0.00346226]\n",
      " [ 0.01161125]\n",
      " [-0.00793652]\n",
      " [ 0.01187141]\n",
      " [ 0.01177081]\n",
      " [ 0.01175913]\n",
      " [-0.01070061]]\n"
     ]
    }
   ],
   "source": [
    "OR_Model.PrintParameters()"
   ]
  }
 ],
 "metadata": {
  "interpreter": {
   "hash": "31f2aee4e71d21fbe5cf8b01ff0e069b9275f58929596ceb00d14d90e3e16cd6"
  },
  "kernelspec": {
   "display_name": "Python 3.6.9 64-bit",
   "name": "python3"
  },
  "language_info": {
   "codemirror_mode": {
    "name": "ipython",
    "version": 3
   },
   "file_extension": ".py",
   "mimetype": "text/x-python",
   "name": "python",
   "nbconvert_exporter": "python",
   "pygments_lexer": "ipython3",
   "version": "3.6.9"
  },
  "orig_nbformat": 4
 },
 "nbformat": 4,
 "nbformat_minor": 2
}
