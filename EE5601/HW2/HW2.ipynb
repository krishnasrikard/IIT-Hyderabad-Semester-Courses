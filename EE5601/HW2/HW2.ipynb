{
 "cells": [
  {
   "cell_type": "markdown",
   "metadata": {
    "id": "CV_qBy936Woy"
   },
   "source": [
    "# Representation Learning\n",
    "Homework-2"
   ]
  },
  {
   "cell_type": "markdown",
   "metadata": {
    "id": "1MgO2E-D6Wo1"
   },
   "source": [
    "## Imports\n",
    "\n",
    "### Importing Libraries"
   ]
  },
  {
   "cell_type": "code",
   "execution_count": 1,
   "metadata": {
    "colab": {
     "base_uri": "https://localhost:8080/",
     "height": 17
    },
    "id": "fDhL_a7s6Wo2",
    "outputId": "a4a51976-f50c-445e-e6bc-575ba277be16"
   },
   "outputs": [
    {
     "data": {
      "text/html": [
       "<style>.container { width:100% !important; }</style>"
      ],
      "text/plain": [
       "<IPython.core.display.HTML object>"
      ]
     },
     "metadata": {},
     "output_type": "display_data"
    }
   ],
   "source": [
    "import numpy as np\n",
    "import matplotlib.pyplot as plt\n",
    "import matplotlib.image as pimg\n",
    "import matplotlib.colors\n",
    "from mpl_toolkits.mplot3d import Axes3D\n",
    "import random\n",
    "import os\n",
    "import gzip\n",
    "import warnings\n",
    "warnings.filterwarnings(\"ignore\")\n",
    "import tensorflow as tf\n",
    "from tensorflow.keras.layers import Dense,Conv2D, Conv2DTranspose, Flatten, Input, Reshape\n",
    "from tensorflow.keras.models import Model\n",
    "\n",
    "from IPython.display import display, Math, Latex, HTML\n",
    "from IPython import display as disp\n",
    "display(HTML(\"<style>.container { width:100% !important; }</style>\"))"
   ]
  },
  {
   "cell_type": "markdown",
   "metadata": {
    "id": "unwhaSEo6Wo8"
   },
   "source": [
    "### Reading Data"
   ]
  },
  {
   "cell_type": "code",
   "execution_count": 2,
   "metadata": {
    "id": "W6P8zw196Wo9"
   },
   "outputs": [],
   "source": [
    "f = gzip.open('Dataset/train-images-idx3-ubyte.gz','r')\n",
    "f.read(16)\n",
    "Data = np.frombuffer(f.read(), dtype=np.uint8).astype(np.float32)\n",
    "Data = Data.reshape(-1, 28*28)/255.0"
   ]
  },
  {
   "cell_type": "markdown",
   "metadata": {
    "id": "Kap7EUL56WpC"
   },
   "source": [
    "## Multilayer Perceptron Model\n",
    "\n",
    "Building a Multilayer Perceptron Model.\n",
    "\n",
    "---\n",
    "\n",
    "**Specifications:**\n",
    "1. **Input Nodes:** L (Changes Dynamically with Input of the Model).\n",
    "2. **Hidden Layers:** 1\n",
    "3. **Nodes in Hidden Layer:** M\n",
    "4. **Output Nodes:** K (Changes dynamically with Output of the Model).\n",
    "5. **Activation Function($\\sigma$):** Sigmoid\n",
    "6. **Loss Function:** SE(Square Error) or KLD(KL Divergence) or SparseLoss(SE + KLD)\n",
    "7. Optimizer: Batch Gradient Descent\n",
    "\n",
    "---\n",
    "\n",
    "**Forward Propagation:**\n",
    "\n",
    "\\begin{align}\n",
    "    A_1 = XW_1 + b_1 \\\\\n",
    "    H_1 = \\sigma(A_1) \\\\\n",
    "    A_2 = XH_1 + b_2 \\\\\n",
    "    \\hat{Y} = H_2 = \\sigma(A_2)\n",
    "\\end{align}\n",
    "\n",
    "**Loss Function:**\n",
    "\\begin{align}\n",
    "    L = \\frac{1}{k}\\|Y - \\hat{Y}\\|^2 \n",
    "\\end{align}\n",
    "\n",
    "**Activation Function:**\n",
    "\\begin{align}\n",
    "    \\sigma(x) = \\frac{1}{1 + e^{-x}}\n",
    "\\end{align}\n",
    "\n",
    "**Back Propagation:**\n",
    "\n",
    "**Note:**\n",
    "1. Assuming BatchSize = k\n",
    "2. The term $dP = \\frac{\\partial{L}}{\\partial{P}}$ i.e Partial Deravative of Loss($L$) wrt Parameter($P$)\n",
    "\n",
    "\\begin{align}\n",
    "    dH_2 = \\frac{2}{k}(H_2 - Y)\\\\\n",
    "    dA_2 = dH_2 \\odot \\sigma(A_2)(1-\\sigma(A_2)) = dH_2 \\odot H_2(1-H_2) \\\\\n",
    "    dW_2 = H_1^T A_2 \\\\\n",
    "    db_2 = \\sum dA_2 \\\\\n",
    "    \\\\\n",
    "    dH_1 = dA_2W_2^T\\\\\n",
    "    dA_1 = dH_1 \\odot \\sigma(A_1)(1-\\sigma(A_1)) = dH_1 \\odot H_1(1-H_1) \\\\\n",
    "    dW_1 = X^T A_1 \\\\\n",
    "    db_1 = \\sum dA_1\n",
    "\\end{align}\n",
    "\n",
    "**Update Parameters:**\n",
    "\n",
    "\\begin{align}\n",
    "    W_2 = W_2 - \\alpha(dW_2)\\\\\n",
    "    b_2 = b_2 - \\alpha(db_2)\\\\\n",
    "    W_1 = W_1 - \\alpha(dW_1)\\\\\n",
    "    b_1 = b_1 - \\alpha(db_1)\n",
    "\\end{align}"
   ]
  },
  {
   "cell_type": "code",
   "execution_count": 3,
   "metadata": {
    "id": "fIX6kdld6WpD"
   },
   "outputs": [],
   "source": [
    "class MLP:\n",
    "    def __init__(self,M,LossFunction):\n",
    "        # Model Specifications\n",
    "        self.L = None\n",
    "        self.M = M\n",
    "        self.K = None\n",
    "        self.N = None\n",
    "        self.LossFunction = LossFunction\n",
    "        self.LossData = []\n",
    "        \n",
    "        # Dataset\n",
    "        self.X = None\n",
    "        \n",
    "        \n",
    "    def PrintParameters(self):\n",
    "        # Print all Parameters\n",
    "        print (\"self.W1\", self.W1.shape)\n",
    "        print (\"self.b1\", self.b1.shape)\n",
    "        print (\"self.A1\", self.A1.shape)\n",
    "        print (\"self.H1\", self.H1.shape)\n",
    "\n",
    "        print (\"self.W2\", self.W2.shape)\n",
    "        print (\"self.b2\", self.b2.shape)\n",
    "        print (\"self.A2\", self.A2.shape)\n",
    "        print (\"self.H2\", self.H2.shape)\n",
    "\n",
    "        print (\"self.dW1\", self.dW1.shape)\n",
    "        print (\"self.db1\", self.db1.shape)\n",
    "        print (\"self.dA1\", self.dA1.shape)\n",
    "        print (\"self.dH1\", self.dH1.shape)\n",
    "\n",
    "        print (\"self.dW2\", self.dW2.shape)\n",
    "        print (\"self.db2\", self.db2.shape)\n",
    "        print (\"self.dA2\", self.dA2.shape)\n",
    "        print (\"self.dH2\", self.dH2.shape)\n",
    "\n",
    "        print (\"-------------------------\")\n",
    "\n",
    "\n",
    "    def InitializeParameters(self):\n",
    "        # Model Parameters\n",
    "        \"\"\"\n",
    "        Considering no.of Hidden Layers = 1\n",
    "        \"\"\"\n",
    "        self.W1 = np.random.randn(self.L,self.M)\n",
    "        self.b1 = np.random.randn(1,self.M)\n",
    "        \n",
    "        self.W2 = np.random.randn(self.M,self.K)\n",
    "        self.b2 = np.random.randn(1,self.K)\n",
    "\n",
    "\n",
    "    def ActivationFunction(self,I):\n",
    "        # Sigmoid Activation Function\n",
    "        return np.divide(1.0,(1.0 + np.exp(-I)))\n",
    "    \n",
    "\n",
    "    def GradientActivation(self,I):\n",
    "        # Gradient of Sigmoid Activation where 'I' denotes Output of Sigmoid.\n",
    "        return I * (1.0 - I)\n",
    "    \n",
    "\n",
    "    def Loss(self, Y_pred, Y, _lambda = 0.1, p=0.01):\n",
    "        # Loss Function\n",
    "        if self.LossFunction == \"SE\":\n",
    "            return (np.sum(np.square(Y-Y_pred))/Y.shape[0])\n",
    "        elif self.LossFunction == \"SparseLoss\":\n",
    "            Z = np.mean(self.H1,axis=0)\n",
    "            return (np.sum(np.square(Y-Y_pred))/Y.shape[0]) + _lambda*(np.sum(p*np.log(p) + (1-p)*np.log(1-p) - p*np.log(1e-6 + Z) - (1-p)*np.log(1e-6 + 1-Z)))\n",
    "\n",
    "        \n",
    "    def ForwardPropagation(self,X,ReturnHiddenLayer=False):\n",
    "        # Forward Propagation\n",
    "        self.A1 = np.matmul(X,self.W1) + self.b1\n",
    "        self.H1 = self.ActivationFunction(self.A1)\n",
    "        self.A2 = np.matmul(self.H1,self.W2) + self.b2\n",
    "        self.H2 = self.ActivationFunction(self.A2)\n",
    "        \n",
    "        if ReturnHiddenLayer == False:\n",
    "            return self.H2\n",
    "        else:\n",
    "            return self.H2, self.H1\n",
    "    \n",
    "    \n",
    "    def BackPropagation(self, X, Y, _lambda = 0.1, p=0.01):\n",
    "        # Back Propagation\n",
    "        if self.LossFunction == \"SE\":\n",
    "            self.dH2 = 2*(self.H2 - Y)/Y.shape[0]\n",
    "        elif self.LossFunction == \"SparseLoss\":\n",
    "            self.dH2 = 2*(self.H2 - Y)/Y.shape[0]\n",
    "            \n",
    "        self.dA2 = np.multiply(self.dH2, self.GradientActivation(self.H2))\n",
    "        self.dW2 = np.matmul(self.H1.T, self.dA2)\n",
    "        self.db2 = np.sum(self.dA2, axis=0).reshape(1,-1)\n",
    "        \n",
    "        self.dH1 = np.matmul(self.dA2,self.W2.T) \n",
    "        if self.LossFunction == \"SparseLoss\":\n",
    "            Z = np.mean(self.H1,axis=0)\n",
    "            self.dH1 += (_lambda/Y.shape[0])*(-p*np.divide(1,1e-6 + Z) + (1-p)*np.divide(1,1e-6 + 1-Z))\n",
    "        self.dA1 = np.multiply(self.dH1, self.GradientActivation(self.H1))\n",
    "        self.dW1 = np.matmul(X.T, self.dA1)\n",
    "        self.db1 = np.sum(self.dA1, axis=0).reshape(1,-1)\n",
    "            \n",
    "        \n",
    "    def UpdateParameters(self):\n",
    "        # Updating Parameters using Gradient Descent\n",
    "        self.W1 -= (self.lr * self.dW1)\n",
    "        self.b1 -= (self.lr * self.db1)\n",
    "\n",
    "        self.W2 -= (self.lr * self.dW2)\n",
    "        self.b2 -= (self.lr * self.db2)  \n",
    "        \n",
    "\n",
    "    def fit(self, X, Y, Epochs, BatchSize, lr, LoadWeightsPath=None, SaveWeightsPath = None, SaveWeights=True, LoadWeights=True):\n",
    "        # Training Model\n",
    "        self.X = X\n",
    "        if len(Y.shape) == 1:\n",
    "            self.Y = np.expand_dims(Y,axis=-1)\n",
    "        else:\n",
    "            self.Y = Y\n",
    "            \n",
    "        self.N = self.X.shape[0]\n",
    "        self.L = self.X.shape[1]\n",
    "        self.K = self.Y.shape[1]\n",
    "        \n",
    "        self.lr = lr\n",
    "        \n",
    "        if LoadWeights == False or LoadWeightsPath == None:\n",
    "            self.InitializeParameters()\n",
    "        else:\n",
    "            self.W1 = np.load(LoadWeightsPath + \"/W1.npy\")\n",
    "            self.b1 = np.load(LoadWeightsPath + \"/b1.npy\")\n",
    "            self.W2 = np.load(LoadWeightsPath + \"/W2.npy\")\n",
    "            self.b2 = np.load(LoadWeightsPath + \"/b2.npy\")\n",
    "        \n",
    "        for i in range(Epochs):\n",
    "            Steps = self.N//BatchSize\n",
    "            l = []\n",
    "            for j in range(Steps):\n",
    "                \n",
    "                if BatchSize == 1:\n",
    "                    I = np.expand_dims(self.X[j],axis=0)\n",
    "                    O = np.expand_dims(self.Y[j],axis=0)\n",
    "\n",
    "                else:\n",
    "                    I = self.X[j*BatchSize:(j+1)*BatchSize]\n",
    "                    O = self.Y[j*BatchSize:(j+1)*BatchSize]\n",
    "\n",
    "                self.ForwardPropagation(I)\n",
    "                l.append(self.Loss(self.H2, O))\n",
    "                self.BackPropagation(I,O)\n",
    "                self.UpdateParameters()\n",
    "            \n",
    "            print (\"Epoch: %-*s  Loss: %-*s\" % (6,i+1,24,np.mean(l)))\n",
    "            print () \n",
    "            self.LossData.append(np.mean(l))\n",
    "\n",
    "        if SaveWeightsPath != None and SaveWeights == True:\n",
    "            np.save(SaveWeightsPath + \"/W1.npy\", self.W1)\n",
    "            np.save(SaveWeightsPath + \"/b1.npy\", self.b1)\n",
    "            np.save(SaveWeightsPath + \"/W2.npy\", self.W2)\n",
    "            np.save(SaveWeightsPath + \"/b2.npy\", self.b2)\n",
    "\n",
    "\n",
    "    def PlotLoss(self):\n",
    "        # Plotting Loss\n",
    "        plt.figure(figsize=(10,10))\n",
    "        plt.style.use('dark_background')\n",
    "        plt.plot(self.LossData,'yellow')\n",
    "        plt.xlabel(\"Epochs\")\n",
    "        plt.ylabel(\"Loss\")\n",
    "        plt.title(\"Loss Function\")\n",
    "        plt.grid()\n",
    "        plt.show()\n",
    "\n",
    "    \n",
    "    def loadWeights(self,LoadWeightsPath):\n",
    "        # Load Weights of Model\n",
    "        self.W1 = np.load(LoadWeightsPath + \"/W1.npy\")\n",
    "        self.b1 = np.load(LoadWeightsPath + \"/b1.npy\")\n",
    "        self.W2 = np.load(LoadWeightsPath + \"/W2.npy\")\n",
    "        self.b2 = np.load(LoadWeightsPath + \"/b2.npy\")\n",
    "\n",
    "    def predict(self,X,ReturnHiddenLayer=False):\n",
    "        # Predicting from Data\n",
    "        return self.ForwardPropagation(X,ReturnHiddenLayer)"
   ]
  },
  {
   "cell_type": "markdown",
   "metadata": {
    "id": "wLZR9DiKeBKP"
   },
   "source": [
    "## Boolean Operations\n",
    "\n",
    "Training a MLP for the following Binary Operations:\n",
    "1. XOR\n",
    "2. AND\n",
    "3. OR"
   ]
  },
  {
   "cell_type": "markdown",
   "metadata": {
    "id": "OrzRNwhUeBKQ"
   },
   "source": [
    "### Generating Samples\n",
    "\n",
    "Generating Samples for for Training the Model."
   ]
  },
  {
   "cell_type": "code",
   "execution_count": 4,
   "metadata": {
    "id": "G2GOW8VweBKR"
   },
   "outputs": [],
   "source": [
    "def GenerateSamples(Operation,N):\n",
    "    \"\"\"\n",
    "    Operation: Boolean Operation\n",
    "    N: No.of Samples\n",
    "    \"\"\"\n",
    "    X = np.round(np.random.uniform(0,1,(N,2)))\n",
    "    \n",
    "    if Operation == 'AND':\n",
    "        y = np.logical_and(np.round(X[:,0]),np.round(X[:,1])).astype(int)\n",
    "        \n",
    "    if Operation == 'OR':\n",
    "        y = np.logical_or(np.round(X[:,0]),np.round(X[:,1])).astype(int)\n",
    "        \n",
    "    if Operation == 'XOR':\n",
    "        y = np.logical_xor(np.round(X[:,0]),np.round(X[:,1])).astype(int)\n",
    "        \n",
    "    return X,y"
   ]
  },
  {
   "cell_type": "markdown",
   "metadata": {
    "id": "Ezbzi89heBKV"
   },
   "source": [
    "### AND Operation\n",
    "\n",
    "Creating Model and Generating Data"
   ]
  },
  {
   "cell_type": "code",
   "execution_count": 5,
   "metadata": {
    "id": "h3F1FN84eBKW"
   },
   "outputs": [],
   "source": [
    "AND_Model = MLP(2,\"SE\")\n",
    "X_AND, y_AND = GenerateSamples(\"AND\",400)"
   ]
  },
  {
   "cell_type": "markdown",
   "metadata": {
    "id": "vj5Xs_O1eBKa"
   },
   "source": [
    "Training  Model and Plotting Loss"
   ]
  },
  {
   "cell_type": "code",
   "execution_count": 6,
   "metadata": {
    "colab": {
     "base_uri": "https://localhost:8080/",
     "height": 1000
    },
    "id": "86W7ecogeBKb",
    "outputId": "08a402f1-1f82-4500-f1e6-63907ab2eafe",
    "scrolled": true
   },
   "outputs": [
    {
     "name": "stdout",
     "output_type": "stream",
     "text": [
      "Epoch: 1       Loss: 0.1566336271967658      \n",
      "\n",
      "Epoch: 2       Loss: 0.05088705662665914     \n",
      "\n",
      "Epoch: 3       Loss: 0.012822092992159213    \n",
      "\n",
      "Epoch: 4       Loss: 0.005951498734074003    \n",
      "\n",
      "Epoch: 5       Loss: 0.0036941922186600152   \n",
      "\n",
      "Epoch: 6       Loss: 0.002627728595351906    \n",
      "\n",
      "Epoch: 7       Loss: 0.0020189099397953793   \n",
      "\n",
      "Epoch: 8       Loss: 0.001629414968886082    \n",
      "\n",
      "Epoch: 9       Loss: 0.0013605998967874706   \n",
      "\n",
      "Epoch: 10      Loss: 0.0011647699966236      \n",
      "\n",
      "Epoch: 11      Loss: 0.0010162210818087348   \n",
      "\n",
      "Epoch: 12      Loss: 0.000899944329256492    \n",
      "\n",
      "Epoch: 13      Loss: 0.0008066186953759268   \n",
      "\n",
      "Epoch: 14      Loss: 0.000730165182081349    \n",
      "\n",
      "Epoch: 15      Loss: 0.0006664582097010951   \n",
      "\n"
     ]
    },
    {
     "data": {
      "image/png": "[encoded data removed]",
      "text/plain": [
       "<Figure size 720x720 with 1 Axes>"
      ]
     },
     "metadata": {
      "needs_background": "dark"
     },
     "output_type": "display_data"
    }
   ],
   "source": [
    "AND_Model.fit(X_AND,y_AND,15,2,0.9)\n",
    "AND_Model.PlotLoss()"
   ]
  },
  {
   "cell_type": "markdown",
   "metadata": {
    "id": "9CTSdXL5eBKj"
   },
   "source": [
    "### OR Operation\n",
    "\n",
    "Creating Model and Generating Data"
   ]
  },
  {
   "cell_type": "code",
   "execution_count": 7,
   "metadata": {
    "id": "ycqdTiLKeBKk"
   },
   "outputs": [],
   "source": [
    "OR_Model = MLP(2,\"SE\")\n",
    "X_OR, y_OR = GenerateSamples(\"OR\",400)"
   ]
  },
  {
   "cell_type": "markdown",
   "metadata": {
    "id": "Zp8dyahaeBKo"
   },
   "source": [
    "Training  Model and Plotting Loss"
   ]
  },
  {
   "cell_type": "code",
   "execution_count": 8,
   "metadata": {
    "colab": {
     "base_uri": "https://localhost:8080/",
     "height": 1000
    },
    "id": "SwKj2doNeBKp",
    "outputId": "61dba482-86a1-4305-f04d-56584ac14371",
    "scrolled": true
   },
   "outputs": [
    {
     "name": "stdout",
     "output_type": "stream",
     "text": [
      "Epoch: 1       Loss: 0.1727201084787717      \n",
      "\n",
      "Epoch: 2       Loss: 0.04967040645631471     \n",
      "\n",
      "Epoch: 3       Loss: 0.011000112887099766    \n",
      "\n",
      "Epoch: 4       Loss: 0.0052596938254373836   \n",
      "\n",
      "Epoch: 5       Loss: 0.0033309898736747735   \n",
      "\n",
      "Epoch: 6       Loss: 0.002398730587504178    \n",
      "\n",
      "Epoch: 7       Loss: 0.001858029285585721    \n",
      "\n",
      "Epoch: 8       Loss: 0.0015081631707580308   \n",
      "\n",
      "Epoch: 9       Loss: 0.0012646327830900654   \n",
      "\n",
      "Epoch: 10      Loss: 0.001086041382850649    \n",
      "\n",
      "Epoch: 11      Loss: 0.0009498466193446618   \n",
      "\n",
      "Epoch: 12      Loss: 0.0008427751970455158   \n",
      "\n",
      "Epoch: 13      Loss: 0.0007565264147359024   \n",
      "\n",
      "Epoch: 14      Loss: 0.0006856547243505901   \n",
      "\n",
      "Epoch: 15      Loss: 0.0006264456260513371   \n",
      "\n"
     ]
    },
    {
     "data": {
      "image/png": "[encoded data removed]",
      "text/plain": [
       "<Figure size 720x720 with 1 Axes>"
      ]
     },
     "metadata": {},
     "output_type": "display_data"
    }
   ],
   "source": [
    "OR_Model.fit(X_OR,y_OR,15,2,0.9)\n",
    "OR_Model.PlotLoss()"
   ]
  },
  {
   "cell_type": "markdown",
   "metadata": {
    "id": "Az0A_KpZeBKt"
   },
   "source": [
    "### XOR Operation\n",
    "\n",
    "Creating Model and Generating Data"
   ]
  },
  {
   "cell_type": "code",
   "execution_count": 9,
   "metadata": {
    "id": "nsUl7JC2eBKu"
   },
   "outputs": [],
   "source": [
    "XOR_Model = MLP(2,\"SE\")\n",
    "X_XOR, y_XOR = GenerateSamples(\"XOR\",400)"
   ]
  },
  {
   "cell_type": "markdown",
   "metadata": {
    "id": "oWVJr2coeBKy"
   },
   "source": [
    "Training  Model and Plotting Loss"
   ]
  },
  {
   "cell_type": "code",
   "execution_count": 10,
   "metadata": {
    "colab": {
     "base_uri": "https://localhost:8080/",
     "height": 1000
    },
    "id": "5COGybkjeBKz",
    "outputId": "4d83cc7f-b2f4-42ae-d9e5-3e8e1772aca9",
    "scrolled": true
   },
   "outputs": [
    {
     "name": "stdout",
     "output_type": "stream",
     "text": [
      "Epoch: 1       Loss: 0.26385456366956045     \n",
      "\n",
      "Epoch: 2       Loss: 0.24732339244395082     \n",
      "\n",
      "Epoch: 3       Loss: 0.21481515566110734     \n",
      "\n",
      "Epoch: 4       Loss: 0.1903856801765514      \n",
      "\n",
      "Epoch: 5       Loss: 0.16708130872609966     \n",
      "\n",
      "Epoch: 6       Loss: 0.10642909657801755     \n",
      "\n",
      "Epoch: 7       Loss: 0.04367544692902484     \n",
      "\n",
      "Epoch: 8       Loss: 0.021722715385120894    \n",
      "\n",
      "Epoch: 9       Loss: 0.013665657449682964    \n",
      "\n",
      "Epoch: 10      Loss: 0.009756726870116193    \n",
      "\n",
      "Epoch: 11      Loss: 0.0075048307518632      \n",
      "\n",
      "Epoch: 12      Loss: 0.006059194585067838    \n",
      "\n",
      "Epoch: 13      Loss: 0.005060231778728704    \n",
      "\n",
      "Epoch: 14      Loss: 0.004332261411994001    \n",
      "\n",
      "Epoch: 15      Loss: 0.003780084578894201    \n",
      "\n",
      "Epoch: 16      Loss: 0.003347955433745754    \n",
      "\n",
      "Epoch: 17      Loss: 0.003001205002549231    \n",
      "\n",
      "Epoch: 18      Loss: 0.002717209213769026    \n",
      "\n",
      "Epoch: 19      Loss: 0.0024806114628358415   \n",
      "\n",
      "Epoch: 20      Loss: 0.002280640639222624    \n",
      "\n"
     ]
    },
    {
     "data": {
      "image/png": "[encoded data removed]",
      "text/plain": [
       "<Figure size 720x720 with 1 Axes>"
      ]
     },
     "metadata": {},
     "output_type": "display_data"
    }
   ],
   "source": [
    "XOR_Model.fit(X_XOR,y_XOR,20,2,0.9)\n",
    "XOR_Model.PlotLoss()"
   ]
  },
  {
   "cell_type": "markdown",
   "metadata": {
    "id": "7EkWU__weBK3"
   },
   "source": [
    "## Sparse Auto-Encoder\n",
    "\n"
   ]
  },
  {
   "cell_type": "markdown",
   "metadata": {
    "id": "w12OHMdcen64"
   },
   "source": [
    "### Model Training\n",
    "\n",
    "Creating and Training the a Sparse Auto-Encoder\n",
    "\n",
    "**Training Specifications:**\n",
    "1. Hidden Nodes(M): 960\n",
    "2. p = 0.01\n",
    "3. Learning-Rate = 0.1\n",
    "4. Epochs = 20, BatchSize = 4\n",
    "\n",
    "Loss Function of Sparse Auto-Encoder for a BatchSize of **k** is\n",
    "\n",
    "\\begin{align}\n",
    "    L = \\frac{1}{k}\\Bigg(\\sum_{i=1}^{k} ||x_i - \\hat{x}_i ||^2\\Bigg) + \\lambda\\sum_{i=1}^{M} \\mathrm{KL}\\left(p \\| \\bar{z}_{i}\\right)\n",
    "\\end{align}\n",
    "where\n",
    "\\begin{align}\n",
    "    \\mathrm{KL}\\left(p \\| \\bar{z}_{i}\\right) = p \\log \\frac{p}{\\bar{z}_{i}}+(1-p) \\log \\frac{1-p}{1-\\bar{z}_{i}}\\\\\n",
    "    \\bar{z}_{i} = \\frac{1}{k}\\sum_{i=1}^{k}z_{i}\n",
    "\\end{align}\n",
    "\n",
    "One of the step in Back Propagation changes to\n",
    "\n",
    "\\begin{align}\n",
    "    dH_1 = dA_2W_2^T + \\frac{\\lambda}{k}\\bigg(-\\frac{p}{\\bar{z}_{i}}+\\frac{1-p}{1-\\bar{z}_{i}}\\bigg)\n",
    "\\end{align}\n",
    "\n",
    "---\n",
    "\n",
    "Note: Weights of Model are saved and uploaded in [GitHub](https://github.com/dks2000dks/IIT-Hyderabad-Semester-Courses/tree/master/EE5601/HW2/Weights/SparseAE)."
   ]
  },
  {
   "cell_type": "markdown",
   "metadata": {
    "id": "vbMHyu74UaNK"
   },
   "source": [
    "#### Initialising Model"
   ]
  },
  {
   "cell_type": "code",
   "execution_count": 11,
   "metadata": {
    "id": "UrFHzyB5eBK4"
   },
   "outputs": [],
   "source": [
    "SparseAE = MLP(960,\"SparseLoss\")"
   ]
  },
  {
   "cell_type": "markdown",
   "metadata": {
    "id": "b4TiYrJjUaNQ"
   },
   "source": [
    "#### Training Model\n",
    "\n",
    "Training the  Model and Saving Weights"
   ]
  },
  {
   "cell_type": "code",
   "execution_count": null,
   "metadata": {
    "colab": {
     "base_uri": "https://localhost:8080/"
    },
    "id": "EAnudnRKUaNR",
    "outputId": "b1a6fc86-c99b-430c-8fbb-3c4305c91a5e"
   },
   "outputs": [
    {
     "name": "stdout",
     "output_type": "stream",
     "text": [
      "Epoch: 1       Loss: 41.190731899595754      \n",
      "\n",
      "Epoch: 2       Loss: 22.8878144952091        \n",
      "\n",
      "Epoch: 3       Loss: 18.916948009106903      \n",
      "\n",
      "Epoch: 4       Loss: 16.563820705356264      \n",
      "\n",
      "Epoch: 5       Loss: 14.752407276811757      \n",
      "\n",
      "Epoch: 6       Loss: 13.28339255716466       \n",
      "\n",
      "Epoch: 7       Loss: 12.105232787557217      \n",
      "\n",
      "Epoch: 8       Loss: 11.1536243064106        \n",
      "\n",
      "Epoch: 9       Loss: 10.320651272881543      \n",
      "\n",
      "Epoch: 10      Loss: 9.539464325053416       \n",
      "\n",
      "Epoch: 11      Loss: 8.897027174966224       \n",
      "\n",
      "Epoch: 12      Loss: 8.341108573671871       \n",
      "\n",
      "Epoch: 13      Loss: 7.852119437372769       \n",
      "\n",
      "Epoch: 14      Loss: 7.401985130422402       \n",
      "\n",
      "Epoch: 15      Loss: 7.030864514549494       \n",
      "\n",
      "Epoch: 16      Loss: 6.708220185145986       \n",
      "\n",
      "Epoch: 17      Loss: 6.425011736483528       \n",
      "\n",
      "Epoch: 18      Loss: 6.175104575889199       \n",
      "\n",
      "Epoch: 19      Loss: 5.9501026612028385      \n",
      "\n",
      "Epoch: 20      Loss: 5.737311536526973       \n",
      "\n"
     ]
    }
   ],
   "source": [
    "SparseAE.fit(Data,Data,20,4,0.1, SaveWeightsPath = \"Weights/SparseAE\", LoadWeightsPath = None)"
   ]
  },
  {
   "cell_type": "markdown",
   "metadata": {
    "id": "Zk6ORdnmUaNW"
   },
   "source": [
    "#### Plotting Loss\n",
    "\n",
    "Plotting Loss for Epoch"
   ]
  },
  {
   "cell_type": "code",
   "execution_count": null,
   "metadata": {
    "colab": {
     "base_uri": "https://localhost:8080/",
     "height": 621
    },
    "id": "6_x6dJppUaNW",
    "outputId": "7a59feb0-eb34-4eaf-ceae-eb50308f95af"
   },
   "outputs": [
    {
     "data": {
      "image/png": "[encoded data removed]",
      "text/plain": [
       "<Figure size 720x720 with 1 Axes>"
      ]
     },
     "metadata": {
      "tags": []
     },
     "output_type": "display_data"
    }
   ],
   "source": [
    "SparseAE.PlotLoss()"
   ]
  },
  {
   "cell_type": "markdown",
   "metadata": {
    "id": "0__HuYBwejX5"
   },
   "source": [
    "#### Results\n",
    "\n",
    "Generating Results for Random Images of Dataset."
   ]
  },
  {
   "cell_type": "code",
   "execution_count": 12,
   "metadata": {
    "colab": {
     "base_uri": "https://localhost:8080/",
     "height": 318
    },
    "id": "AaEKnYf5eBK-",
    "outputId": "d31d273d-72de-4415-f646-94f529ade70e"
   },
   "outputs": [
    {
     "data": {
      "image/png": "[encoded data removed]",
      "text/plain": [
       "<Figure size 720x720 with 2 Axes>"
      ]
     },
     "metadata": {},
     "output_type": "display_data"
    }
   ],
   "source": [
    "SparseAE.loadWeights(\"Weights/SparseAE\")\n",
    "\n",
    "i = np.random.randint(0,Data.shape[0]-1)\n",
    "I = Data[i].reshape(28,28)\n",
    "O,H = SparseAE.predict(Data[i],True)\n",
    "O = O.reshape(28,28)\n",
    "\n",
    "plt.figure(figsize=(10,10))\n",
    "plt.subplot(1,2,1)\n",
    "plt.title('Input to AutoEncoder')\n",
    "plt.imshow(I,cmap='gray')\n",
    "plt.subplot(1,2,2)\n",
    "plt.title('Output of AutoEncoder')\n",
    "plt.imshow(O,cmap='gray')\n",
    "plt.show()"
   ]
  },
  {
   "cell_type": "markdown",
   "metadata": {
    "id": "af_Onko-YbXP"
   },
   "source": [
    "#### Sparse Vector\n",
    "\n",
    "Sparse AutoEncoder has a Sparse Hidden Layer."
   ]
  },
  {
   "cell_type": "code",
   "execution_count": 13,
   "metadata": {
    "colab": {
     "base_uri": "https://localhost:8080/"
    },
    "id": "RQeUny2uYfHy",
    "outputId": "0d17c1e3-35c9-435a-ed98-6935a5387b57"
   },
   "outputs": [
    {
     "name": "stdout",
     "output_type": "stream",
     "text": [
      "Sparse Latent Vector:\n",
      " [[1.63313835e-04 3.31443094e-04 4.91593605e-02 3.06358671e-03\n",
      "  4.42570580e-03 2.11554017e-02 3.49086079e-03 5.94377358e-04\n",
      "  1.47484103e-02 4.86134755e-05 1.20802206e-02 5.46700853e-05\n",
      "  6.47405641e-01 1.27352817e-03 1.82834334e-05 2.06743156e-03\n",
      "  3.01989416e-05 3.41345590e-05 8.70439409e-03 2.57516572e-04\n",
      "  4.34870878e-03 8.47202630e-03 4.67696439e-03 3.90598733e-04\n",
      "  3.34523692e-03 1.31734997e-02 8.20581956e-03 4.18328486e-06\n",
      "  3.15674523e-04 5.59377738e-01 5.57891840e-03 1.07994762e-04\n",
      "  2.81939811e-03 1.09012317e-02 2.45653543e-03 1.85231748e-04\n",
      "  2.72668073e-04 1.95739004e-04 4.44691846e-06 1.90764388e-04\n",
      "  6.27383628e-03 2.41727249e-07 3.54499107e-04 1.13964110e-03\n",
      "  4.48493923e-03 7.99095875e-02 8.82737386e-04 8.17026619e-04\n",
      "  4.19596602e-03 6.85523998e-03 5.18933316e-03 2.98631486e-04\n",
      "  6.57189196e-02 2.80432333e-04 8.32305455e-04 1.21540700e-03\n",
      "  3.61559022e-03 1.07005492e-04 9.87242626e-05 5.33966038e-04\n",
      "  9.60712834e-05 6.01905868e-03 9.91391981e-04 2.18546327e-03\n",
      "  2.94671392e-04 5.50768784e-03 8.79428187e-01 2.53644890e-04\n",
      "  7.10463585e-05 3.24092656e-04 5.22546010e-09 3.65524912e-03\n",
      "  7.75281800e-04 2.27355474e-04 2.68794509e-02 8.33387895e-03\n",
      "  2.86817434e-04 2.17430746e-03 7.63990712e-03 3.17533124e-04\n",
      "  9.51034936e-04 8.31757523e-04 3.55989441e-02 2.01209370e-03\n",
      "  4.49200118e-04 4.87782181e-03 1.54210299e-04 4.08545166e-05\n",
      "  3.36381516e-03 9.59890135e-03 3.79137215e-03 1.01919360e-03\n",
      "  1.20727528e-03 2.03552912e-03 2.35836478e-04 2.67361472e-02\n",
      "  1.56140980e-01 2.40501939e-02 1.72356807e-02 1.44410542e-02\n",
      "  7.29831902e-04 2.02335670e-03 7.21999292e-04 1.86356328e-02\n",
      "  1.52889505e-03 5.52842037e-05 7.70342806e-03 1.97598557e-02\n",
      "  6.43639468e-04 1.52949006e-03 7.39230302e-03 1.12398659e-01\n",
      "  3.01185591e-02 1.50610275e-04 1.55324524e-03 8.94081535e-02\n",
      "  7.77317848e-05 1.47122647e-02 9.82274489e-07 1.74222746e-02\n",
      "  1.77794488e-04 4.69978091e-03 3.46797314e-03 3.34601961e-04\n",
      "  3.67932261e-04 3.33788545e-02 4.86290325e-04 5.39989214e-02\n",
      "  1.72997880e-02 7.66485977e-02 7.55964866e-03 1.65007730e-01\n",
      "  8.73465418e-03 2.64277483e-04 2.29665058e-02 9.38750690e-04\n",
      "  2.29721601e-03 7.67324902e-02 3.42730582e-04 1.12497866e-03\n",
      "  5.46201945e-03 3.88778502e-04 1.72833520e-01 4.33650935e-05\n",
      "  9.47630805e-01 3.93580970e-04 5.03703851e-03 1.12904374e-03\n",
      "  1.57015196e-02 1.76771798e-03 3.73858325e-04 7.19284977e-02\n",
      "  5.61179859e-04 7.19441028e-04 2.79251838e-04 4.00598554e-05\n",
      "  1.86445272e-03 1.06688588e-03 4.60695743e-03 1.85590654e-02\n",
      "  6.11368476e-03 2.89597209e-03 1.84151608e-04 1.24204901e-03\n",
      "  1.85256235e-04 1.04201899e-04 5.19196636e-04 1.56528668e-04\n",
      "  6.75963235e-04 3.27191584e-03 6.35925534e-02 1.06287723e-03\n",
      "  8.05320747e-05 2.18408157e-03 5.72912514e-03 1.03320135e-04\n",
      "  3.06629604e-04 2.75079388e-04 1.53882009e-04 3.46778863e-01\n",
      "  3.67854822e-05 1.65203574e-03 1.13923084e-04 3.15278458e-05\n",
      "  1.17916839e-04 7.56379167e-04 1.08873356e-02 5.68218517e-04\n",
      "  1.70666837e-04 2.19410784e-05 1.83041083e-02 3.37686336e-02\n",
      "  2.18341157e-03 1.18863537e-04 2.75258781e-05 4.46446355e-01\n",
      "  1.70115087e-03 1.47895109e-03 2.39538404e-04 4.34164788e-05\n",
      "  3.44222415e-03 7.06411404e-04 9.78253915e-04 4.16185280e-02\n",
      "  2.29523130e-03 7.77210095e-05 1.13642890e-01 2.00350425e-03\n",
      "  1.90656722e-03 3.88702285e-04 8.30363283e-03 1.85181452e-01\n",
      "  6.91876426e-04 3.01978691e-05 6.34522917e-05 8.58918312e-05\n",
      "  4.88976319e-02 1.30227642e-02 1.90391998e-04 4.64395274e-03\n",
      "  5.90742854e-07 1.71334810e-03 3.59569928e-04 5.56812424e-04\n",
      "  1.01688889e-03 1.38701270e-02 6.53281829e-02 2.65667843e-03\n",
      "  6.49428587e-03 1.95491617e-03 1.93361662e-03 2.01138064e-03\n",
      "  5.92323549e-05 1.52433349e-03 1.12765158e-03 6.16036114e-03\n",
      "  5.17535019e-04 5.65620827e-03 2.21865856e-02 8.71394932e-02\n",
      "  1.64980031e-02 2.79116162e-03 1.73570595e-05 1.89264891e-03\n",
      "  1.58166124e-04 5.37435408e-04 2.81382840e-04 4.54133598e-03\n",
      "  5.65007049e-04 3.49375831e-03 4.27410878e-05 8.24637560e-04\n",
      "  1.08057581e-03 9.38315146e-04 6.40716283e-04 5.12168653e-03\n",
      "  2.06125995e-04 9.44734454e-06 8.43769584e-03 4.70735174e-03\n",
      "  2.07428079e-02 1.79819668e-03 1.81661761e-04 2.62421715e-05\n",
      "  3.33061840e-02 6.31987417e-05 6.20851244e-04 3.47928183e-04\n",
      "  1.50042411e-02 1.41477802e-02 7.40149590e-03 4.34365715e-02\n",
      "  2.41752892e-04 4.86230431e-02 1.40374377e-03 1.67328447e-02\n",
      "  1.07738585e-03 4.99532758e-03 1.92646229e-04 3.21130729e-04\n",
      "  9.01610551e-02 2.59997983e-02 4.56124468e-02 6.43123862e-04\n",
      "  3.21302470e-03 6.10733873e-03 4.80517801e-05 2.08290349e-03\n",
      "  6.80256195e-04 2.44723868e-02 3.06413753e-04 8.84960818e-05\n",
      "  7.90340368e-04 1.25709113e-02 2.57875059e-04 3.04734352e-02\n",
      "  1.95698843e-03 1.07545528e-02 3.25841440e-03 1.68205692e-03\n",
      "  8.90113054e-04 4.89739490e-03 2.56236033e-03 6.34079214e-03\n",
      "  4.35404344e-04 1.12766748e-03 8.63635324e-02 1.64296765e-02\n",
      "  3.60295229e-04 2.09499730e-02 5.69951993e-06 1.25502809e-04\n",
      "  3.92965525e-04 2.01542295e-02 2.31205158e-03 6.37568033e-05\n",
      "  4.76874831e-01 1.87016886e-02 1.82134643e-03 4.91860382e-03\n",
      "  1.99222577e-03 1.58501303e-02 2.01647398e-02 2.54852576e-04\n",
      "  2.49543468e-01 7.76846666e-02 2.36822886e-02 9.05468397e-03\n",
      "  1.41521102e-02 3.67182947e-03 9.42191964e-04 1.28168572e-01\n",
      "  1.13369206e-02 3.57477639e-04 2.26910821e-03 3.51277213e-03\n",
      "  2.75217477e-04 7.67389431e-04 4.54612599e-06 3.90879450e-04\n",
      "  1.67303513e-02 6.30402699e-08 1.62256428e-02 8.37350221e-04\n",
      "  4.64707624e-03 3.21026338e-04 4.35315288e-02 2.23645696e-02\n",
      "  8.18850732e-02 1.91762331e-04 2.88666162e-06 1.47653391e-04\n",
      "  4.49293846e-03 1.03872115e-03 9.56163659e-03 1.76395144e-03\n",
      "  1.38029264e-01 1.70566187e-05 4.68259425e-04 5.75092265e-03\n",
      "  2.26894275e-04 1.14099908e-03 1.58394153e-04 3.22659916e-02\n",
      "  1.32582007e-06 9.93185404e-02 1.26558330e-02 1.63050853e-02\n",
      "  1.47896729e-03 7.98297126e-03 1.07827981e-02 2.46540107e-03\n",
      "  4.42667134e-05 1.13067829e-03 1.45681066e-01 1.71308448e-05\n",
      "  7.24026942e-03 8.18840564e-03 1.04828606e-03 1.88646200e-03\n",
      "  2.82136942e-03 1.55979705e-02 2.77084177e-03 4.74806614e-04\n",
      "  5.83647953e-05 1.98404473e-03 3.29415524e-04 8.48655047e-05\n",
      "  9.77779644e-04 1.36715369e-05 4.34807420e-02 1.26431213e-05\n",
      "  1.32190490e-03 2.59780305e-05 1.17778382e-01 3.31744526e-07\n",
      "  2.68947502e-01 2.31565522e-03 1.75993132e-03 2.28316471e-04\n",
      "  5.85440848e-04 3.65319028e-05 1.08680300e-02 2.02940169e-03\n",
      "  8.47344065e-04 1.62540368e-03 1.07266616e-04 3.78495753e-03\n",
      "  1.61176478e-02 7.06878271e-02 1.88569068e-02 1.57740292e-04\n",
      "  3.01054906e-04 4.45874841e-02 1.56801287e-03 1.26971133e-03\n",
      "  9.85079985e-03 2.44208822e-02 4.05102715e-05 1.08509855e-05\n",
      "  6.51382605e-03 3.07295616e-03 7.87906301e-06 5.36976333e-04\n",
      "  1.54722448e-03 8.56593086e-03 9.85959629e-02 1.87925725e-02\n",
      "  2.86763803e-02 1.24476729e-05 2.18012547e-05 1.30138275e-03\n",
      "  4.09194891e-04 2.98272135e-02 2.39265190e-03 1.66800918e-02\n",
      "  1.78409897e-02 1.89239195e-02 1.57838765e-02 3.30698720e-03\n",
      "  7.61365073e-03 3.08566529e-03 3.68784697e-03 1.82706922e-03\n",
      "  9.92381282e-03 1.51956466e-03 4.09880885e-01 4.08311166e-01\n",
      "  5.35410751e-03 2.45663117e-01 1.48753320e-04 6.03143878e-03\n",
      "  2.71109286e-03 2.41706112e-04 3.19407739e-03 5.26370224e-02\n",
      "  1.43312109e-05 1.16549473e-03 5.96508031e-04 1.09729243e-04\n",
      "  1.79411897e-03 9.22291002e-02 1.17303850e-03 1.07821034e-07\n",
      "  1.39168609e-05 1.93000763e-02 3.17839784e-03 2.63763027e-02\n",
      "  1.13855189e-03 2.32060802e-04 1.09417257e-02 7.27479494e-02\n",
      "  8.93970282e-04 6.12938148e-03 1.28318860e-02 1.55383063e-03\n",
      "  1.56568561e-03 1.58910221e-04 1.18464292e-04 3.81087164e-03\n",
      "  4.03201659e-03 6.05399422e-04 3.13589040e-04 1.99281544e-04\n",
      "  5.64496254e-03 2.66726214e-05 4.58852157e-04 2.07034057e-04\n",
      "  4.07301910e-04 1.54417060e-03 2.37761411e-03 2.77218947e-01\n",
      "  5.97782482e-05 3.13253248e-03 4.18683167e-04 1.02602488e-03\n",
      "  7.83581226e-07 8.16797236e-04 6.55560327e-02 7.92386781e-04\n",
      "  2.49040393e-05 4.04869301e-03 3.70112351e-03 1.64533405e-04\n",
      "  3.13241527e-03 1.90304579e-06 8.74753294e-05 1.80683073e-03\n",
      "  1.09139002e-03 1.93483285e-06 4.30804491e-03 3.72534196e-03\n",
      "  1.55356419e-04 3.41900189e-04 5.37269290e-03 4.15918081e-03\n",
      "  4.31597764e-02 9.54212160e-08 9.76288829e-03 5.76802303e-04\n",
      "  1.12873145e-03 4.12071088e-04 3.47022824e-03 3.04313264e-03\n",
      "  2.29940144e-04 9.32999455e-01 1.30686102e-03 3.60404046e-02\n",
      "  1.27471414e-03 5.29069246e-03 7.93593920e-04 1.20976630e-04\n",
      "  1.08224625e-04 1.17437561e-04 1.40590858e-02 6.36681415e-05\n",
      "  4.40426758e-05 4.46167257e-04 2.32496182e-03 1.38989352e-05\n",
      "  9.95477452e-05 1.58582134e-02 1.42616345e-04 8.39018996e-05\n",
      "  1.64173515e-03 1.28813391e-03 3.57081013e-04 1.57340062e-02\n",
      "  5.27986054e-05 1.52030742e-03 1.49582535e-04 9.75001823e-04\n",
      "  1.21087672e-02 9.18943631e-04 5.61751429e-04 8.51532865e-03\n",
      "  1.72585767e-04 2.04872949e-03 1.37025146e-02 1.05602938e-04\n",
      "  2.32069063e-02 1.50447803e-02 4.21379414e-03 4.67509612e-02\n",
      "  4.72646080e-04 6.35715885e-03 2.57648610e-04 1.68375722e-04\n",
      "  3.33468776e-04 3.28239244e-02 1.83399329e-01 4.19676811e-04\n",
      "  2.33440109e-05 2.22679331e-04 3.72194178e-04 2.13924929e-03\n",
      "  2.20705071e-04 1.22343089e-01 3.35424265e-01 1.60481377e-03\n",
      "  2.44894330e-02 1.13784718e-03 2.46671800e-06 2.40900800e-03\n",
      "  2.03936775e-05 1.79139768e-03 1.45866431e-04 1.10994484e-02\n",
      "  2.22570510e-02 1.29854836e-04 3.21088380e-02 5.82803182e-03\n",
      "  2.40824625e-05 2.85096858e-02 2.58828670e-02 1.00360364e-04\n",
      "  3.68233649e-05 2.92768338e-01 2.82973806e-04 9.63500991e-05\n",
      "  2.19809558e-02 2.28902857e-02 4.21328097e-02 1.22759677e-02\n",
      "  4.50650617e-02 4.67664761e-05 1.81683593e-05 3.27022504e-03\n",
      "  1.12427309e-02 1.22142755e-03 3.24139568e-03 1.78669290e-02\n",
      "  2.25155215e-01 5.60320166e-01 7.52677023e-02 1.46847641e-05\n",
      "  1.56284473e-05 1.06098967e-01 3.78914764e-01 1.46593362e-02\n",
      "  1.50283720e-03 4.31876860e-02 4.99937399e-02 1.71752623e-04\n",
      "  7.07718274e-04 9.72640888e-05 3.30253182e-03 2.38435953e-03\n",
      "  3.35789131e-04 4.31782312e-02 2.84399265e-04 1.70671189e-03\n",
      "  2.46271645e-03 1.81842149e-03 1.52530633e-04 4.52271779e-04\n",
      "  2.04543872e-02 1.79270207e-05 8.25655748e-03 1.06233566e-04\n",
      "  1.03741917e-02 5.44623688e-03 7.74212930e-04 2.77564000e-04\n",
      "  8.95648681e-03 2.25964695e-02 5.04032546e-06 5.05286428e-05\n",
      "  2.10837557e-04 8.37537302e-03 7.47231063e-02 1.79758778e-01\n",
      "  1.05519033e-03 1.71963516e-02 2.63356781e-05 1.33834525e-05\n",
      "  5.17537846e-04 1.08944415e-04 4.04866441e-03 3.20909026e-02\n",
      "  9.83087658e-04 7.50553195e-04 4.30172680e-04 2.09849583e-02\n",
      "  2.26445041e-04 4.17378123e-03 4.09820766e-03 4.97179710e-03\n",
      "  8.73600642e-03 2.85201130e-02 1.25571786e-02 5.85918675e-04\n",
      "  2.38883743e-04 1.70053838e-03 2.25532509e-02 4.41170039e-05\n",
      "  2.91212611e-03 4.57537634e-04 1.44350040e-04 4.46246928e-04\n",
      "  6.61593835e-01 2.17155089e-06 6.41789099e-04 1.10272925e-04\n",
      "  5.67697996e-02 9.12071841e-03 7.45590759e-05 2.99473151e-03\n",
      "  2.26126203e-04 1.42705716e-04 7.49820694e-01 1.04225714e-03\n",
      "  7.51216179e-04 9.87196918e-04 6.63391893e-04 2.53920734e-02\n",
      "  2.36604644e-04 6.17773008e-06 1.04801598e-02 3.92048240e-03\n",
      "  1.71661077e-02 2.80660273e-02 3.39091959e-03 7.74124423e-03\n",
      "  6.51875032e-04 1.12265596e-03 1.18892432e-04 1.79324542e-04\n",
      "  4.10492405e-04 1.54109337e-04 2.94236222e-04 2.52403530e-03\n",
      "  2.25389459e-03 1.39418562e-03 8.36744067e-04 8.98701183e-01\n",
      "  1.56632516e-02 6.31170632e-03 4.87892774e-02 7.45928156e-05\n",
      "  8.05500009e-04 5.69026257e-03 1.31474582e-01 4.28288933e-04\n",
      "  1.61497938e-04 7.60725446e-03 3.21697524e-04 8.32201830e-04\n",
      "  6.73962374e-03 2.71170645e-03 1.72579351e-04 3.62917783e-04\n",
      "  2.31822015e-04 1.04811914e-03 9.08376086e-02 8.59617468e-03\n",
      "  1.13079253e-02 1.74390904e-03 4.66091507e-04 1.83128489e-03\n",
      "  1.07345615e-01 3.83683681e-04 1.61512836e-03 1.22647118e-04\n",
      "  7.40875702e-03 3.63485363e-03 3.95033075e-02 2.65277164e-02\n",
      "  1.01401971e-02 1.35879272e-04 1.54765302e-03 1.75827171e-04\n",
      "  4.84202295e-03 9.57904352e-02 6.32840408e-03 2.52668446e-02\n",
      "  2.09173221e-03 1.50892012e-02 1.56458081e-03 2.66065594e-03\n",
      "  1.11172457e-04 1.81013300e-04 2.32117288e-02 1.23400494e-04\n",
      "  1.15408943e-03 1.42104744e-03 9.98338119e-04 2.08046911e-03\n",
      "  4.73659078e-04 1.06085594e-05 3.33187869e-02 2.58721120e-04\n",
      "  1.62545059e-03 1.78328077e-03 5.65179311e-08 1.30909894e-02\n",
      "  4.43322478e-03 3.81377075e-04 1.83110255e-04 8.43097410e-02\n",
      "  1.93075509e-05 4.81328326e-04 1.61688384e-02 5.58624010e-05\n",
      "  8.38163164e-05 5.21338409e-03 9.93580858e-04 4.18693733e-02\n",
      "  2.14204950e-02 1.20514828e-01 9.00058127e-05 7.61773875e-03\n",
      "  7.24582693e-02 1.21578096e-02 1.83007691e-03 1.20165640e-02\n",
      "  1.28329312e-04 4.37765912e-03 6.10091468e-05 4.65734303e-02\n",
      "  2.62177936e-03 4.29279020e-06 1.03186718e-02 4.02468968e-04\n",
      "  2.12089980e-02 1.15475836e-03 1.95213893e-02 2.40748574e-04\n",
      "  1.38450594e-03 2.25929943e-04 2.87727911e-04 1.17094290e-04\n",
      "  8.08656092e-04 4.41890609e-04 4.95438339e-03 2.15061237e-03\n",
      "  8.19563792e-04 1.00473669e-03 2.35509370e-01 1.94836881e-02\n",
      "  3.31426575e-03 1.14728824e-02 2.37597987e-02 3.19970577e-04\n",
      "  4.36420376e-03 4.46806011e-03 2.87599056e-02 2.85238288e-02\n",
      "  6.74773699e-02 8.89041594e-05 2.74228086e-02 8.13918066e-05\n",
      "  2.84898721e-03 4.27112746e-04 1.11722903e-03 7.05400883e-05\n",
      "  2.98613199e-03 2.26763194e-02 3.77712066e-03 1.40585161e-01\n",
      "  3.38866050e-04 1.27671306e-02 1.38754028e-02 2.08532999e-03\n",
      "  4.71600202e-03 2.14417902e-03 6.37348949e-02 2.47008635e-03\n",
      "  1.45000181e-01 8.63143394e-06 6.02109811e-04 1.95715620e-04\n",
      "  1.01734938e-01 1.03842008e-01 3.48743253e-03 8.62083964e-05\n",
      "  2.90208474e-04 2.29515963e-04 8.89668175e-04 8.98147629e-04\n",
      "  1.04624375e-02 8.33574659e-03 9.99212560e-04 5.81416808e-02\n",
      "  1.21947975e-02 1.18620045e-01 3.88868257e-04 3.59539355e-01\n",
      "  5.73025656e-04 6.89116945e-05 1.71968428e-02 2.90638622e-04\n",
      "  1.95668935e-03 1.65475269e-03 6.78230329e-01 1.60462480e-05\n",
      "  9.03011541e-05 7.64659985e-05 5.08436306e-05 1.59998303e-02\n",
      "  2.58069900e-04 1.34090923e-01 1.06784630e-04 1.16202522e-04\n",
      "  2.72796398e-03 1.55941174e-02 5.60579498e-05 5.56303163e-05\n",
      "  7.39546406e-02 9.30596210e-02 2.54126465e-04 7.95180754e-04\n",
      "  3.74770961e-02 4.53922307e-03 1.20643837e-02 9.28483509e-03\n",
      "  1.09980948e-03 1.64873376e-03 2.66257091e-05 3.48872941e-04\n",
      "  4.17046198e-03 8.56123443e-04 1.67093762e-04 5.85641683e-04\n",
      "  2.17540174e-03 1.96405364e-03 2.53829661e-03 1.79055989e-03\n",
      "  2.08463695e-03 1.26664981e-04 8.71035376e-06 1.49308435e-02\n",
      "  8.23635932e-03 1.51868265e-04 4.59100160e-04 9.20053254e-03\n",
      "  3.03980641e-03 3.84106387e-02 2.51229531e-04 1.21149450e-02\n",
      "  1.44004024e-04 1.08054651e-03 1.00076037e-02 7.64611471e-04\n",
      "  4.03808040e-03 5.51844879e-02 2.75766320e-04 1.70152060e-02\n",
      "  5.49259961e-02 1.25938506e-02 4.94125296e-03 8.04351614e-04\n",
      "  9.07210032e-05 8.95282660e-05 2.94817183e-05 2.71630331e-02\n",
      "  1.06462008e-05 3.29247542e-04 1.04233601e-03 8.34794375e-06\n",
      "  1.36348481e-04 6.92389053e-03 6.10012596e-05 2.05058675e-05\n",
      "  1.82773118e-04 2.48780570e-04 2.91861978e-02 1.47424378e-04\n",
      "  2.09385708e-04 1.92287060e-04 1.49246082e-04 5.26418436e-02\n",
      "  5.77508266e-03 2.59484741e-04 1.35542439e-04 4.16099408e-04\n",
      "  3.62497921e-04 5.54751546e-07 1.52585239e-02 9.78163879e-04]]\n",
      "Error in Sparsity: 1.8198880671545818\n"
     ]
    }
   ],
   "source": [
    "print (\"Sparse Latent Vector:\\n\", H)\n",
    "print (\"Error in Sparsity:\", np.linalg.norm(H - np.round(H)))"
   ]
  },
  {
   "cell_type": "markdown",
   "metadata": {
    "id": "5bdgrMAjUaNg"
   },
   "source": [
    "## Variational AutoEncoder\n",
    "\n",
    "**Assumptions:**\n",
    "1. Encoder outputs mean($\\mu$) and logarithm of diagonal values of CoVariance matrix($\\sum$).\n",
    "2. Considering only diagonal elements of CoVariaance matrix. And also assuming encoder outputs only diagonal elements.\n",
    "3. From online sources, it is found that it is a common practice to use \"$\\log(\\sigma)$\" values rather than \"$\\sigma$\" as \"$\\log$\" can map numerically very small numbers to large spaces. (Source: [StackExchange](https://stats.stackexchange.com/questions/353220/why-in-variational-auto-encoder-gaussian-variational-family-we-model-log-sig))\n",
    "4. $f(z)$ is the output of VAE.\n",
    "\n",
    "---\n",
    "\n",
    "\n",
    "Inorder for VAE to perform good, we need to maximize,\n",
    "\\begin{align}\n",
    "    \\log(p(x)) - KL\\left[Q(z|x) || p(z|x) \\right] = \\mathop{\\mathbb{E}}_{z \\sim Q(z|x)}\\log(p(x|z)) - KL\\left[Q(z|x) || p(z) \\right]\n",
    "\\end{align}\n",
    "where,\n",
    "\\begin{align}\n",
    "    p(x|z) = \\mathcal{N}(x;f(z),\\sigma^2I)\n",
    "\\end{align}\n",
    "i.e, as Loss should be minimised,\n",
    "\\begin{align}\n",
    "    Loss = KL\\left[Q(z|x) || p(z) \\right] - \\mathop{\\mathbb{E}}_{z \\sim Q(z|x)}\\log(p(x|z))\\\\\n",
    "    KL\\left[Q(z|x) || p(z) \\right] = \\frac{1}{2}\\left[Tr\\left(\\sum(x)\\right) + \\mu(x)^T\\mu(x) - d - \\log ||\\sum(x)||\\right]\\\\\n",
    "    \\mathop{\\mathbb{E}}_{z \\sim Q(z|x)}\\log(p(x|z)) = K - ||x - f(z)||^2 \\\\\n",
    "    Loss =  \\frac{1}{2}\\left[Tr\\left(\\sum(x)\\right) + \\mu(x)^T\\mu(x) - d - \\log ||\\sum(x)||\\right]\\\\ + ||x - f(z)||^2 \\text{ (Ignoring K as it is a constant)}\n",
    "\\end{align}\n",
    "\n",
    "By considering Assumptions,\n",
    "\\begin{align}\n",
    "    L = \\frac{1}{k}\\sum_{i=1}^{k} \\Bigg(||x_i - f(z_i)||^2 + \\frac{1}{2}\\left[\\sum_{j=1}^{d}e^{\\log\\sigma_j^2} + \\mu(x_i)^T\\mu(x_i) - \\sum_{j=1}^{d}\\log\\sigma_j^2 - d \\right]\\Bigg)\n",
    "\\end{align}\n",
    "\n",
    "where **d** is no.of Latent Dimensions.\n",
    "\n",
    "\n",
    "**Note:**\n",
    "KL divergence Loss term increases when the Probability Distribution generated by the Encoder diverges from the $\\mathcal{N}(0,I)$ Standard Normal Distribution. Effectively, this means that the Neural Network is Regularized to learn an Encoder that produces a Probability Distribution with $\\mu \\approx 0$ and $\\sum \\approx I$, “pushing” the probability distributions and hence the sampled $X$'s close together.\n",
    "\n",
    "---\n",
    "\n",
    "**Note:**\n",
    "Weights of Model are saved and uploaded in [GitHub](https://github.com/dks2000dks/IIT-Hyderabad-Semester-Courses/tree/master/EE5601/HW2/Weights/VAE).\n",
    "\n"
   ]
  },
  {
   "cell_type": "markdown",
   "metadata": {
    "id": "5aLFtqniX0XJ"
   },
   "source": [
    "### ImageData Preparation\n",
    "\n",
    "Preparing Image Data for Training the Model."
   ]
  },
  {
   "cell_type": "code",
   "execution_count": 14,
   "metadata": {
    "id": "lgAIhdcdXiTB"
   },
   "outputs": [],
   "source": [
    "ImageData = Data.reshape(-1,28,28,1)"
   ]
  },
  {
   "cell_type": "markdown",
   "metadata": {
    "id": "4LGTz9MuYUyy"
   },
   "source": [
    "### Creating Model\n",
    "\n",
    "Creating a Variational AutoEncoder with Reparametrisation"
   ]
  },
  {
   "cell_type": "code",
   "execution_count": 15,
   "metadata": {
    "id": "uMlCXfiBYsY7"
   },
   "outputs": [],
   "source": [
    "tf.keras.backend.clear_session()\n",
    "\n",
    "class SamplingLayer(tf.keras.layers.Layer):\n",
    "    # Creating a Sampling Layer as a part of Reparametrisation\n",
    "    def call(self, inputs):\n",
    "        mu, log_var = inputs\n",
    "        batchSize = tf.shape(mu)[0]\n",
    "        latentDims = tf.shape(mu)[1]\n",
    "        epsilon = tf.keras.backend.random_normal(shape=(batchSize, latentDims))\n",
    "        return mu + tf.multiply(epsilon,tf.exp(log_var))\n",
    "\n",
    "class VAE(tf.keras.Model):\n",
    "    # Variational AutoEncoder with Reparametrisation\n",
    "    def __init__(self, LatentDims):\n",
    "        super(VAE, self).__init__()\n",
    "        self.LatentDims = LatentDims\n",
    "        self.Encoder = self.EncoderModel()\n",
    "        tf.keras.utils.plot_model(self.Encoder,\"Images/Encoder.png\",show_shapes=True,show_layer_names=True,expand_nested=True)\n",
    "        self.Decoder = self.DecoderModel()\n",
    "        tf.keras.utils.plot_model(self.Decoder,\"Images/Decoder.png\",show_shapes=True,show_layer_names=True,expand_nested=True)\n",
    "\n",
    "    def EncoderModel(self):\n",
    "        # Encoder Model\n",
    "        EI = Input(shape=(28,28,1))\n",
    "        x = Conv2D(32, 3, activation=\"relu\", strides=2, padding=\"same\")(EI)\n",
    "        x = Conv2D(64, 3, activation=\"relu\", strides=2, padding=\"same\")(x)\n",
    "        x = Flatten()(x)\n",
    "        mu = Dense(self.LatentDims)(x)\n",
    "        log_var = Dense(self.LatentDims)(x)\n",
    "        latentData = SamplingLayer()([mu, log_var])\n",
    "\n",
    "        return Model(inputs = EI, outputs=[mu,log_var,latentData], name=\"Encoder\")\n",
    "\n",
    "    def DecoderModel(self):\n",
    "        # Decoder Model\n",
    "        DI = Input(shape=(self.LatentDims,))\n",
    "        x = Dense(7*7*64, activation=\"relu\")(DI)\n",
    "        x = Reshape((7,7,64))(x)\n",
    "        x = Conv2DTranspose(64, 3, activation=\"relu\", strides=2, padding=\"same\")(x)\n",
    "        x = Conv2DTranspose(32, 3, activation=\"relu\", strides=2, padding=\"same\")(x)\n",
    "        DO = Conv2DTranspose(1, 3, activation=\"sigmoid\", padding=\"same\")(x)\n",
    "\n",
    "        return Model(inputs = DI, outputs=DO, name=\"Decoder\")\n",
    "\n",
    "    def LossFunction(self,X,Xhat,mu,log_var):\n",
    "        # Loss = Reconstruction Loss + KL-Divergence\n",
    "        BatchSize,LatentDims = mu.get_shape().as_list()\n",
    "        ReconstructionLoss = tf.math.reduce_mean(tf.reduce_sum(tf.square(X-Xhat), axis=(1,2,3)))\n",
    "        KLD = tf.math.reduce_mean(0.5 * (tf.math.reduce_sum(tf.square(mu) + tf.exp(log_var) - log_var, axis=1) - LatentDims))\n",
    "        return ReconstructionLoss, KLD\n",
    "\n",
    "    def train_step(self,data):\n",
    "        # Training Model\n",
    "        with tf.GradientTape() as tape:\n",
    "            mu,log_var,latentData = self.Encoder(data)\n",
    "            datahat = self.Decoder(latentData)\n",
    "\n",
    "            ReconstructionLoss, KLD = self.LossFunction(data,datahat,mu,log_var)\n",
    "            Loss = ReconstructionLoss + KLD\n",
    "\n",
    "        grads = tape.gradient(Loss, self.trainable_weights)\n",
    "        self.optimizer.apply_gradients(zip(grads, self.trainable_weights))\n",
    "\n",
    "        return {\n",
    "            \"Loss\": Loss,\n",
    "            \"Reconstruction Loss\": ReconstructionLoss,\n",
    "            \"KL-Divergence\": KLD,\n",
    "                }\n",
    "\n",
    "    def predict(self,X):\n",
    "        # Prediction for an Input\n",
    "        mu,sigma,latentData = self.Encoder(X)\n",
    "        return self.Decoder.predict(latentData)"
   ]
  },
  {
   "cell_type": "markdown",
   "metadata": {
    "id": "P0jf8kOrYiWQ"
   },
   "source": [
    "### Model Training\n",
    "\n",
    "Training Specifications\n",
    "1. **Epochs:** 40\n",
    "2. **Latent Dimensions:** 16\n",
    "3. **BatchSize:** 32\n",
    "4. **Optimizer:** Adam\n",
    "\n"
   ]
  },
  {
   "cell_type": "code",
   "execution_count": 16,
   "metadata": {
    "id": "so5fMBttYe18"
   },
   "outputs": [],
   "source": [
    "LatentDims = 16\n",
    "Epochs = 40\n",
    "BatchSize = 32"
   ]
  },
  {
   "cell_type": "markdown",
   "metadata": {
    "id": "1fgFOgDpgGtI"
   },
   "source": [
    "#### Initialising Model"
   ]
  },
  {
   "cell_type": "code",
   "execution_count": 17,
   "metadata": {
    "id": "fEK57f2lgJ9V"
   },
   "outputs": [],
   "source": [
    "vae = VAE(LatentDims)\n",
    "vae.compile(optimizer=tf.keras.optimizers.Adam())"
   ]
  },
  {
   "cell_type": "markdown",
   "metadata": {
    "id": "qVg3Jorcsn3W"
   },
   "source": [
    "#### Training Model\n",
    "Training the  Model and Saving Weights"
   ]
  },
  {
   "cell_type": "code",
   "execution_count": null,
   "metadata": {
    "colab": {
     "base_uri": "https://localhost:8080/"
    },
    "id": "sBopQZj3sm-g",
    "outputId": "77799050-7bae-4d9b-e89d-bc24875d0d4d"
   },
   "outputs": [
    {
     "name": "stdout",
     "output_type": "stream",
     "text": [
      "Epoch 1/40\n",
      "1875/1875 [==============================] - 6s 3ms/step - Loss: 30.7264 - Reconstruction Loss: 22.4140 - KL-Divergence: 8.3124\n",
      "Epoch 2/40\n",
      "1875/1875 [==============================] - 6s 3ms/step - Loss: 22.7233 - Reconstruction Loss: 12.5850 - KL-Divergence: 10.1383\n",
      "Epoch 3/40\n",
      "1875/1875 [==============================] - 6s 3ms/step - Loss: 21.9460 - Reconstruction Loss: 11.7209 - KL-Divergence: 10.2251\n",
      "Epoch 4/40\n",
      "1875/1875 [==============================] - 6s 3ms/step - Loss: 21.4897 - Reconstruction Loss: 11.2594 - KL-Divergence: 10.2303\n",
      "Epoch 5/40\n",
      "1875/1875 [==============================] - 6s 3ms/step - Loss: 21.1872 - Reconstruction Loss: 10.9628 - KL-Divergence: 10.2244\n",
      "Epoch 6/40\n",
      "1875/1875 [==============================] - 6s 3ms/step - Loss: 20.9881 - Reconstruction Loss: 10.7567 - KL-Divergence: 10.2314\n",
      "Epoch 7/40\n",
      "1875/1875 [==============================] - 6s 3ms/step - Loss: 20.7947 - Reconstruction Loss: 10.5792 - KL-Divergence: 10.2155\n",
      "Epoch 8/40\n",
      "1875/1875 [==============================] - 6s 3ms/step - Loss: 20.6651 - Reconstruction Loss: 10.4541 - KL-Divergence: 10.2111\n",
      "Epoch 9/40\n",
      "1875/1875 [==============================] - 6s 3ms/step - Loss: 20.5324 - Reconstruction Loss: 10.3364 - KL-Divergence: 10.1960\n",
      "Epoch 10/40\n",
      "1875/1875 [==============================] - 6s 3ms/step - Loss: 20.4334 - Reconstruction Loss: 10.2379 - KL-Divergence: 10.1956\n",
      "Epoch 11/40\n",
      "1875/1875 [==============================] - 6s 3ms/step - Loss: 20.3521 - Reconstruction Loss: 10.1608 - KL-Divergence: 10.1912\n",
      "Epoch 12/40\n",
      "1875/1875 [==============================] - 6s 3ms/step - Loss: 20.2772 - Reconstruction Loss: 10.0996 - KL-Divergence: 10.1777\n",
      "Epoch 13/40\n",
      "1875/1875 [==============================] - 6s 3ms/step - Loss: 20.1891 - Reconstruction Loss: 10.0209 - KL-Divergence: 10.1682\n",
      "Epoch 14/40\n",
      "1875/1875 [==============================] - 6s 3ms/step - Loss: 20.1344 - Reconstruction Loss: 9.9721 - KL-Divergence: 10.1623\n",
      "Epoch 15/40\n",
      "1875/1875 [==============================] - 6s 3ms/step - Loss: 20.0694 - Reconstruction Loss: 9.9275 - KL-Divergence: 10.1419\n",
      "Epoch 16/40\n",
      "1875/1875 [==============================] - 6s 3ms/step - Loss: 20.0219 - Reconstruction Loss: 9.8755 - KL-Divergence: 10.1464\n",
      "Epoch 17/40\n",
      "1875/1875 [==============================] - 6s 3ms/step - Loss: 19.9459 - Reconstruction Loss: 9.8233 - KL-Divergence: 10.1226\n",
      "Epoch 18/40\n",
      "1875/1875 [==============================] - 6s 3ms/step - Loss: 19.9251 - Reconstruction Loss: 9.7997 - KL-Divergence: 10.1254\n",
      "Epoch 19/40\n",
      "1875/1875 [==============================] - 6s 3ms/step - Loss: 19.8862 - Reconstruction Loss: 9.7636 - KL-Divergence: 10.1226\n",
      "Epoch 20/40\n",
      "1875/1875 [==============================] - 6s 3ms/step - Loss: 19.8460 - Reconstruction Loss: 9.7373 - KL-Divergence: 10.1087\n",
      "Epoch 21/40\n",
      "1875/1875 [==============================] - 6s 3ms/step - Loss: 19.7977 - Reconstruction Loss: 9.6934 - KL-Divergence: 10.1043\n",
      "Epoch 22/40\n",
      "1875/1875 [==============================] - 6s 3ms/step - Loss: 19.7733 - Reconstruction Loss: 9.6837 - KL-Divergence: 10.0896\n",
      "Epoch 23/40\n",
      "1875/1875 [==============================] - 6s 3ms/step - Loss: 19.7469 - Reconstruction Loss: 9.6389 - KL-Divergence: 10.1080\n",
      "Epoch 24/40\n",
      "1875/1875 [==============================] - 6s 3ms/step - Loss: 19.7158 - Reconstruction Loss: 9.6180 - KL-Divergence: 10.0977\n",
      "Epoch 25/40\n",
      "1875/1875 [==============================] - 6s 3ms/step - Loss: 19.6898 - Reconstruction Loss: 9.5953 - KL-Divergence: 10.0945\n",
      "Epoch 26/40\n",
      "1875/1875 [==============================] - 6s 3ms/step - Loss: 19.6498 - Reconstruction Loss: 9.5616 - KL-Divergence: 10.0882\n",
      "Epoch 27/40\n",
      "1875/1875 [==============================] - 6s 3ms/step - Loss: 19.6252 - Reconstruction Loss: 9.5478 - KL-Divergence: 10.0775\n",
      "Epoch 28/40\n",
      "1875/1875 [==============================] - 6s 3ms/step - Loss: 19.6087 - Reconstruction Loss: 9.5450 - KL-Divergence: 10.0636\n",
      "Epoch 29/40\n",
      "1875/1875 [==============================] - 6s 3ms/step - Loss: 19.5946 - Reconstruction Loss: 9.5159 - KL-Divergence: 10.0787\n",
      "Epoch 30/40\n",
      "1875/1875 [==============================] - 6s 3ms/step - Loss: 19.5607 - Reconstruction Loss: 9.5022 - KL-Divergence: 10.0585\n",
      "Epoch 31/40\n",
      "1875/1875 [==============================] - 6s 3ms/step - Loss: 19.5307 - Reconstruction Loss: 9.4703 - KL-Divergence: 10.0604\n",
      "Epoch 32/40\n",
      "1875/1875 [==============================] - 6s 3ms/step - Loss: 19.5292 - Reconstruction Loss: 9.4723 - KL-Divergence: 10.0569\n",
      "Epoch 33/40\n",
      "1875/1875 [==============================] - 6s 3ms/step - Loss: 19.4894 - Reconstruction Loss: 9.4373 - KL-Divergence: 10.0522\n",
      "Epoch 34/40\n",
      "1875/1875 [==============================] - 6s 3ms/step - Loss: 19.4835 - Reconstruction Loss: 9.4335 - KL-Divergence: 10.0500\n",
      "Epoch 35/40\n",
      "1875/1875 [==============================] - 6s 3ms/step - Loss: 19.4738 - Reconstruction Loss: 9.4181 - KL-Divergence: 10.0556\n",
      "Epoch 36/40\n",
      "1875/1875 [==============================] - 6s 3ms/step - Loss: 19.4385 - Reconstruction Loss: 9.3843 - KL-Divergence: 10.0543\n",
      "Epoch 37/40\n",
      "1875/1875 [==============================] - 6s 3ms/step - Loss: 19.4398 - Reconstruction Loss: 9.3989 - KL-Divergence: 10.0409\n",
      "Epoch 38/40\n",
      "1875/1875 [==============================] - 6s 3ms/step - Loss: 19.4273 - Reconstruction Loss: 9.3747 - KL-Divergence: 10.0527\n",
      "Epoch 39/40\n",
      "1875/1875 [==============================] - 6s 3ms/step - Loss: 19.3899 - Reconstruction Loss: 9.3537 - KL-Divergence: 10.0362\n",
      "Epoch 40/40\n",
      "1875/1875 [==============================] - 6s 3ms/step - Loss: 19.3876 - Reconstruction Loss: 9.3524 - KL-Divergence: 10.0352\n"
     ]
    }
   ],
   "source": [
    "history = vae.fit(ImageData, epochs=Epochs, batch_size=BatchSize)\n",
    "vae.save_weights(\"Weights/VAE/\")"
   ]
  },
  {
   "cell_type": "markdown",
   "metadata": {
    "id": "cDrZ2emqZSsQ"
   },
   "source": [
    "#### Results\n",
    "\n",
    "Generating Results for Random Images of Dataset."
   ]
  },
  {
   "cell_type": "code",
   "execution_count": 18,
   "metadata": {
    "colab": {
     "base_uri": "https://localhost:8080/",
     "height": 318
    },
    "id": "ybVxxGqcZF5N",
    "outputId": "6a3d1861-1eec-4ed3-95ff-1ec05d395a43"
   },
   "outputs": [
    {
     "data": {
      "image/png": "[encoded data removed]",
      "text/plain": [
       "<Figure size 720x720 with 2 Axes>"
      ]
     },
     "metadata": {},
     "output_type": "display_data"
    }
   ],
   "source": [
    "vae.load_weights(\"Weights/VAE/\")\n",
    "i = np.random.randint(0,Data.shape[0]-1)\n",
    "I = ImageData[i,:,:,0]\n",
    "O = vae.predict(I.reshape(1,28,28,1))\n",
    "O = O.reshape(28,28)\n",
    "\n",
    "plt.figure(figsize=(10,10))\n",
    "plt.subplot(1,2,1)\n",
    "plt.title('Input to VAE')\n",
    "plt.imshow(I,cmap='gray')\n",
    "plt.subplot(1,2,2)\n",
    "plt.title('Output of VAE')\n",
    "plt.imshow(O,cmap='gray')\n",
    "plt.show()"
   ]
  }
 ],
 "metadata": {
  "accelerator": "GPU",
  "colab": {
   "collapsed_sections": [
    "wLZR9DiKeBKP",
    "OrzRNwhUeBKQ",
    "Ezbzi89heBKV",
    "9CTSdXL5eBKj",
    "Az0A_KpZeBKt"
   ],
   "name": "HW2.ipynb",
   "provenance": []
  },
  "kernelspec": {
   "display_name": "Python 3",
   "language": "python",
   "name": "python3"
  },
  "language_info": {
   "codemirror_mode": {
    "name": "ipython",
    "version": 3
   },
   "file_extension": ".py",
   "mimetype": "text/x-python",
   "name": "python",
   "nbconvert_exporter": "python",
   "pygments_lexer": "ipython3",
   "version": "3.6.9"
  }
 },
 "nbformat": 4,
 "nbformat_minor": 1
}
